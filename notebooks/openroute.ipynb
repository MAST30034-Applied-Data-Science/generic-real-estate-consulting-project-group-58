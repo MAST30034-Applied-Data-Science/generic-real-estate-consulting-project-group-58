{
 "cells": [
  {
   "cell_type": "code",
   "execution_count": 1,
   "metadata": {},
   "outputs": [],
   "source": [
    "import openrouteservice as ors\n",
    "import folium"
   ]
  },
  {
   "cell_type": "code",
   "execution_count": 2,
   "metadata": {},
   "outputs": [],
   "source": [
    "ors_key = \"5b3ce3597851110001cf624852ff1ab2e1224e1d9d57e2ad0f541f1a\""
   ]
  },
  {
   "cell_type": "code",
   "execution_count": 3,
   "metadata": {},
   "outputs": [],
   "source": [
    "client = ors.Client(key=ors_key)"
   ]
  },
  {
   "cell_type": "code",
   "execution_count": 4,
   "metadata": {},
   "outputs": [],
   "source": [
    "# lat, lon\n",
    "# [145.1255,-37.7869] doncaster westfield\n",
    "# [144.9637, -37.7982] peterhall\n",
    "coor = [[145.1255,-37.7869],[144.9628,-37.8102]] # westfield to melb central"
   ]
  },
  {
   "cell_type": "code",
   "execution_count": 5,
   "metadata": {},
   "outputs": [
    {
     "data": {
      "text/plain": [
       "<folium.map.LayerControl at 0x7faee7b31580>"
      ]
     },
     "execution_count": 5,
     "metadata": {},
     "output_type": "execute_result"
    }
   ],
   "source": [
    "route = client.directions(coordinates=coor, profile='driving-car',format='geojson')\n",
    "map_diretions = folium.Map(location=[-37.81,144.96], tiles=\"Stamen Terrain\", zoom_start=10)\n",
    "folium.GeoJson(route, name='route').add_to(map_diretions)\n",
    "folium.LayerControl().add_to(map_diretions)"
   ]
  },
  {
   "cell_type": "code",
   "execution_count": 6,
   "metadata": {},
   "outputs": [
    {
     "data": {
      "text/html": [
       "<div style=\"width:100%;\"><div style=\"position:relative;width:100%;height:0;padding-bottom:60%;\"><span style=\"color:#565656\">Make this Notebook Trusted to load map: File -> Trust Notebook</span><iframe srcdoc=\"&lt;!DOCTYPE html&gt;\n",
       "&lt;head&gt;    \n",
       "    &lt;meta http-equiv=&quot;content-type&quot; content=&quot;text/html; charset=UTF-8&quot; /&gt;\n",
       "    \n",
       "        &lt;script&gt;\n",
       "            L_NO_TOUCH = false;\n",
       "            L_DISABLE_3D = false;\n",
       "        &lt;/script&gt;\n",
       "    \n",
       "    &lt;style&gt;html, body {width: 100%;height: 100%;margin: 0;padding: 0;}&lt;/style&gt;\n",
       "    &lt;style&gt;#map {position:absolute;top:0;bottom:0;right:0;left:0;}&lt;/style&gt;\n",
       "    &lt;script src=&quot;https://cdn.jsdelivr.net/npm/leaflet@1.6.0/dist/leaflet.js&quot;&gt;&lt;/script&gt;\n",
       "    &lt;script src=&quot;https://code.jquery.com/jquery-1.12.4.min.js&quot;&gt;&lt;/script&gt;\n",
       "    &lt;script src=&quot;https://maxcdn.bootstrapcdn.com/bootstrap/3.2.0/js/bootstrap.min.js&quot;&gt;&lt;/script&gt;\n",
       "    &lt;script src=&quot;https://cdnjs.cloudflare.com/ajax/libs/Leaflet.awesome-markers/2.0.2/leaflet.awesome-markers.js&quot;&gt;&lt;/script&gt;\n",
       "    &lt;link rel=&quot;stylesheet&quot; href=&quot;https://cdn.jsdelivr.net/npm/leaflet@1.6.0/dist/leaflet.css&quot;/&gt;\n",
       "    &lt;link rel=&quot;stylesheet&quot; href=&quot;https://maxcdn.bootstrapcdn.com/bootstrap/3.2.0/css/bootstrap.min.css&quot;/&gt;\n",
       "    &lt;link rel=&quot;stylesheet&quot; href=&quot;https://maxcdn.bootstrapcdn.com/bootstrap/3.2.0/css/bootstrap-theme.min.css&quot;/&gt;\n",
       "    &lt;link rel=&quot;stylesheet&quot; href=&quot;https://maxcdn.bootstrapcdn.com/font-awesome/4.6.3/css/font-awesome.min.css&quot;/&gt;\n",
       "    &lt;link rel=&quot;stylesheet&quot; href=&quot;https://cdnjs.cloudflare.com/ajax/libs/Leaflet.awesome-markers/2.0.2/leaflet.awesome-markers.css&quot;/&gt;\n",
       "    &lt;link rel=&quot;stylesheet&quot; href=&quot;https://cdn.jsdelivr.net/gh/python-visualization/folium/folium/templates/leaflet.awesome.rotate.min.css&quot;/&gt;\n",
       "    \n",
       "            &lt;meta name=&quot;viewport&quot; content=&quot;width=device-width,\n",
       "                initial-scale=1.0, maximum-scale=1.0, user-scalable=no&quot; /&gt;\n",
       "            &lt;style&gt;\n",
       "                #map_6c3249170d6079ee3b59d6bcef6b4d63 {\n",
       "                    position: relative;\n",
       "                    width: 100.0%;\n",
       "                    height: 100.0%;\n",
       "                    left: 0.0%;\n",
       "                    top: 0.0%;\n",
       "                }\n",
       "            &lt;/style&gt;\n",
       "        \n",
       "&lt;/head&gt;\n",
       "&lt;body&gt;    \n",
       "    \n",
       "            &lt;div class=&quot;folium-map&quot; id=&quot;map_6c3249170d6079ee3b59d6bcef6b4d63&quot; &gt;&lt;/div&gt;\n",
       "        \n",
       "&lt;/body&gt;\n",
       "&lt;script&gt;    \n",
       "    \n",
       "            var map_6c3249170d6079ee3b59d6bcef6b4d63 = L.map(\n",
       "                &quot;map_6c3249170d6079ee3b59d6bcef6b4d63&quot;,\n",
       "                {\n",
       "                    center: [-37.81, 144.96],\n",
       "                    crs: L.CRS.EPSG3857,\n",
       "                    zoom: 10,\n",
       "                    zoomControl: true,\n",
       "                    preferCanvas: false,\n",
       "                }\n",
       "            );\n",
       "\n",
       "            \n",
       "\n",
       "        \n",
       "    \n",
       "            var tile_layer_0cc3d498f49f4b97ba122e3d10adeb63 = L.tileLayer(\n",
       "                &quot;https://stamen-tiles-{s}.a.ssl.fastly.net/terrain/{z}/{x}/{y}.jpg&quot;,\n",
       "                {&quot;attribution&quot;: &quot;Map tiles by \\u003ca href=\\&quot;http://stamen.com\\&quot;\\u003eStamen Design\\u003c/a\\u003e, under \\u003ca href=\\&quot;http://creativecommons.org/licenses/by/3.0\\&quot;\\u003eCC BY 3.0\\u003c/a\\u003e. Data by \\u0026copy; \\u003ca href=\\&quot;http://openstreetmap.org\\&quot;\\u003eOpenStreetMap\\u003c/a\\u003e, under \\u003ca href=\\&quot;http://creativecommons.org/licenses/by-sa/3.0\\&quot;\\u003eCC BY SA\\u003c/a\\u003e.&quot;, &quot;detectRetina&quot;: false, &quot;maxNativeZoom&quot;: 18, &quot;maxZoom&quot;: 18, &quot;minZoom&quot;: 0, &quot;noWrap&quot;: false, &quot;opacity&quot;: 1, &quot;subdomains&quot;: &quot;abc&quot;, &quot;tms&quot;: false}\n",
       "            ).addTo(map_6c3249170d6079ee3b59d6bcef6b4d63);\n",
       "        \n",
       "    \n",
       "\n",
       "        function geo_json_8f599bbd254204f54ef82ddf044d7e68_onEachFeature(feature, layer) {\n",
       "            layer.on({\n",
       "            });\n",
       "        };\n",
       "        var geo_json_8f599bbd254204f54ef82ddf044d7e68 = L.geoJson(null, {\n",
       "                onEachFeature: geo_json_8f599bbd254204f54ef82ddf044d7e68_onEachFeature,\n",
       "            \n",
       "        });\n",
       "\n",
       "        function geo_json_8f599bbd254204f54ef82ddf044d7e68_add (data) {\n",
       "            geo_json_8f599bbd254204f54ef82ddf044d7e68\n",
       "                .addData(data)\n",
       "                .addTo(map_6c3249170d6079ee3b59d6bcef6b4d63);\n",
       "        }\n",
       "            geo_json_8f599bbd254204f54ef82ddf044d7e68_add({&quot;bbox&quot;: [144.962691, -37.809965, 145.126863, -37.77976], &quot;features&quot;: [{&quot;bbox&quot;: [144.962691, -37.809965, 145.126863, -37.77976], &quot;geometry&quot;: {&quot;coordinates&quot;: [[145.125154, -37.787139], [145.125225, -37.787202], [145.125381, -37.787266], [145.12546, -37.787277], [145.125811, -37.787263], [145.125828, -37.787262], [145.126264, -37.787238], [145.126552, -37.787231], [145.126707, -37.787229], [145.126863, -37.787233], [145.126855, -37.787366], [145.125889, -37.787398], [145.125793, -37.787401], [145.125155, -37.787464], [145.125121, -37.787467], [145.124987, -37.787481], [145.124753, -37.787508], [145.124625, -37.787521], [145.124456, -37.787539], [145.124132, -37.787569], [145.124031, -37.787603], [145.12388, -37.787669], [145.123801, -37.787738], [145.123756, -37.787816], [145.12374, -37.787874], [145.123692, -37.788233], [145.123632, -37.788456], [145.123614, -37.788498], [145.12361, -37.788525], [145.12362, -37.788545], [145.123647, -37.788577], [145.123672, -37.788589], [145.123649, -37.78859], [145.123616, -37.788598], [145.1236, -37.788616], [145.12356, -37.788771], [145.123545, -37.788837], [145.123527, -37.788896], [145.123493, -37.788989], [145.123328, -37.789358], [145.122826, -37.79028], [145.122534, -37.790813], [145.122488, -37.790898], [145.122385, -37.791088], [145.122067, -37.791672], [145.121639, -37.792439], [145.121494, -37.792681], [145.121121, -37.7932], [145.120676, -37.793781], [145.120389, -37.794145], [145.119629, -37.794845], [145.11942, -37.795037], [145.119331, -37.795145], [145.118924, -37.795704], [145.118838, -37.795836], [145.118761, -37.795967], [145.118691, -37.796086], [145.118617, -37.79623], [145.118496, -37.79649], [145.118464, -37.796515], [145.11841, -37.796536], [145.118354, -37.796536], [145.118323, -37.796532], [145.118309, -37.796529], [145.117539, -37.796283], [145.117245, -37.796194], [145.116968, -37.796095], [145.116733, -37.796021], [145.11622, -37.795835], [145.115627, -37.795666], [145.115095, -37.795537], [145.113611, -37.795233], [145.112907, -37.795073], [145.112575, -37.795014], [145.111695, -37.79478], [145.110861, -37.794504], [145.109784, -37.794047], [145.108783, -37.793481], [145.106506, -37.791883], [145.103005, -37.788887], [145.102712, -37.788637], [145.102471, -37.78843], [145.101923, -37.787929], [145.10139, -37.787363], [145.101137, -37.787049], [145.100957, -37.786806], [145.100583, -37.786198], [145.100146, -37.785378], [145.099884, -37.784747], [145.099456, -37.783352], [145.099177, -37.782622], [145.098947, -37.782181], [145.09857, -37.781683], [145.098189, -37.78126], [145.097717, -37.780881], [145.097279, -37.780609], [145.096739, -37.780331], [145.096095, -37.780094], [145.095443, -37.779917], [145.094833, -37.779822], [145.094335, -37.779782], [145.093906, -37.779761], [145.093249, -37.77976], [145.089779, -37.779961], [145.088322, -37.780004], [145.086661, -37.780016], [145.085106, -37.779961], [145.082338, -37.779905], [145.081659, -37.77989], [145.081034, -37.779923], [145.080288, -37.780011], [145.079553, -37.780148], [145.078829, -37.780345], [145.07658, -37.781117], [145.072522, -37.783114], [145.071703, -37.783441], [145.070973, -37.783702], [145.070132, -37.783954], [145.069183, -37.784186], [145.068156, -37.784389], [145.067389, -37.784499], [145.066506, -37.78459], [145.06464, -37.78473], [145.063846, -37.784805], [145.062924, -37.78491], [145.062781, -37.784934], [145.062065, -37.785054], [145.061375, -37.785207], [145.060522, -37.785469], [145.059714, -37.785789], [145.058959, -37.786156], [145.058175, -37.786613], [145.056459, -37.787815], [145.054149, -37.78943], [145.053235, -37.789936], [145.052149, -37.790441], [145.051055, -37.790798], [145.050648, -37.790901], [145.050093, -37.791017], [145.049564, -37.791105], [145.048886, -37.791191], [145.048368, -37.79122], [145.047808, -37.791221], [145.047269, -37.791184], [145.04406, -37.790844], [145.043106, -37.790769], [145.042263, -37.790724], [145.040161, -37.790655], [145.039085, -37.790654], [145.033437, -37.790857], [145.032737, -37.790909], [145.029406, -37.791306], [145.028295, -37.791417], [145.027045, -37.791525], [145.026203, -37.791565], [145.024908, -37.791593], [145.022851, -37.791539], [145.022282, -37.791504], [145.021982, -37.79149], [145.019607, -37.791274], [145.0195, -37.791265], [145.018708, -37.791211], [145.017927, -37.791195], [145.017091, -37.791204], [145.016158, -37.791245], [145.01503, -37.791357], [145.014006, -37.791533], [145.013014, -37.791745], [145.012135, -37.791986], [145.011017, -37.7923], [145.009217, -37.792918], [145.008277, -37.79325], [145.005781, -37.794122], [145.005309, -37.794288], [145.004096, -37.794712], [145.002839, -37.795089], [145.001662, -37.795355], [145.001301, -37.795426], [145.000927, -37.795506], [145.000862, -37.795519], [145.000243, -37.795618], [145.000019, -37.795647], [144.99936, -37.795711], [144.99867, -37.795756], [144.997881, -37.795772], [144.997104, -37.79575], [144.996041, -37.795668], [144.995631, -37.795632], [144.994247, -37.795476], [144.993158, -37.795377], [144.992982, -37.795358], [144.992511, -37.795296], [144.991974, -37.79519], [144.991751, -37.795124], [144.991476, -37.79502], [144.990777, -37.794734], [144.99061, -37.794683], [144.990453, -37.794645], [144.990225, -37.794603], [144.990151, -37.794592], [144.989868, -37.794553], [144.98969, -37.794533], [144.989598, -37.794527], [144.989113, -37.794476], [144.988663, -37.794428], [144.98859, -37.794779], [144.988136, -37.794731], [144.98806, -37.795164], [144.987979, -37.795667], [144.987852, -37.796499], [144.987748, -37.797117], [144.987735, -37.797195], [144.987683, -37.797505], [144.98762, -37.797877], [144.987595, -37.798016], [144.987543, -37.798083], [144.987461, -37.798563], [144.987397, -37.798932], [144.987348, -37.799218], [144.98734, -37.799269], [144.987316, -37.799411], [144.987231, -37.799908], [144.987186, -37.800166], [144.987116, -37.800584], [144.987046, -37.801001], [144.98704, -37.801032], [144.987004, -37.801226], [144.986979, -37.801363], [144.986959, -37.801505], [144.986932, -37.801646], [144.986883, -37.801938], [144.986818, -37.802332], [144.986628, -37.803445], [144.986584, -37.803704], [144.986522, -37.804071], [144.98647, -37.804381], [144.986461, -37.804427], [144.986452, -37.80448], [144.986359, -37.804844], [144.986291, -37.805226], [144.986276, -37.80532], [144.986245, -37.805501], [144.986231, -37.805582], [144.986133, -37.806152], [144.986083, -37.806509], [144.9861, -37.806538], [144.98609, -37.806595], [144.986083, -37.806642], [144.986079, -37.806667], [144.986035, -37.806943], [144.986005, -37.807106], [144.985973, -37.807291], [144.98594, -37.807483], [144.985843, -37.808045], [144.985823, -37.808157], [144.985687, -37.808942], [144.985659, -37.809045], [144.985641, -37.809124], [144.9856, -37.809401], [144.985592, -37.809457], [144.985357, -37.809431], [144.983892, -37.809267], [144.983826, -37.809257], [144.983668, -37.809236], [144.983584, -37.809229], [144.982631, -37.809135], [144.982536, -37.809124], [144.982365, -37.809106], [144.981783, -37.809043], [144.981123, -37.80897], [144.978708, -37.808709], [144.978667, -37.808704], [144.978569, -37.808693], [144.978466, -37.808682], [144.978372, -37.808672], [144.976872, -37.808514], [144.976785, -37.808505], [144.976205, -37.808447], [144.975998, -37.808425], [144.97582, -37.808409], [144.975743, -37.808402], [144.975637, -37.808392], [144.975502, -37.808376], [144.97539, -37.808357], [144.975272, -37.808334], [144.9752, -37.808319], [144.975117, -37.808306], [144.975024, -37.808294], [144.974701, -37.808255], [144.974336, -37.808212], [144.97417, -37.808193], [144.973329, -37.808123], [144.973243, -37.808114], [144.973208, -37.80811], [144.973116, -37.8081], [144.973065, -37.808094], [144.972974, -37.808083], [144.972068, -37.807981], [144.971988, -37.80797], [144.971817, -37.807935], [144.9714, -37.807818], [144.971208, -37.807752], [144.971095, -37.80772], [144.970983, -37.807702], [144.970823, -37.807679], [144.970696, -37.807681], [144.970226, -37.807769], [144.9699, -37.807864], [144.969218, -37.808067], [144.968982, -37.808136], [144.968943, -37.808147], [144.968848, -37.808175], [144.968714, -37.808215], [144.968643, -37.808235], [144.968594, -37.808249], [144.967974, -37.808429], [144.967578, -37.808544], [144.966744, -37.808787], [144.966714, -37.808796], [144.966493, -37.80886], [144.966465, -37.808868], [144.966396, -37.808888], [144.966257, -37.808928], [144.966175, -37.808952], [144.966146, -37.80896], [144.964622, -37.809404], [144.964035, -37.809573], [144.963991, -37.809586], [144.963884, -37.809618], [144.963868, -37.809623], [144.963832, -37.809634], [144.963816, -37.809638], [144.963707, -37.80967], [144.963647, -37.809687], [144.962691, -37.809965]], &quot;type&quot;: &quot;LineString&quot;}, &quot;properties&quot;: {&quot;segments&quot;: [{&quot;distance&quot;: 18084.9, &quot;duration&quot;: 1217.3, &quot;steps&quot;: [{&quot;distance&quot;: 155.8, &quot;duration&quot;: 22.4, &quot;instruction&quot;: &quot;Head southeast&quot;, &quot;name&quot;: &quot;-&quot;, &quot;type&quot;: 11, &quot;way_points&quot;: [0, 9]}, {&quot;distance&quot;: 108.2, &quot;duration&quot;: 13.3, &quot;instruction&quot;: &quot;Continue straight onto Doncaster Road, 36, 40&quot;, &quot;name&quot;: &quot;Doncaster Road, 36, 40&quot;, &quot;type&quot;: 6, &quot;way_points&quot;: [9, 12]}, {&quot;distance&quot;: 147.2, &quot;duration&quot;: 31.0, &quot;instruction&quot;: &quot;Continue straight onto Doncaster Road, 36, 40&quot;, &quot;name&quot;: &quot;Doncaster Road, 36, 40&quot;, &quot;type&quot;: 6, &quot;way_points&quot;: [12, 19]}, {&quot;distance&quot;: 124.8, &quot;duration&quot;: 20.5, &quot;instruction&quot;: &quot;Keep left&quot;, &quot;name&quot;: &quot;-&quot;, &quot;type&quot;: 12, &quot;way_points&quot;: [19, 28]}, {&quot;distance&quot;: 9.3, &quot;duration&quot;: 1.3, &quot;instruction&quot;: &quot;Keep left onto Elgar Court&quot;, &quot;name&quot;: &quot;Elgar Court&quot;, &quot;type&quot;: 12, &quot;way_points&quot;: [28, 31]}, {&quot;distance&quot;: 7.6, &quot;duration&quot;: 1.1, &quot;instruction&quot;: &quot;Turn sharp right onto Elgar Court&quot;, &quot;name&quot;: &quot;Elgar Court&quot;, &quot;type&quot;: 3, &quot;way_points&quot;: [31, 34]}, {&quot;distance&quot;: 272.6, &quot;duration&quot;: 25.0, &quot;instruction&quot;: &quot;Turn slight left onto Elgar Road, B970&quot;, &quot;name&quot;: &quot;Elgar Road, B970&quot;, &quot;type&quot;: 4, &quot;way_points&quot;: [34, 42]}, {&quot;distance&quot;: 718.3, &quot;duration&quot;: 71.5, &quot;instruction&quot;: &quot;Continue straight onto Elgar Road, B970&quot;, &quot;name&quot;: &quot;Elgar Road, B970&quot;, &quot;type&quot;: 6, &quot;way_points&quot;: [42, 58]}, {&quot;distance&quot;: 3808.6, &quot;duration&quot;: 171.3, &quot;instruction&quot;: &quot;Keep right&quot;, &quot;name&quot;: &quot;-&quot;, &quot;type&quot;: 13, &quot;way_points&quot;: [58, 106]}, {&quot;distance&quot;: 4873.8, &quot;duration&quot;: 195.0, &quot;instruction&quot;: &quot;Keep right onto Eastern Freeway, M3&quot;, &quot;name&quot;: &quot;Eastern Freeway, M3&quot;, &quot;type&quot;: 13, &quot;way_points&quot;: [106, 149]}, {&quot;distance&quot;: 4051.1, &quot;duration&quot;: 193.4, &quot;instruction&quot;: &quot;Continue straight onto Eastern Freeway, M3&quot;, &quot;name&quot;: &quot;Eastern Freeway, M3&quot;, &quot;type&quot;: 6, &quot;way_points&quot;: [149, 204]}, {&quot;distance&quot;: 39.6, &quot;duration&quot;: 7.1, &quot;instruction&quot;: &quot;Turn left&quot;, &quot;name&quot;: &quot;-&quot;, &quot;type&quot;: 0, &quot;way_points&quot;: [204, 205]}, {&quot;distance&quot;: 40.2, &quot;duration&quot;: 7.2, &quot;instruction&quot;: &quot;Turn right&quot;, &quot;name&quot;: &quot;-&quot;, &quot;type&quot;: 1, &quot;way_points&quot;: [205, 206]}, {&quot;distance&quot;: 377.2, &quot;duration&quot;: 54.3, &quot;instruction&quot;: &quot;Turn left onto Wellington Street&quot;, &quot;name&quot;: &quot;Wellington Street&quot;, &quot;type&quot;: 0, &quot;way_points&quot;: [206, 215]}, {&quot;distance&quot;: 1277.0, &quot;duration&quot;: 144.9, &quot;instruction&quot;: &quot;Turn slight left onto Wellington Street&quot;, &quot;name&quot;: &quot;Wellington Street&quot;, &quot;type&quot;: 4, &quot;way_points&quot;: [215, 259]}, {&quot;distance&quot;: 832.3, &quot;duration&quot;: 77.8, &quot;instruction&quot;: &quot;Turn right onto Victoria Parade, 32&quot;, &quot;name&quot;: &quot;Victoria Parade, 32&quot;, &quot;type&quot;: 1, &quot;way_points&quot;: [259, 277]}, {&quot;distance&quot;: 374.5, &quot;duration&quot;: 48.6, &quot;instruction&quot;: &quot;Continue straight onto Victoria Parade, 32&quot;, &quot;name&quot;: &quot;Victoria Parade, 32&quot;, &quot;type&quot;: 6, &quot;way_points&quot;: [277, 298]}, {&quot;distance&quot;: 83.3, &quot;duration&quot;: 12.0, &quot;instruction&quot;: &quot;Continue straight onto Victoria Parade, 32&quot;, &quot;name&quot;: &quot;Victoria Parade, 32&quot;, &quot;type&quot;: 6, &quot;way_points&quot;: [298, 302]}, {&quot;distance&quot;: 783.6, &quot;duration&quot;: 119.7, &quot;instruction&quot;: &quot;Keep left onto La Trobe Street&quot;, &quot;name&quot;: &quot;La Trobe Street&quot;, &quot;type&quot;: 12, &quot;way_points&quot;: [302, 334]}, {&quot;distance&quot;: 0.0, &quot;duration&quot;: 0.0, &quot;instruction&quot;: &quot;Arrive at La Trobe Street, on the left&quot;, &quot;name&quot;: &quot;-&quot;, &quot;type&quot;: 10, &quot;way_points&quot;: [334, 334]}]}], &quot;summary&quot;: {&quot;distance&quot;: 18084.9, &quot;duration&quot;: 1217.3}, &quot;way_points&quot;: [0, 334]}, &quot;type&quot;: &quot;Feature&quot;}], &quot;metadata&quot;: {&quot;attribution&quot;: &quot;openrouteservice.org | OpenStreetMap contributors&quot;, &quot;engine&quot;: {&quot;build_date&quot;: &quot;2022-02-18T19:37:41Z&quot;, &quot;graph_date&quot;: &quot;2022-09-04T14:30:21Z&quot;, &quot;version&quot;: &quot;6.7.0&quot;}, &quot;query&quot;: {&quot;coordinates&quot;: [[145.1255, -37.7869], [144.9628, -37.8102]], &quot;format&quot;: &quot;geojson&quot;, &quot;profile&quot;: &quot;driving-car&quot;}, &quot;service&quot;: &quot;routing&quot;, &quot;timestamp&quot;: 1663463575267}, &quot;type&quot;: &quot;FeatureCollection&quot;});\n",
       "\n",
       "        \n",
       "    \n",
       "            var layer_control_46fcabe32bda8dbe837a80ca165ee213 = {\n",
       "                base_layers : {\n",
       "                    &quot;stamenterrain&quot; : tile_layer_0cc3d498f49f4b97ba122e3d10adeb63,\n",
       "                },\n",
       "                overlays :  {\n",
       "                    &quot;route&quot; : geo_json_8f599bbd254204f54ef82ddf044d7e68,\n",
       "                },\n",
       "            };\n",
       "            L.control.layers(\n",
       "                layer_control_46fcabe32bda8dbe837a80ca165ee213.base_layers,\n",
       "                layer_control_46fcabe32bda8dbe837a80ca165ee213.overlays,\n",
       "                {&quot;autoZIndex&quot;: true, &quot;collapsed&quot;: true, &quot;position&quot;: &quot;topright&quot;}\n",
       "            ).addTo(map_6c3249170d6079ee3b59d6bcef6b4d63);\n",
       "        \n",
       "&lt;/script&gt;\" style=\"position:absolute;width:100%;height:100%;left:0;top:0;border:none !important;\" allowfullscreen webkitallowfullscreen mozallowfullscreen></iframe></div></div>"
      ],
      "text/plain": [
       "<folium.folium.Map at 0x7faee7b31eb0>"
      ]
     },
     "execution_count": 6,
     "metadata": {},
     "output_type": "execute_result"
    }
   ],
   "source": [
    "map_diretions"
   ]
  },
  {
   "cell_type": "code",
   "execution_count": 7,
   "metadata": {},
   "outputs": [
    {
     "name": "stdout",
     "output_type": "stream",
     "text": [
      "18.084849455236387 km\n",
      "20.288349564 min\n",
      "\n"
     ]
    }
   ],
   "source": [
    "print(route['features'][0]['properties']['segments'][0]['distance']*0.000621371*1.60934,'km')\n",
    "print(route['features'][0]['properties']['segments'][0]['duration']*0.000277778*60,'min\\n')"
   ]
  },
  {
   "cell_type": "code",
   "execution_count": null,
   "metadata": {},
   "outputs": [],
   "source": []
  },
  {
   "cell_type": "code",
   "execution_count": null,
   "metadata": {},
   "outputs": [],
   "source": []
  },
  {
   "cell_type": "code",
   "execution_count": null,
   "metadata": {},
   "outputs": [],
   "source": []
  }
 ],
 "metadata": {
  "kernelspec": {
   "display_name": "Python 3.9.2 64-bit",
   "language": "python",
   "name": "python3"
  },
  "language_info": {
   "codemirror_mode": {
    "name": "ipython",
    "version": 3
   },
   "file_extension": ".py",
   "mimetype": "text/x-python",
   "name": "python",
   "nbconvert_exporter": "python",
   "pygments_lexer": "ipython3",
   "version": "3.9.2"
  },
  "orig_nbformat": 4,
  "vscode": {
   "interpreter": {
    "hash": "aee8b7b246df8f9039afb4144a1f6fd8d2ca17a180786b69acc140d282b71a49"
   }
  }
 },
 "nbformat": 4,
 "nbformat_minor": 2
}
