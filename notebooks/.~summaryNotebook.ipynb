{
 "cells": [
  {
   "cell_type": "markdown",
   "metadata": {},
   "source": [
    "# MAST30034 Project 2 Summary Notebook"
   ]
  },
  {
   "cell_type": "code",
   "execution_count": 35,
   "metadata": {},
   "outputs": [],
   "source": [
    "import numpy as np\n",
    "import pandas as pd\n",
    "import matplotlib.pyplot as plt\n",
    "from PIL import Image"
   ]
  },
  {
   "cell_type": "markdown",
   "metadata": {},
   "source": [
    "## Data Collection"
   ]
  },
  {
   "cell_type": "markdown",
   "metadata": {},
   "source": [
    "### Main Data"
   ]
  },
  {
   "cell_type": "markdown",
   "metadata": {},
   "source": [
    "For Domain dataset, we scraped down data from VIC3000 to VIC3999 and finds 4033 valid instances."
   ]
  },
  {
   "cell_type": "markdown",
   "metadata": {},
   "source": [
    "For the external datasets, we extracted five main categories: Population; Schools; PTV; Income and Hospitals. "
   ]
  },
  {
   "cell_type": "markdown",
   "metadata": {},
   "source": [
    "### Preprocessing"
   ]
  },
  {
   "cell_type": "markdown",
   "metadata": {},
   "source": [
    "Firstly, we performed data cleaning, which includes removing or modifying missing data and None values. Then, we checked data with wrong format and content, after that, we removed unwanted data and unreasonable values, such as too high house prices that are not helpful for model analysis. Lastly, data smoothing was implemented, which deals with data outliers and allows the model to make better predictions. Finally, we aggregate all the external datasets together for training and testing purposes. We then split our datasets into training and testing categories with 20% cross validation."
   ]
  },
  {
   "cell_type": "markdown",
   "metadata": {},
   "source": [
    "It is worth mentioning that all of our raw data are divided by SA2, but in the subsequent analysis, suburbs with disparate postcodes are applied in order to match the properties from Domain. For features, the number of hospitals is counted per suburb in 2022. The number of schools is counted per suburb in 2022, as well as the number of stops for PTV including trains and trams. For population, the average growth rate and population in 2022 are recorded. For income, we predicted income in 2022 according to the average increasing rate from 2014 to 2017. Lastly, we calculate the distance from each property to Melbourne Central Station as one of our features."
   ]
  },
  {
   "cell_type": "markdown",
   "metadata": {},
   "source": [
    "The final data frame is shown below."
   ]
  },
  {
   "cell_type": "code",
   "execution_count": 41,
   "metadata": {},
   "outputs": [
    {
     "data": {
      "text/html": [
       "<div>\n",
       "<style scoped>\n",
       "    .dataframe tbody tr th:only-of-type {\n",
       "        vertical-align: middle;\n",
       "    }\n",
       "\n",
       "    .dataframe tbody tr th {\n",
       "        vertical-align: top;\n",
       "    }\n",
       "\n",
       "    .dataframe thead th {\n",
       "        text-align: right;\n",
       "    }\n",
       "</style>\n",
       "<table border=\"1\" class=\"dataframe\">\n",
       "  <thead>\n",
       "    <tr style=\"text-align: right;\">\n",
       "      <th></th>\n",
       "      <th>Unnamed: 0</th>\n",
       "      <th>index</th>\n",
       "      <th>name</th>\n",
       "      <th>Postcode</th>\n",
       "      <th>Prices</th>\n",
       "      <th>Bedrooms</th>\n",
       "      <th>Bathrooms</th>\n",
       "      <th>Parkings</th>\n",
       "      <th>geometry</th>\n",
       "      <th>SA2_code</th>\n",
       "      <th>Longitude</th>\n",
       "      <th>Latitude</th>\n",
       "      <th>popu2022</th>\n",
       "      <th>popu2025</th>\n",
       "      <th>Mean Income2022</th>\n",
       "      <th>Mean Income2025</th>\n",
       "      <th>hos_count</th>\n",
       "      <th>stop_count</th>\n",
       "      <th>school_count</th>\n",
       "      <th>distance</th>\n",
       "    </tr>\n",
       "  </thead>\n",
       "  <tbody>\n",
       "    <tr>\n",
       "      <th>0</th>\n",
       "      <td>0</td>\n",
       "      <td>0</td>\n",
       "      <td>811v/162 Albert Street East Melbourne VIC 3002</td>\n",
       "      <td>3002</td>\n",
       "      <td>600.0</td>\n",
       "      <td>2</td>\n",
       "      <td>1</td>\n",
       "      <td>1</td>\n",
       "      <td>POINT (144.9855313 -37.8100432)</td>\n",
       "      <td>206041119</td>\n",
       "      <td>-37.810043</td>\n",
       "      <td>144.985531</td>\n",
       "      <td>4965.66944</td>\n",
       "      <td>4555.306297</td>\n",
       "      <td>98664.943495</td>\n",
       "      <td>102957.654101</td>\n",
       "      <td>6.0</td>\n",
       "      <td>1.0</td>\n",
       "      <td>1.0</td>\n",
       "      <td>2.640393</td>\n",
       "    </tr>\n",
       "    <tr>\n",
       "      <th>1</th>\n",
       "      <td>1</td>\n",
       "      <td>1</td>\n",
       "      <td>PO9P/191 Powlett Street East Melbourne VIC 3002</td>\n",
       "      <td>3002</td>\n",
       "      <td>675.0</td>\n",
       "      <td>2</td>\n",
       "      <td>2</td>\n",
       "      <td>1</td>\n",
       "      <td>POINT (144.9860355 -37.8101099)</td>\n",
       "      <td>206041119</td>\n",
       "      <td>-37.810110</td>\n",
       "      <td>144.986036</td>\n",
       "      <td>4965.66944</td>\n",
       "      <td>4555.306297</td>\n",
       "      <td>98664.943495</td>\n",
       "      <td>102957.654101</td>\n",
       "      <td>6.0</td>\n",
       "      <td>1.0</td>\n",
       "      <td>1.0</td>\n",
       "      <td>2.127094</td>\n",
       "    </tr>\n",
       "    <tr>\n",
       "      <th>2</th>\n",
       "      <td>2</td>\n",
       "      <td>2</td>\n",
       "      <td>203/33 Cliveden Close East Melbourne VIC 3002</td>\n",
       "      <td>3002</td>\n",
       "      <td>380.0</td>\n",
       "      <td>1</td>\n",
       "      <td>1</td>\n",
       "      <td>1</td>\n",
       "      <td>POINT (144.9767157 -37.8171001)</td>\n",
       "      <td>206041119</td>\n",
       "      <td>-37.817100</td>\n",
       "      <td>144.976716</td>\n",
       "      <td>4965.66944</td>\n",
       "      <td>4555.306297</td>\n",
       "      <td>98664.943495</td>\n",
       "      <td>102957.654101</td>\n",
       "      <td>6.0</td>\n",
       "      <td>1.0</td>\n",
       "      <td>1.0</td>\n",
       "      <td>2.317094</td>\n",
       "    </tr>\n",
       "    <tr>\n",
       "      <th>3</th>\n",
       "      <td>3</td>\n",
       "      <td>3</td>\n",
       "      <td>9/322 Albert Street East Melbourne VIC 3002</td>\n",
       "      <td>3002</td>\n",
       "      <td>990.0</td>\n",
       "      <td>3</td>\n",
       "      <td>2</td>\n",
       "      <td>1</td>\n",
       "      <td>POINT (144.9802739 -37.8098404)</td>\n",
       "      <td>206041119</td>\n",
       "      <td>-37.809840</td>\n",
       "      <td>144.980274</td>\n",
       "      <td>4965.66944</td>\n",
       "      <td>4555.306297</td>\n",
       "      <td>98664.943495</td>\n",
       "      <td>102957.654101</td>\n",
       "      <td>6.0</td>\n",
       "      <td>1.0</td>\n",
       "      <td>1.0</td>\n",
       "      <td>1.993894</td>\n",
       "    </tr>\n",
       "    <tr>\n",
       "      <th>4</th>\n",
       "      <td>4</td>\n",
       "      <td>4</td>\n",
       "      <td>107K/211 Powlett Street East Melbourne VIC 3002</td>\n",
       "      <td>3002</td>\n",
       "      <td>550.0</td>\n",
       "      <td>1</td>\n",
       "      <td>1</td>\n",
       "      <td>1</td>\n",
       "      <td>POINT (144.9859936 -37.8096989)</td>\n",
       "      <td>206041119</td>\n",
       "      <td>-37.809699</td>\n",
       "      <td>144.985994</td>\n",
       "      <td>4965.66944</td>\n",
       "      <td>4555.306297</td>\n",
       "      <td>98664.943495</td>\n",
       "      <td>102957.654101</td>\n",
       "      <td>6.0</td>\n",
       "      <td>1.0</td>\n",
       "      <td>1.0</td>\n",
       "      <td>1.863595</td>\n",
       "    </tr>\n",
       "    <tr>\n",
       "      <th>...</th>\n",
       "      <td>...</td>\n",
       "      <td>...</td>\n",
       "      <td>...</td>\n",
       "      <td>...</td>\n",
       "      <td>...</td>\n",
       "      <td>...</td>\n",
       "      <td>...</td>\n",
       "      <td>...</td>\n",
       "      <td>...</td>\n",
       "      <td>...</td>\n",
       "      <td>...</td>\n",
       "      <td>...</td>\n",
       "      <td>...</td>\n",
       "      <td>...</td>\n",
       "      <td>...</td>\n",
       "      <td>...</td>\n",
       "      <td>...</td>\n",
       "      <td>...</td>\n",
       "      <td>...</td>\n",
       "      <td>...</td>\n",
       "    </tr>\n",
       "    <tr>\n",
       "      <th>4028</th>\n",
       "      <td>4028</td>\n",
       "      <td>4031</td>\n",
       "      <td>20 Knightsford Avenue Clyde VIC 3978</td>\n",
       "      <td>3978</td>\n",
       "      <td>500.0</td>\n",
       "      <td>4</td>\n",
       "      <td>2</td>\n",
       "      <td>2</td>\n",
       "      <td>POINT (145.3419799 -38.123332)</td>\n",
       "      <td>212031303</td>\n",
       "      <td>-38.123332</td>\n",
       "      <td>145.341980</td>\n",
       "      <td>17608.06316</td>\n",
       "      <td>28976.064322</td>\n",
       "      <td>71382.469390</td>\n",
       "      <td>79738.921375</td>\n",
       "      <td>0.0</td>\n",
       "      <td>0.0</td>\n",
       "      <td>5.0</td>\n",
       "      <td>55.767144</td>\n",
       "    </tr>\n",
       "    <tr>\n",
       "      <th>4029</th>\n",
       "      <td>4029</td>\n",
       "      <td>4032</td>\n",
       "      <td>6 Cecil Lane Clyde VIC 3978</td>\n",
       "      <td>3978</td>\n",
       "      <td>700.0</td>\n",
       "      <td>4</td>\n",
       "      <td>2</td>\n",
       "      <td>2</td>\n",
       "      <td>POINT (145.3280662 -38.1260928)</td>\n",
       "      <td>212031303</td>\n",
       "      <td>-38.126093</td>\n",
       "      <td>145.328066</td>\n",
       "      <td>17608.06316</td>\n",
       "      <td>28976.064322</td>\n",
       "      <td>71382.469390</td>\n",
       "      <td>79738.921375</td>\n",
       "      <td>0.0</td>\n",
       "      <td>0.0</td>\n",
       "      <td>5.0</td>\n",
       "      <td>53.621150</td>\n",
       "    </tr>\n",
       "    <tr>\n",
       "      <th>4030</th>\n",
       "      <td>4030</td>\n",
       "      <td>4033</td>\n",
       "      <td>43 Bellman Avenue Clyde VIC 3978</td>\n",
       "      <td>3978</td>\n",
       "      <td>450.0</td>\n",
       "      <td>3</td>\n",
       "      <td>2</td>\n",
       "      <td>2</td>\n",
       "      <td>POINT (145.3401184 -38.1237646)</td>\n",
       "      <td>212031303</td>\n",
       "      <td>-38.123765</td>\n",
       "      <td>145.340118</td>\n",
       "      <td>17608.06316</td>\n",
       "      <td>28976.064322</td>\n",
       "      <td>71382.469390</td>\n",
       "      <td>79738.921375</td>\n",
       "      <td>0.0</td>\n",
       "      <td>0.0</td>\n",
       "      <td>5.0</td>\n",
       "      <td>51.263857</td>\n",
       "    </tr>\n",
       "    <tr>\n",
       "      <th>4031</th>\n",
       "      <td>4031</td>\n",
       "      <td>4034</td>\n",
       "      <td>24 Swanston Street Clyde North VIC 3978</td>\n",
       "      <td>3978</td>\n",
       "      <td>570.0</td>\n",
       "      <td>4</td>\n",
       "      <td>2</td>\n",
       "      <td>2</td>\n",
       "      <td>POINT (145.3315988 -38.1257017)</td>\n",
       "      <td>212031303</td>\n",
       "      <td>-38.125702</td>\n",
       "      <td>145.331599</td>\n",
       "      <td>17608.06316</td>\n",
       "      <td>28976.064322</td>\n",
       "      <td>71382.469390</td>\n",
       "      <td>79738.921375</td>\n",
       "      <td>0.0</td>\n",
       "      <td>0.0</td>\n",
       "      <td>5.0</td>\n",
       "      <td>48.481165</td>\n",
       "    </tr>\n",
       "    <tr>\n",
       "      <th>4032</th>\n",
       "      <td>4032</td>\n",
       "      <td>4035</td>\n",
       "      <td>38 Swanston Street Clyde VIC 3978</td>\n",
       "      <td>3978</td>\n",
       "      <td>550.0</td>\n",
       "      <td>4</td>\n",
       "      <td>2</td>\n",
       "      <td>2</td>\n",
       "      <td>POINT (145.3310816 -38.1273077)</td>\n",
       "      <td>212031303</td>\n",
       "      <td>-38.127308</td>\n",
       "      <td>145.331082</td>\n",
       "      <td>17608.06316</td>\n",
       "      <td>28976.064322</td>\n",
       "      <td>71382.469390</td>\n",
       "      <td>79738.921375</td>\n",
       "      <td>0.0</td>\n",
       "      <td>0.0</td>\n",
       "      <td>5.0</td>\n",
       "      <td>49.835761</td>\n",
       "    </tr>\n",
       "  </tbody>\n",
       "</table>\n",
       "<p>4033 rows × 20 columns</p>\n",
       "</div>"
      ],
      "text/plain": [
       "      Unnamed: 0  index                                             name  \\\n",
       "0              0      0   811v/162 Albert Street East Melbourne VIC 3002   \n",
       "1              1      1  PO9P/191 Powlett Street East Melbourne VIC 3002   \n",
       "2              2      2    203/33 Cliveden Close East Melbourne VIC 3002   \n",
       "3              3      3      9/322 Albert Street East Melbourne VIC 3002   \n",
       "4              4      4  107K/211 Powlett Street East Melbourne VIC 3002   \n",
       "...          ...    ...                                              ...   \n",
       "4028        4028   4031             20 Knightsford Avenue Clyde VIC 3978   \n",
       "4029        4029   4032                      6 Cecil Lane Clyde VIC 3978   \n",
       "4030        4030   4033                 43 Bellman Avenue Clyde VIC 3978   \n",
       "4031        4031   4034          24 Swanston Street Clyde North VIC 3978   \n",
       "4032        4032   4035                38 Swanston Street Clyde VIC 3978   \n",
       "\n",
       "      Postcode  Prices  Bedrooms  Bathrooms  Parkings  \\\n",
       "0         3002   600.0         2          1         1   \n",
       "1         3002   675.0         2          2         1   \n",
       "2         3002   380.0         1          1         1   \n",
       "3         3002   990.0         3          2         1   \n",
       "4         3002   550.0         1          1         1   \n",
       "...        ...     ...       ...        ...       ...   \n",
       "4028      3978   500.0         4          2         2   \n",
       "4029      3978   700.0         4          2         2   \n",
       "4030      3978   450.0         3          2         2   \n",
       "4031      3978   570.0         4          2         2   \n",
       "4032      3978   550.0         4          2         2   \n",
       "\n",
       "                             geometry   SA2_code  Longitude    Latitude  \\\n",
       "0     POINT (144.9855313 -37.8100432)  206041119 -37.810043  144.985531   \n",
       "1     POINT (144.9860355 -37.8101099)  206041119 -37.810110  144.986036   \n",
       "2     POINT (144.9767157 -37.8171001)  206041119 -37.817100  144.976716   \n",
       "3     POINT (144.9802739 -37.8098404)  206041119 -37.809840  144.980274   \n",
       "4     POINT (144.9859936 -37.8096989)  206041119 -37.809699  144.985994   \n",
       "...                               ...        ...        ...         ...   \n",
       "4028   POINT (145.3419799 -38.123332)  212031303 -38.123332  145.341980   \n",
       "4029  POINT (145.3280662 -38.1260928)  212031303 -38.126093  145.328066   \n",
       "4030  POINT (145.3401184 -38.1237646)  212031303 -38.123765  145.340118   \n",
       "4031  POINT (145.3315988 -38.1257017)  212031303 -38.125702  145.331599   \n",
       "4032  POINT (145.3310816 -38.1273077)  212031303 -38.127308  145.331082   \n",
       "\n",
       "         popu2022      popu2025  Mean Income2022  Mean Income2025  hos_count  \\\n",
       "0      4965.66944   4555.306297     98664.943495    102957.654101        6.0   \n",
       "1      4965.66944   4555.306297     98664.943495    102957.654101        6.0   \n",
       "2      4965.66944   4555.306297     98664.943495    102957.654101        6.0   \n",
       "3      4965.66944   4555.306297     98664.943495    102957.654101        6.0   \n",
       "4      4965.66944   4555.306297     98664.943495    102957.654101        6.0   \n",
       "...           ...           ...              ...              ...        ...   \n",
       "4028  17608.06316  28976.064322     71382.469390     79738.921375        0.0   \n",
       "4029  17608.06316  28976.064322     71382.469390     79738.921375        0.0   \n",
       "4030  17608.06316  28976.064322     71382.469390     79738.921375        0.0   \n",
       "4031  17608.06316  28976.064322     71382.469390     79738.921375        0.0   \n",
       "4032  17608.06316  28976.064322     71382.469390     79738.921375        0.0   \n",
       "\n",
       "      stop_count  school_count   distance  \n",
       "0            1.0           1.0   2.640393  \n",
       "1            1.0           1.0   2.127094  \n",
       "2            1.0           1.0   2.317094  \n",
       "3            1.0           1.0   1.993894  \n",
       "4            1.0           1.0   1.863595  \n",
       "...          ...           ...        ...  \n",
       "4028         0.0           5.0  55.767144  \n",
       "4029         0.0           5.0  53.621150  \n",
       "4030         0.0           5.0  51.263857  \n",
       "4031         0.0           5.0  48.481165  \n",
       "4032         0.0           5.0  49.835761  \n",
       "\n",
       "[4033 rows x 20 columns]"
      ]
     },
     "execution_count": 41,
     "metadata": {},
     "output_type": "execute_result"
    }
   ],
   "source": [
    "df = pd.read_csv(\"../data/curated/final_df.csv\")\n",
    "df"
   ]
  },
  {
   "cell_type": "markdown",
   "metadata": {},
   "source": [
    "## Pre-Analysis"
   ]
  },
  {
   "cell_type": "markdown",
   "metadata": {},
   "source": [
    "### Distribution"
   ]
  },
  {
   "cell_type": "markdown",
   "metadata": {},
   "source": [
    "We assume there is no significant change in numbers of facilities in each suburb.\n",
    "Below is an example of the changes for school between 2019 and 2021."
   ]
  },
  {
   "cell_type": "code",
   "execution_count": 44,
   "metadata": {},
   "outputs": [
    {
     "data": {
      "image/png": "[encoded data removed]",
      "text/plain": [
       "<PIL.PngImagePlugin.PngImageFile image mode=RGBA size=432x288>"
      ]
     },
     "execution_count": 44,
     "metadata": {},
     "output_type": "execute_result"
    }
   ],
   "source": [
    "school_img = Image.open('../plots/school_change.png')\n",
    "school_img"
   ]
  },
  {
   "cell_type": "markdown",
   "metadata": {},
   "source": [
    "### Remove Outliers"
   ]
  },
  {
   "cell_type": "markdown",
   "metadata": {},
   "source": [
    "For the rental price distribution, we removed the outliers to achieve a better distribution, we removed rental prices that are higher than $900. With figures below, the difference in distribution can be seen after the outlier removal."
   ]
  },
  {
   "cell_type": "code",
   "execution_count": 38,
   "metadata": {},
   "outputs": [
    {
     "data": {
      "image/png": "[encoded data removed]",
      "text/plain": [
       "<PIL.PngImagePlugin.PngImageFile image mode=RGBA size=720x504>"
      ]
     },
     "execution_count": 38,
     "metadata": {},
     "output_type": "execute_result"
    }
   ],
   "source": [
    "img1 = Image.open('../plots/rental_price_distrib_before.png')\n",
    "img1"
   ]
  },
  {
   "cell_type": "code",
   "execution_count": 40,
   "metadata": {},
   "outputs": [
    {
     "data": {
      "image/png": "[encoded data removed]",
      "text/plain": [
       "<PIL.PngImagePlugin.PngImageFile image mode=RGBA size=720x504>"
      ]
     },
     "execution_count": 40,
     "metadata": {},
     "output_type": "execute_result"
    }
   ],
   "source": [
    "img2 = Image.open('../plots/rental_price_distrib_after.png')\n",
    "img2"
   ]
  },
  {
   "cell_type": "markdown",
   "metadata": {},
   "source": [
    "For the distance to CBD, we kept the outliers since it is reliable to take the properties in remote areas into account. With figure shown below."
   ]
  },
  {
   "cell_type": "code",
   "execution_count": 45,
   "metadata": {},
   "outputs": [
    {
     "data": {
      "image/png": "[encoded data removed]",
      "text/plain": [
       "<PIL.PngImagePlugin.PngImageFile image mode=RGBA size=720x504>"
      ]
     },
     "execution_count": 45,
     "metadata": {},
     "output_type": "execute_result"
    }
   ],
   "source": [
    "img3 = Image.open('../plots/distance_to_CBD_distrib.png')\n",
    "img3"
   ]
  },
  {
   "cell_type": "markdown",
   "metadata": {},
   "source": [
    "## Assumptions"
   ]
  },
  {
   "cell_type": "markdown",
   "metadata": {},
   "source": [
    "There are a few assumptions that we made in the research. \n",
    "\n",
    "Firstly, as mentioned before in pre-analysis, we assume there is no significant change in the number of facilities such as schools and hospitals from 2022 to 2025. We did find the number of schools in 2019 and 2021. And by comparison, we found the change rate is small enough to prove our assumption. However, since we lacked of the data of hospitals in 2019, it was hard to show the increase of hospiotals between 2019 and 2021. As 2012 data was found, we still compared the number of hospotals in 2012 and 2021. There was a big increase within 9 years. It could be explained by the pandemic of Covid-19 in the past few years. Hence, it is reasonable to apply this to the future 3 years.\n"
   ]
  },
  {
   "cell_type": "code",
   "execution_count": null,
   "metadata": {},
   "outputs": [],
   "source": [
    "school_img = Image.open('../plots/school_change.png')\n",
    "\n",
    "school_img"
   ]
  },
  {
   "cell_type": "code",
   "execution_count": null,
   "metadata": {},
   "outputs": [],
   "source": [
    "hos_img = Image.open('../plots/hos_change.png')\n",
    "\n",
    "hos_img"
   ]
  },
  {
   "cell_type": "markdown",
   "metadata": {},
   "source": [
    "Secondly, the income data for 2022 based on SA2 district was not found. Then we assume the income in 2022 can be predicted by using the average growth rate from 2014 to 2017. The code below shows how we calculate the average growth rate and achieve the income for 2022."
   ]
  },
  {
   "cell_type": "code",
   "execution_count": null,
   "metadata": {},
   "outputs": [],
   "source": [
    "for i in gpd_domain.index:\n",
    "    inco_rate.append(float((gpd_domain['Income2017'][i] - gpd_domain['Income2014'][i])/\n",
    "                           gpd_domain['Income2014'][i]))\n",
    "gpd_domain['rate14-17'] = np.array(inco_rate).tolist()\n",
    "gpd_domain['rate14-17'] = np.array(inco_rate).tolist()\n",
    "inco2019 = []\n",
    "inco2022 = []\n",
    "for i in gpd_domain.index:\n",
    "    inco2019.append(gpd_domain['Income2016'][i] + gpd_domain['Income2016'][i]*\n",
    "                    float(gpd_domain['rate14-17'][i]))\n",
    "gpd_domain['Income2019'] = np.array(inco2019).tolist()\n",
    "for i in gpd_domain.index:\n",
    "    inco2022.append(gpd_domain['Income2019'][i] + gpd_domain['Income2019'][i]*\n",
    "                    float(gpd_domain['rate14-17'][i]))\n",
    "gpd_domain['Income2022'] = np.array(inco2022).tolist()"
   ]
  },
  {
   "cell_type": "markdown",
   "metadata": {},
   "source": [
    "Moreover, we assume we only take acount of the medium rental prices in this research. By doing so, we can detect that rental prices approximately follow a normal distribution after the outliers based on the interquaitile range are removed.\n"
   ]
  },
  {
   "cell_type": "code",
   "execution_count": null,
   "metadata": {},
   "outputs": [],
   "source": [
    "rental_price_distrib_before = Image.open('../plots/rental_price_distrib_before.png')\n",
    "\n",
    "rental_price_distrib_before"
   ]
  },
  {
   "cell_type": "code",
   "execution_count": null,
   "metadata": {},
   "outputs": [],
   "source": [
    "rental_price_distrib_after = Image.open('../plots/rental_price_distrib_after.png')\n",
    "\n",
    "rental_price_distrib_after"
   ]
  },
  {
   "cell_type": "markdown",
   "metadata": {},
   "source": [
    "In addition, we assume the properties in remote areas should be considered. In this case, we did not remove the properties which have large distance to CBD."
   ]
  },
  {
   "cell_type": "markdown",
   "metadata": {},
   "source": [
    "Finally, since the granularity of data collection is SA2-based, for our purpose of this research, the external features is changed from per SA2 to per suburb by assuming the number of them in adjacent suburbs in one SA2 district is proportional to the number of properties in each suburb."
   ]
  }
 ],
 "metadata": {
  "kernelspec": {
   "display_name": "Python 3.9.2 64-bit",
   "language": "python",
   "name": "python3"
  },
  "language_info": {
   "codemirror_mode": {
    "name": "ipython",
    "version": 3
   },
   "file_extension": ".py",
   "mimetype": "text/x-python",
   "name": "python",
   "nbconvert_exporter": "python",
   "pygments_lexer": "ipython3",
   "version": "3.9.6"
  },
  "orig_nbformat": 4,
  "vscode": {
   "interpreter": {
    "hash": "aee8b7b246df8f9039afb4144a1f6fd8d2ca17a180786b69acc140d282b71a49"
   }
  }
 },
 "nbformat": 4,
 "nbformat_minor": 2
}
