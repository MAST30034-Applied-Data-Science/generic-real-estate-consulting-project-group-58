{
 "cells": [
  {
   "cell_type": "code",
   "execution_count": 6,
   "id": "e9c54dbb-5164-4edf-b66f-00194454aefe",
   "metadata": {},
   "outputs": [],
   "source": [
    "import pandas as pd\n",
    "from sklearn.model_selection import train_test_split"
   ]
  },
  {
   "cell_type": "code",
   "execution_count": 7,
   "id": "5a83c9d0-a806-4af4-a1de-750e51a7a409",
   "metadata": {},
   "outputs": [],
   "source": [
    "df = pd.read_csv('../data/curated/df_model.csv')\n",
    "\n",
    "df_22 = df.drop(['Unnamed: 0', 'name', 'geometry','popu2025', 'Income2025', 'pct'],  axis = 1)\n",
    "df_25 = df.drop(['Prices', 'Unnamed: 0', 'name', 'geometry','popu2022', 'Income2022', 'pct'],  axis = 1)\n",
    "\n",
    "df_22_X = df_22.drop('Prices', axis = 1)\n",
    "df_22_y = df_22['Prices'].to_frame()\n",
    "\n",
    "X_train, X_test, y_train, y_test = train_test_split(df_22_X, df_22_y, test_size=0.20, shuffle=True)"
   ]
  },
  {
   "cell_type": "code",
   "execution_count": 10,
   "id": "efc622b9-ec6a-495b-8175-6c1661c6a408",
   "metadata": {},
   "outputs": [],
   "source": [
    "from sklearn.preprocessing import MinMaxScaler\n",
    "minMaxNorm = MinMaxScaler()\n",
    "minMaxNorm.fit(df_22_X)\n",
    "X = minMaxNorm.transform(df_22_X) \n",
    "Y = df_22[\"Prices\"]"
   ]
  },
  {
   "cell_type": "code",
   "execution_count": 8,
   "id": "4da64426-aafe-4658-bf4e-62a9356951ff",
   "metadata": {},
   "outputs": [],
   "source": [
    "X_train.to_csv('../data/curated/X_train.csv')\n",
    "y_train.to_csv('../data/curated/y_train.csv')\n",
    "X_test.to_csv('../data/curated/X_valid.csv')\n",
    "y_test.to_csv('../data/curated/y_valid.csv')\n",
    "df_25.to_csv('../data/curated/X_predict.csv')"
   ]
  }
 ],
 "metadata": {
  "kernelspec": {
   "display_name": "Python 3",
   "language": "python",
   "name": "python3"
  },
  "language_info": {
   "codemirror_mode": {
    "name": "ipython",
    "version": 3
   },
   "file_extension": ".py",
   "mimetype": "text/x-python",
   "name": "python",
   "nbconvert_exporter": "python",
   "pygments_lexer": "ipython3",
   "version": "3.8.8"
  }
 },
 "nbformat": 4,
 "nbformat_minor": 5
}
