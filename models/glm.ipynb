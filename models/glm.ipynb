{
 "cells": [
  {
   "cell_type": "markdown",
   "id": "05c63351",
   "metadata": {},
   "source": [
    "# MAST30034 Project 2\n",
    "## Rental Prediction ---- Focusing on GLM with various families & Penalty Regression & Gradient Boosting Regressor"
   ]
  },
  {
   "cell_type": "code",
   "execution_count": 1,
   "id": "62040832",
   "metadata": {},
   "outputs": [],
   "source": [
    "import pandas as pd\n",
    "import matplotlib.pyplot as plt\n",
    "import seaborn as sns\n",
    "from statsmodels.formula.api import ols, glm\n",
    "import statistics\n",
    "\n",
    "import numpy as np\n",
    "\n",
    "import statsmodels.api as sm\n",
    "import matplotlib.pyplot as plt\n",
    "from statsmodels.graphics.gofplots import ProbPlot\n",
    "\n",
    "from sklearn.metrics import mean_absolute_percentage_error"
   ]
  },
  {
   "cell_type": "code",
   "execution_count": 2,
   "id": "9d07f151",
   "metadata": {},
   "outputs": [],
   "source": [
    "# Read the dataframe.\n",
    "\n",
    "gpd_domain = pd.read_csv('../data/curated/df_model.csv')"
   ]
  },
  {
   "cell_type": "code",
   "execution_count": 3,
   "id": "9e3cee34",
   "metadata": {},
   "outputs": [
    {
     "data": {
      "text/html": [
       "<div>\n",
       "<style scoped>\n",
       "    .dataframe tbody tr th:only-of-type {\n",
       "        vertical-align: middle;\n",
       "    }\n",
       "\n",
       "    .dataframe tbody tr th {\n",
       "        vertical-align: top;\n",
       "    }\n",
       "\n",
       "    .dataframe thead th {\n",
       "        text-align: right;\n",
       "    }\n",
       "</style>\n",
       "<table border=\"1\" class=\"dataframe\">\n",
       "  <thead>\n",
       "    <tr style=\"text-align: right;\">\n",
       "      <th></th>\n",
       "      <th>Unnamed: 0</th>\n",
       "      <th>Unnamed: 0.1</th>\n",
       "      <th>name</th>\n",
       "      <th>Postcode</th>\n",
       "      <th>Prices</th>\n",
       "      <th>Bedrooms</th>\n",
       "      <th>Bathrooms</th>\n",
       "      <th>Parkings</th>\n",
       "      <th>geometry</th>\n",
       "      <th>SA2_code</th>\n",
       "      <th>...</th>\n",
       "      <th>Latitude</th>\n",
       "      <th>popu2022</th>\n",
       "      <th>popu2025</th>\n",
       "      <th>Income2022</th>\n",
       "      <th>Income2025</th>\n",
       "      <th>hos_count</th>\n",
       "      <th>stop_count</th>\n",
       "      <th>school_count</th>\n",
       "      <th>distance</th>\n",
       "      <th>pct</th>\n",
       "    </tr>\n",
       "  </thead>\n",
       "  <tbody>\n",
       "    <tr>\n",
       "      <th>0</th>\n",
       "      <td>0</td>\n",
       "      <td>0</td>\n",
       "      <td>1/62 Simpson St East Melbourne VIC 3002</td>\n",
       "      <td>3002</td>\n",
       "      <td>395.0</td>\n",
       "      <td>1</td>\n",
       "      <td>1</td>\n",
       "      <td>0</td>\n",
       "      <td>POINT (144.9891076 -37.8106659)</td>\n",
       "      <td>206041119</td>\n",
       "      <td>...</td>\n",
       "      <td>144.989108</td>\n",
       "      <td>4965.669440</td>\n",
       "      <td>4555.306297</td>\n",
       "      <td>98664.943495</td>\n",
       "      <td>102957.654101</td>\n",
       "      <td>6.0</td>\n",
       "      <td>1.0</td>\n",
       "      <td>1.0</td>\n",
       "      <td>2.640393</td>\n",
       "      <td>1.0</td>\n",
       "    </tr>\n",
       "    <tr>\n",
       "      <th>1</th>\n",
       "      <td>1</td>\n",
       "      <td>1</td>\n",
       "      <td>29/8 Wellington Crescent East Melbourne VIC 3002</td>\n",
       "      <td>3002</td>\n",
       "      <td>750.0</td>\n",
       "      <td>2</td>\n",
       "      <td>2</td>\n",
       "      <td>2</td>\n",
       "      <td>POINT (144.9776702 -37.8172238)</td>\n",
       "      <td>206041119</td>\n",
       "      <td>...</td>\n",
       "      <td>144.977670</td>\n",
       "      <td>4965.669440</td>\n",
       "      <td>4555.306297</td>\n",
       "      <td>98664.943495</td>\n",
       "      <td>102957.654101</td>\n",
       "      <td>6.0</td>\n",
       "      <td>1.0</td>\n",
       "      <td>1.0</td>\n",
       "      <td>2.127094</td>\n",
       "      <td>1.0</td>\n",
       "    </tr>\n",
       "    <tr>\n",
       "      <th>2</th>\n",
       "      <td>2</td>\n",
       "      <td>2</td>\n",
       "      <td>811v/162 Albert Street East Melbourne VIC 3002</td>\n",
       "      <td>3002</td>\n",
       "      <td>600.0</td>\n",
       "      <td>2</td>\n",
       "      <td>1</td>\n",
       "      <td>1</td>\n",
       "      <td>POINT (144.9855313 -37.8100432)</td>\n",
       "      <td>206041119</td>\n",
       "      <td>...</td>\n",
       "      <td>144.985531</td>\n",
       "      <td>4965.669440</td>\n",
       "      <td>4555.306297</td>\n",
       "      <td>98664.943495</td>\n",
       "      <td>102957.654101</td>\n",
       "      <td>6.0</td>\n",
       "      <td>1.0</td>\n",
       "      <td>1.0</td>\n",
       "      <td>2.317094</td>\n",
       "      <td>1.0</td>\n",
       "    </tr>\n",
       "    <tr>\n",
       "      <th>3</th>\n",
       "      <td>3</td>\n",
       "      <td>3</td>\n",
       "      <td>203/33 Cliveden Close East Melbourne VIC 3002</td>\n",
       "      <td>3002</td>\n",
       "      <td>380.0</td>\n",
       "      <td>1</td>\n",
       "      <td>1</td>\n",
       "      <td>1</td>\n",
       "      <td>POINT (144.9767157 -37.8171001)</td>\n",
       "      <td>206041119</td>\n",
       "      <td>...</td>\n",
       "      <td>144.976716</td>\n",
       "      <td>4965.669440</td>\n",
       "      <td>4555.306297</td>\n",
       "      <td>98664.943495</td>\n",
       "      <td>102957.654101</td>\n",
       "      <td>6.0</td>\n",
       "      <td>1.0</td>\n",
       "      <td>1.0</td>\n",
       "      <td>1.993894</td>\n",
       "      <td>1.0</td>\n",
       "    </tr>\n",
       "    <tr>\n",
       "      <th>4</th>\n",
       "      <td>5</td>\n",
       "      <td>5</td>\n",
       "      <td>107K/211 Powlett Street East Melbourne VIC 3002</td>\n",
       "      <td>3002</td>\n",
       "      <td>550.0</td>\n",
       "      <td>1</td>\n",
       "      <td>1</td>\n",
       "      <td>1</td>\n",
       "      <td>POINT (144.9859936 -37.8096989)</td>\n",
       "      <td>206041119</td>\n",
       "      <td>...</td>\n",
       "      <td>144.985994</td>\n",
       "      <td>4965.669440</td>\n",
       "      <td>4555.306297</td>\n",
       "      <td>98664.943495</td>\n",
       "      <td>102957.654101</td>\n",
       "      <td>6.0</td>\n",
       "      <td>1.0</td>\n",
       "      <td>1.0</td>\n",
       "      <td>2.114494</td>\n",
       "      <td>1.0</td>\n",
       "    </tr>\n",
       "    <tr>\n",
       "      <th>...</th>\n",
       "      <td>...</td>\n",
       "      <td>...</td>\n",
       "      <td>...</td>\n",
       "      <td>...</td>\n",
       "      <td>...</td>\n",
       "      <td>...</td>\n",
       "      <td>...</td>\n",
       "      <td>...</td>\n",
       "      <td>...</td>\n",
       "      <td>...</td>\n",
       "      <td>...</td>\n",
       "      <td>...</td>\n",
       "      <td>...</td>\n",
       "      <td>...</td>\n",
       "      <td>...</td>\n",
       "      <td>...</td>\n",
       "      <td>...</td>\n",
       "      <td>...</td>\n",
       "      <td>...</td>\n",
       "      <td>...</td>\n",
       "      <td>...</td>\n",
       "    </tr>\n",
       "    <tr>\n",
       "      <th>4538</th>\n",
       "      <td>4902</td>\n",
       "      <td>4902</td>\n",
       "      <td>33 Ritchie Drive Clyde North VIC 3978</td>\n",
       "      <td>3978</td>\n",
       "      <td>450.0</td>\n",
       "      <td>4</td>\n",
       "      <td>2</td>\n",
       "      <td>2</td>\n",
       "      <td>POINT (145.3370537 -38.1137329)</td>\n",
       "      <td>212031556</td>\n",
       "      <td>...</td>\n",
       "      <td>145.337054</td>\n",
       "      <td>28812.714834</td>\n",
       "      <td>103901.443821</td>\n",
       "      <td>69737.528612</td>\n",
       "      <td>76306.170584</td>\n",
       "      <td>0.0</td>\n",
       "      <td>0.0</td>\n",
       "      <td>1.0</td>\n",
       "      <td>54.314448</td>\n",
       "      <td>1.0</td>\n",
       "    </tr>\n",
       "    <tr>\n",
       "      <th>4539</th>\n",
       "      <td>4903</td>\n",
       "      <td>4903</td>\n",
       "      <td>8 Cropping Street Clyde North VIC 3978</td>\n",
       "      <td>3978</td>\n",
       "      <td>495.0</td>\n",
       "      <td>4</td>\n",
       "      <td>2</td>\n",
       "      <td>2</td>\n",
       "      <td>POINT (145.386116 -38.1042218)</td>\n",
       "      <td>212031556</td>\n",
       "      <td>...</td>\n",
       "      <td>145.386116</td>\n",
       "      <td>28812.714834</td>\n",
       "      <td>103901.443821</td>\n",
       "      <td>69737.528612</td>\n",
       "      <td>76306.170584</td>\n",
       "      <td>0.0</td>\n",
       "      <td>0.0</td>\n",
       "      <td>1.0</td>\n",
       "      <td>56.476442</td>\n",
       "      <td>1.0</td>\n",
       "    </tr>\n",
       "    <tr>\n",
       "      <th>4540</th>\n",
       "      <td>4904</td>\n",
       "      <td>4904</td>\n",
       "      <td>37 Barley Crescent Clyde North VIC 3978</td>\n",
       "      <td>3978</td>\n",
       "      <td>470.0</td>\n",
       "      <td>4</td>\n",
       "      <td>2</td>\n",
       "      <td>2</td>\n",
       "      <td>POINT (145.3570598 -38.08415)</td>\n",
       "      <td>212031555</td>\n",
       "      <td>...</td>\n",
       "      <td>145.357060</td>\n",
       "      <td>14034.992778</td>\n",
       "      <td>26309.739852</td>\n",
       "      <td>69737.528612</td>\n",
       "      <td>76306.170584</td>\n",
       "      <td>0.0</td>\n",
       "      <td>0.0</td>\n",
       "      <td>2.0</td>\n",
       "      <td>53.276851</td>\n",
       "      <td>1.0</td>\n",
       "    </tr>\n",
       "    <tr>\n",
       "      <th>4541</th>\n",
       "      <td>4905</td>\n",
       "      <td>4905</td>\n",
       "      <td>6 Viewbright Road Clyde North VIC 3978</td>\n",
       "      <td>3978</td>\n",
       "      <td>535.0</td>\n",
       "      <td>4</td>\n",
       "      <td>2</td>\n",
       "      <td>2</td>\n",
       "      <td>POINT (145.3545777 -38.0808423)</td>\n",
       "      <td>212031555</td>\n",
       "      <td>...</td>\n",
       "      <td>145.354578</td>\n",
       "      <td>14034.992778</td>\n",
       "      <td>26309.739852</td>\n",
       "      <td>69737.528612</td>\n",
       "      <td>76306.170584</td>\n",
       "      <td>0.0</td>\n",
       "      <td>0.0</td>\n",
       "      <td>2.0</td>\n",
       "      <td>51.284857</td>\n",
       "      <td>1.0</td>\n",
       "    </tr>\n",
       "    <tr>\n",
       "      <th>4542</th>\n",
       "      <td>4906</td>\n",
       "      <td>4906</td>\n",
       "      <td>27 Littleshore Crescent Clyde North VIC 3978</td>\n",
       "      <td>3978</td>\n",
       "      <td>630.0</td>\n",
       "      <td>4</td>\n",
       "      <td>2</td>\n",
       "      <td>2</td>\n",
       "      <td>POINT (145.3354004 -38.0814568)</td>\n",
       "      <td>212031555</td>\n",
       "      <td>...</td>\n",
       "      <td>145.335400</td>\n",
       "      <td>14034.992778</td>\n",
       "      <td>26309.739852</td>\n",
       "      <td>69737.528612</td>\n",
       "      <td>76306.170584</td>\n",
       "      <td>0.0</td>\n",
       "      <td>0.0</td>\n",
       "      <td>2.0</td>\n",
       "      <td>51.047557</td>\n",
       "      <td>1.0</td>\n",
       "    </tr>\n",
       "  </tbody>\n",
       "</table>\n",
       "<p>4543 rows × 21 columns</p>\n",
       "</div>"
      ],
      "text/plain": [
       "      Unnamed: 0  Unnamed: 0.1  \\\n",
       "0              0             0   \n",
       "1              1             1   \n",
       "2              2             2   \n",
       "3              3             3   \n",
       "4              5             5   \n",
       "...          ...           ...   \n",
       "4538        4902          4902   \n",
       "4539        4903          4903   \n",
       "4540        4904          4904   \n",
       "4541        4905          4905   \n",
       "4542        4906          4906   \n",
       "\n",
       "                                                  name  Postcode  Prices  \\\n",
       "0              1/62 Simpson St East Melbourne VIC 3002      3002   395.0   \n",
       "1     29/8 Wellington Crescent East Melbourne VIC 3002      3002   750.0   \n",
       "2       811v/162 Albert Street East Melbourne VIC 3002      3002   600.0   \n",
       "3        203/33 Cliveden Close East Melbourne VIC 3002      3002   380.0   \n",
       "4      107K/211 Powlett Street East Melbourne VIC 3002      3002   550.0   \n",
       "...                                                ...       ...     ...   \n",
       "4538             33 Ritchie Drive Clyde North VIC 3978      3978   450.0   \n",
       "4539            8 Cropping Street Clyde North VIC 3978      3978   495.0   \n",
       "4540           37 Barley Crescent Clyde North VIC 3978      3978   470.0   \n",
       "4541            6 Viewbright Road Clyde North VIC 3978      3978   535.0   \n",
       "4542      27 Littleshore Crescent Clyde North VIC 3978      3978   630.0   \n",
       "\n",
       "      Bedrooms  Bathrooms  Parkings                         geometry  \\\n",
       "0            1          1         0  POINT (144.9891076 -37.8106659)   \n",
       "1            2          2         2  POINT (144.9776702 -37.8172238)   \n",
       "2            2          1         1  POINT (144.9855313 -37.8100432)   \n",
       "3            1          1         1  POINT (144.9767157 -37.8171001)   \n",
       "4            1          1         1  POINT (144.9859936 -37.8096989)   \n",
       "...        ...        ...       ...                              ...   \n",
       "4538         4          2         2  POINT (145.3370537 -38.1137329)   \n",
       "4539         4          2         2   POINT (145.386116 -38.1042218)   \n",
       "4540         4          2         2    POINT (145.3570598 -38.08415)   \n",
       "4541         4          2         2  POINT (145.3545777 -38.0808423)   \n",
       "4542         4          2         2  POINT (145.3354004 -38.0814568)   \n",
       "\n",
       "       SA2_code  ...    Latitude      popu2022       popu2025    Income2022  \\\n",
       "0     206041119  ...  144.989108   4965.669440    4555.306297  98664.943495   \n",
       "1     206041119  ...  144.977670   4965.669440    4555.306297  98664.943495   \n",
       "2     206041119  ...  144.985531   4965.669440    4555.306297  98664.943495   \n",
       "3     206041119  ...  144.976716   4965.669440    4555.306297  98664.943495   \n",
       "4     206041119  ...  144.985994   4965.669440    4555.306297  98664.943495   \n",
       "...         ...  ...         ...           ...            ...           ...   \n",
       "4538  212031556  ...  145.337054  28812.714834  103901.443821  69737.528612   \n",
       "4539  212031556  ...  145.386116  28812.714834  103901.443821  69737.528612   \n",
       "4540  212031555  ...  145.357060  14034.992778   26309.739852  69737.528612   \n",
       "4541  212031555  ...  145.354578  14034.992778   26309.739852  69737.528612   \n",
       "4542  212031555  ...  145.335400  14034.992778   26309.739852  69737.528612   \n",
       "\n",
       "         Income2025  hos_count  stop_count  school_count   distance  pct  \n",
       "0     102957.654101        6.0         1.0           1.0   2.640393  1.0  \n",
       "1     102957.654101        6.0         1.0           1.0   2.127094  1.0  \n",
       "2     102957.654101        6.0         1.0           1.0   2.317094  1.0  \n",
       "3     102957.654101        6.0         1.0           1.0   1.993894  1.0  \n",
       "4     102957.654101        6.0         1.0           1.0   2.114494  1.0  \n",
       "...             ...        ...         ...           ...        ...  ...  \n",
       "4538   76306.170584        0.0         0.0           1.0  54.314448  1.0  \n",
       "4539   76306.170584        0.0         0.0           1.0  56.476442  1.0  \n",
       "4540   76306.170584        0.0         0.0           2.0  53.276851  1.0  \n",
       "4541   76306.170584        0.0         0.0           2.0  51.284857  1.0  \n",
       "4542   76306.170584        0.0         0.0           2.0  51.047557  1.0  \n",
       "\n",
       "[4543 rows x 21 columns]"
      ]
     },
     "execution_count": 3,
     "metadata": {},
     "output_type": "execute_result"
    }
   ],
   "source": [
    "gpd_domain"
   ]
  },
  {
   "cell_type": "code",
   "execution_count": 4,
   "id": "3602e35e",
   "metadata": {},
   "outputs": [
    {
     "data": {
      "text/plain": [
       "Unnamed: 0        int64\n",
       "Unnamed: 0.1      int64\n",
       "name             object\n",
       "Postcode          int64\n",
       "Prices          float64\n",
       "Bedrooms          int64\n",
       "Bathrooms         int64\n",
       "Parkings          int64\n",
       "geometry         object\n",
       "SA2_code          int64\n",
       "Longitude       float64\n",
       "Latitude        float64\n",
       "popu2022        float64\n",
       "popu2025        float64\n",
       "Income2022      float64\n",
       "Income2025      float64\n",
       "hos_count       float64\n",
       "stop_count      float64\n",
       "school_count    float64\n",
       "distance        float64\n",
       "pct             float64\n",
       "dtype: object"
      ]
     },
     "execution_count": 4,
     "metadata": {},
     "output_type": "execute_result"
    }
   ],
   "source": [
    "gpd_domain.dtypes"
   ]
  },
  {
   "cell_type": "markdown",
   "id": "0325f95d",
   "metadata": {},
   "source": [
    "1. Now split our dataframe into two parts, the 'train_df' with data in 2022, and the 'predict_df' with data in 2025."
   ]
  },
  {
   "cell_type": "code",
   "execution_count": 5,
   "id": "13833f5b",
   "metadata": {},
   "outputs": [],
   "source": [
    "# train_df (data in 2022).\n",
    "\n",
    "train_df = gpd_domain.drop(['popu2025', 'Income2025'], axis=1)\n",
    "train_df = train_df.rename({'popu2022': 'popu', 'Income2022': 'Income'}, axis=1)  "
   ]
  },
  {
   "cell_type": "code",
   "execution_count": 6,
   "id": "d3fda61e",
   "metadata": {},
   "outputs": [
    {
     "data": {
      "text/html": [
       "<div>\n",
       "<style scoped>\n",
       "    .dataframe tbody tr th:only-of-type {\n",
       "        vertical-align: middle;\n",
       "    }\n",
       "\n",
       "    .dataframe tbody tr th {\n",
       "        vertical-align: top;\n",
       "    }\n",
       "\n",
       "    .dataframe thead th {\n",
       "        text-align: right;\n",
       "    }\n",
       "</style>\n",
       "<table border=\"1\" class=\"dataframe\">\n",
       "  <thead>\n",
       "    <tr style=\"text-align: right;\">\n",
       "      <th></th>\n",
       "      <th>Unnamed: 0</th>\n",
       "      <th>Unnamed: 0.1</th>\n",
       "      <th>name</th>\n",
       "      <th>Postcode</th>\n",
       "      <th>Prices</th>\n",
       "      <th>Bedrooms</th>\n",
       "      <th>Bathrooms</th>\n",
       "      <th>Parkings</th>\n",
       "      <th>geometry</th>\n",
       "      <th>SA2_code</th>\n",
       "      <th>Longitude</th>\n",
       "      <th>Latitude</th>\n",
       "      <th>popu</th>\n",
       "      <th>Income</th>\n",
       "      <th>hos_count</th>\n",
       "      <th>stop_count</th>\n",
       "      <th>school_count</th>\n",
       "      <th>distance</th>\n",
       "      <th>pct</th>\n",
       "    </tr>\n",
       "  </thead>\n",
       "  <tbody>\n",
       "    <tr>\n",
       "      <th>0</th>\n",
       "      <td>0</td>\n",
       "      <td>0</td>\n",
       "      <td>1/62 Simpson St East Melbourne VIC 3002</td>\n",
       "      <td>3002</td>\n",
       "      <td>395.0</td>\n",
       "      <td>1</td>\n",
       "      <td>1</td>\n",
       "      <td>0</td>\n",
       "      <td>POINT (144.9891076 -37.8106659)</td>\n",
       "      <td>206041119</td>\n",
       "      <td>-37.810666</td>\n",
       "      <td>144.989108</td>\n",
       "      <td>4965.669440</td>\n",
       "      <td>98664.943495</td>\n",
       "      <td>6.0</td>\n",
       "      <td>1.0</td>\n",
       "      <td>1.0</td>\n",
       "      <td>2.640393</td>\n",
       "      <td>1.0</td>\n",
       "    </tr>\n",
       "    <tr>\n",
       "      <th>1</th>\n",
       "      <td>1</td>\n",
       "      <td>1</td>\n",
       "      <td>29/8 Wellington Crescent East Melbourne VIC 3002</td>\n",
       "      <td>3002</td>\n",
       "      <td>750.0</td>\n",
       "      <td>2</td>\n",
       "      <td>2</td>\n",
       "      <td>2</td>\n",
       "      <td>POINT (144.9776702 -37.8172238)</td>\n",
       "      <td>206041119</td>\n",
       "      <td>-37.817224</td>\n",
       "      <td>144.977670</td>\n",
       "      <td>4965.669440</td>\n",
       "      <td>98664.943495</td>\n",
       "      <td>6.0</td>\n",
       "      <td>1.0</td>\n",
       "      <td>1.0</td>\n",
       "      <td>2.127094</td>\n",
       "      <td>1.0</td>\n",
       "    </tr>\n",
       "    <tr>\n",
       "      <th>2</th>\n",
       "      <td>2</td>\n",
       "      <td>2</td>\n",
       "      <td>811v/162 Albert Street East Melbourne VIC 3002</td>\n",
       "      <td>3002</td>\n",
       "      <td>600.0</td>\n",
       "      <td>2</td>\n",
       "      <td>1</td>\n",
       "      <td>1</td>\n",
       "      <td>POINT (144.9855313 -37.8100432)</td>\n",
       "      <td>206041119</td>\n",
       "      <td>-37.810043</td>\n",
       "      <td>144.985531</td>\n",
       "      <td>4965.669440</td>\n",
       "      <td>98664.943495</td>\n",
       "      <td>6.0</td>\n",
       "      <td>1.0</td>\n",
       "      <td>1.0</td>\n",
       "      <td>2.317094</td>\n",
       "      <td>1.0</td>\n",
       "    </tr>\n",
       "    <tr>\n",
       "      <th>3</th>\n",
       "      <td>3</td>\n",
       "      <td>3</td>\n",
       "      <td>203/33 Cliveden Close East Melbourne VIC 3002</td>\n",
       "      <td>3002</td>\n",
       "      <td>380.0</td>\n",
       "      <td>1</td>\n",
       "      <td>1</td>\n",
       "      <td>1</td>\n",
       "      <td>POINT (144.9767157 -37.8171001)</td>\n",
       "      <td>206041119</td>\n",
       "      <td>-37.817100</td>\n",
       "      <td>144.976716</td>\n",
       "      <td>4965.669440</td>\n",
       "      <td>98664.943495</td>\n",
       "      <td>6.0</td>\n",
       "      <td>1.0</td>\n",
       "      <td>1.0</td>\n",
       "      <td>1.993894</td>\n",
       "      <td>1.0</td>\n",
       "    </tr>\n",
       "    <tr>\n",
       "      <th>4</th>\n",
       "      <td>5</td>\n",
       "      <td>5</td>\n",
       "      <td>107K/211 Powlett Street East Melbourne VIC 3002</td>\n",
       "      <td>3002</td>\n",
       "      <td>550.0</td>\n",
       "      <td>1</td>\n",
       "      <td>1</td>\n",
       "      <td>1</td>\n",
       "      <td>POINT (144.9859936 -37.8096989)</td>\n",
       "      <td>206041119</td>\n",
       "      <td>-37.809699</td>\n",
       "      <td>144.985994</td>\n",
       "      <td>4965.669440</td>\n",
       "      <td>98664.943495</td>\n",
       "      <td>6.0</td>\n",
       "      <td>1.0</td>\n",
       "      <td>1.0</td>\n",
       "      <td>2.114494</td>\n",
       "      <td>1.0</td>\n",
       "    </tr>\n",
       "    <tr>\n",
       "      <th>...</th>\n",
       "      <td>...</td>\n",
       "      <td>...</td>\n",
       "      <td>...</td>\n",
       "      <td>...</td>\n",
       "      <td>...</td>\n",
       "      <td>...</td>\n",
       "      <td>...</td>\n",
       "      <td>...</td>\n",
       "      <td>...</td>\n",
       "      <td>...</td>\n",
       "      <td>...</td>\n",
       "      <td>...</td>\n",
       "      <td>...</td>\n",
       "      <td>...</td>\n",
       "      <td>...</td>\n",
       "      <td>...</td>\n",
       "      <td>...</td>\n",
       "      <td>...</td>\n",
       "      <td>...</td>\n",
       "    </tr>\n",
       "    <tr>\n",
       "      <th>4538</th>\n",
       "      <td>4902</td>\n",
       "      <td>4902</td>\n",
       "      <td>33 Ritchie Drive Clyde North VIC 3978</td>\n",
       "      <td>3978</td>\n",
       "      <td>450.0</td>\n",
       "      <td>4</td>\n",
       "      <td>2</td>\n",
       "      <td>2</td>\n",
       "      <td>POINT (145.3370537 -38.1137329)</td>\n",
       "      <td>212031556</td>\n",
       "      <td>-38.113733</td>\n",
       "      <td>145.337054</td>\n",
       "      <td>28812.714834</td>\n",
       "      <td>69737.528612</td>\n",
       "      <td>0.0</td>\n",
       "      <td>0.0</td>\n",
       "      <td>1.0</td>\n",
       "      <td>54.314448</td>\n",
       "      <td>1.0</td>\n",
       "    </tr>\n",
       "    <tr>\n",
       "      <th>4539</th>\n",
       "      <td>4903</td>\n",
       "      <td>4903</td>\n",
       "      <td>8 Cropping Street Clyde North VIC 3978</td>\n",
       "      <td>3978</td>\n",
       "      <td>495.0</td>\n",
       "      <td>4</td>\n",
       "      <td>2</td>\n",
       "      <td>2</td>\n",
       "      <td>POINT (145.386116 -38.1042218)</td>\n",
       "      <td>212031556</td>\n",
       "      <td>-38.104222</td>\n",
       "      <td>145.386116</td>\n",
       "      <td>28812.714834</td>\n",
       "      <td>69737.528612</td>\n",
       "      <td>0.0</td>\n",
       "      <td>0.0</td>\n",
       "      <td>1.0</td>\n",
       "      <td>56.476442</td>\n",
       "      <td>1.0</td>\n",
       "    </tr>\n",
       "    <tr>\n",
       "      <th>4540</th>\n",
       "      <td>4904</td>\n",
       "      <td>4904</td>\n",
       "      <td>37 Barley Crescent Clyde North VIC 3978</td>\n",
       "      <td>3978</td>\n",
       "      <td>470.0</td>\n",
       "      <td>4</td>\n",
       "      <td>2</td>\n",
       "      <td>2</td>\n",
       "      <td>POINT (145.3570598 -38.08415)</td>\n",
       "      <td>212031555</td>\n",
       "      <td>-38.084150</td>\n",
       "      <td>145.357060</td>\n",
       "      <td>14034.992778</td>\n",
       "      <td>69737.528612</td>\n",
       "      <td>0.0</td>\n",
       "      <td>0.0</td>\n",
       "      <td>2.0</td>\n",
       "      <td>53.276851</td>\n",
       "      <td>1.0</td>\n",
       "    </tr>\n",
       "    <tr>\n",
       "      <th>4541</th>\n",
       "      <td>4905</td>\n",
       "      <td>4905</td>\n",
       "      <td>6 Viewbright Road Clyde North VIC 3978</td>\n",
       "      <td>3978</td>\n",
       "      <td>535.0</td>\n",
       "      <td>4</td>\n",
       "      <td>2</td>\n",
       "      <td>2</td>\n",
       "      <td>POINT (145.3545777 -38.0808423)</td>\n",
       "      <td>212031555</td>\n",
       "      <td>-38.080842</td>\n",
       "      <td>145.354578</td>\n",
       "      <td>14034.992778</td>\n",
       "      <td>69737.528612</td>\n",
       "      <td>0.0</td>\n",
       "      <td>0.0</td>\n",
       "      <td>2.0</td>\n",
       "      <td>51.284857</td>\n",
       "      <td>1.0</td>\n",
       "    </tr>\n",
       "    <tr>\n",
       "      <th>4542</th>\n",
       "      <td>4906</td>\n",
       "      <td>4906</td>\n",
       "      <td>27 Littleshore Crescent Clyde North VIC 3978</td>\n",
       "      <td>3978</td>\n",
       "      <td>630.0</td>\n",
       "      <td>4</td>\n",
       "      <td>2</td>\n",
       "      <td>2</td>\n",
       "      <td>POINT (145.3354004 -38.0814568)</td>\n",
       "      <td>212031555</td>\n",
       "      <td>-38.081457</td>\n",
       "      <td>145.335400</td>\n",
       "      <td>14034.992778</td>\n",
       "      <td>69737.528612</td>\n",
       "      <td>0.0</td>\n",
       "      <td>0.0</td>\n",
       "      <td>2.0</td>\n",
       "      <td>51.047557</td>\n",
       "      <td>1.0</td>\n",
       "    </tr>\n",
       "  </tbody>\n",
       "</table>\n",
       "<p>4543 rows × 19 columns</p>\n",
       "</div>"
      ],
      "text/plain": [
       "      Unnamed: 0  Unnamed: 0.1  \\\n",
       "0              0             0   \n",
       "1              1             1   \n",
       "2              2             2   \n",
       "3              3             3   \n",
       "4              5             5   \n",
       "...          ...           ...   \n",
       "4538        4902          4902   \n",
       "4539        4903          4903   \n",
       "4540        4904          4904   \n",
       "4541        4905          4905   \n",
       "4542        4906          4906   \n",
       "\n",
       "                                                  name  Postcode  Prices  \\\n",
       "0              1/62 Simpson St East Melbourne VIC 3002      3002   395.0   \n",
       "1     29/8 Wellington Crescent East Melbourne VIC 3002      3002   750.0   \n",
       "2       811v/162 Albert Street East Melbourne VIC 3002      3002   600.0   \n",
       "3        203/33 Cliveden Close East Melbourne VIC 3002      3002   380.0   \n",
       "4      107K/211 Powlett Street East Melbourne VIC 3002      3002   550.0   \n",
       "...                                                ...       ...     ...   \n",
       "4538             33 Ritchie Drive Clyde North VIC 3978      3978   450.0   \n",
       "4539            8 Cropping Street Clyde North VIC 3978      3978   495.0   \n",
       "4540           37 Barley Crescent Clyde North VIC 3978      3978   470.0   \n",
       "4541            6 Viewbright Road Clyde North VIC 3978      3978   535.0   \n",
       "4542      27 Littleshore Crescent Clyde North VIC 3978      3978   630.0   \n",
       "\n",
       "      Bedrooms  Bathrooms  Parkings                         geometry  \\\n",
       "0            1          1         0  POINT (144.9891076 -37.8106659)   \n",
       "1            2          2         2  POINT (144.9776702 -37.8172238)   \n",
       "2            2          1         1  POINT (144.9855313 -37.8100432)   \n",
       "3            1          1         1  POINT (144.9767157 -37.8171001)   \n",
       "4            1          1         1  POINT (144.9859936 -37.8096989)   \n",
       "...        ...        ...       ...                              ...   \n",
       "4538         4          2         2  POINT (145.3370537 -38.1137329)   \n",
       "4539         4          2         2   POINT (145.386116 -38.1042218)   \n",
       "4540         4          2         2    POINT (145.3570598 -38.08415)   \n",
       "4541         4          2         2  POINT (145.3545777 -38.0808423)   \n",
       "4542         4          2         2  POINT (145.3354004 -38.0814568)   \n",
       "\n",
       "       SA2_code  Longitude    Latitude          popu        Income  hos_count  \\\n",
       "0     206041119 -37.810666  144.989108   4965.669440  98664.943495        6.0   \n",
       "1     206041119 -37.817224  144.977670   4965.669440  98664.943495        6.0   \n",
       "2     206041119 -37.810043  144.985531   4965.669440  98664.943495        6.0   \n",
       "3     206041119 -37.817100  144.976716   4965.669440  98664.943495        6.0   \n",
       "4     206041119 -37.809699  144.985994   4965.669440  98664.943495        6.0   \n",
       "...         ...        ...         ...           ...           ...        ...   \n",
       "4538  212031556 -38.113733  145.337054  28812.714834  69737.528612        0.0   \n",
       "4539  212031556 -38.104222  145.386116  28812.714834  69737.528612        0.0   \n",
       "4540  212031555 -38.084150  145.357060  14034.992778  69737.528612        0.0   \n",
       "4541  212031555 -38.080842  145.354578  14034.992778  69737.528612        0.0   \n",
       "4542  212031555 -38.081457  145.335400  14034.992778  69737.528612        0.0   \n",
       "\n",
       "      stop_count  school_count   distance  pct  \n",
       "0            1.0           1.0   2.640393  1.0  \n",
       "1            1.0           1.0   2.127094  1.0  \n",
       "2            1.0           1.0   2.317094  1.0  \n",
       "3            1.0           1.0   1.993894  1.0  \n",
       "4            1.0           1.0   2.114494  1.0  \n",
       "...          ...           ...        ...  ...  \n",
       "4538         0.0           1.0  54.314448  1.0  \n",
       "4539         0.0           1.0  56.476442  1.0  \n",
       "4540         0.0           2.0  53.276851  1.0  \n",
       "4541         0.0           2.0  51.284857  1.0  \n",
       "4542         0.0           2.0  51.047557  1.0  \n",
       "\n",
       "[4543 rows x 19 columns]"
      ]
     },
     "execution_count": 6,
     "metadata": {},
     "output_type": "execute_result"
    }
   ],
   "source": [
    "train_df"
   ]
  },
  {
   "cell_type": "code",
   "execution_count": 7,
   "id": "60d58bb2",
   "metadata": {},
   "outputs": [],
   "source": [
    "# predict_df (data in 2025).\n",
    "\n",
    "predict_df = gpd_domain.drop(['popu2022', 'Income2022'], axis=1)\n",
    "predict_df = predict_df.rename({'popu2025': 'popu', 'Income2025': 'Income'}, axis=1)"
   ]
  },
  {
   "cell_type": "code",
   "execution_count": 8,
   "id": "6950a8e5",
   "metadata": {},
   "outputs": [
    {
     "data": {
      "text/html": [
       "<div>\n",
       "<style scoped>\n",
       "    .dataframe tbody tr th:only-of-type {\n",
       "        vertical-align: middle;\n",
       "    }\n",
       "\n",
       "    .dataframe tbody tr th {\n",
       "        vertical-align: top;\n",
       "    }\n",
       "\n",
       "    .dataframe thead th {\n",
       "        text-align: right;\n",
       "    }\n",
       "</style>\n",
       "<table border=\"1\" class=\"dataframe\">\n",
       "  <thead>\n",
       "    <tr style=\"text-align: right;\">\n",
       "      <th></th>\n",
       "      <th>Unnamed: 0</th>\n",
       "      <th>Unnamed: 0.1</th>\n",
       "      <th>name</th>\n",
       "      <th>Postcode</th>\n",
       "      <th>Prices</th>\n",
       "      <th>Bedrooms</th>\n",
       "      <th>Bathrooms</th>\n",
       "      <th>Parkings</th>\n",
       "      <th>geometry</th>\n",
       "      <th>SA2_code</th>\n",
       "      <th>Longitude</th>\n",
       "      <th>Latitude</th>\n",
       "      <th>popu</th>\n",
       "      <th>Income</th>\n",
       "      <th>hos_count</th>\n",
       "      <th>stop_count</th>\n",
       "      <th>school_count</th>\n",
       "      <th>distance</th>\n",
       "      <th>pct</th>\n",
       "    </tr>\n",
       "  </thead>\n",
       "  <tbody>\n",
       "    <tr>\n",
       "      <th>0</th>\n",
       "      <td>0</td>\n",
       "      <td>0</td>\n",
       "      <td>1/62 Simpson St East Melbourne VIC 3002</td>\n",
       "      <td>3002</td>\n",
       "      <td>395.0</td>\n",
       "      <td>1</td>\n",
       "      <td>1</td>\n",
       "      <td>0</td>\n",
       "      <td>POINT (144.9891076 -37.8106659)</td>\n",
       "      <td>206041119</td>\n",
       "      <td>-37.810666</td>\n",
       "      <td>144.989108</td>\n",
       "      <td>4555.306297</td>\n",
       "      <td>102957.654101</td>\n",
       "      <td>6.0</td>\n",
       "      <td>1.0</td>\n",
       "      <td>1.0</td>\n",
       "      <td>2.640393</td>\n",
       "      <td>1.0</td>\n",
       "    </tr>\n",
       "    <tr>\n",
       "      <th>1</th>\n",
       "      <td>1</td>\n",
       "      <td>1</td>\n",
       "      <td>29/8 Wellington Crescent East Melbourne VIC 3002</td>\n",
       "      <td>3002</td>\n",
       "      <td>750.0</td>\n",
       "      <td>2</td>\n",
       "      <td>2</td>\n",
       "      <td>2</td>\n",
       "      <td>POINT (144.9776702 -37.8172238)</td>\n",
       "      <td>206041119</td>\n",
       "      <td>-37.817224</td>\n",
       "      <td>144.977670</td>\n",
       "      <td>4555.306297</td>\n",
       "      <td>102957.654101</td>\n",
       "      <td>6.0</td>\n",
       "      <td>1.0</td>\n",
       "      <td>1.0</td>\n",
       "      <td>2.127094</td>\n",
       "      <td>1.0</td>\n",
       "    </tr>\n",
       "    <tr>\n",
       "      <th>2</th>\n",
       "      <td>2</td>\n",
       "      <td>2</td>\n",
       "      <td>811v/162 Albert Street East Melbourne VIC 3002</td>\n",
       "      <td>3002</td>\n",
       "      <td>600.0</td>\n",
       "      <td>2</td>\n",
       "      <td>1</td>\n",
       "      <td>1</td>\n",
       "      <td>POINT (144.9855313 -37.8100432)</td>\n",
       "      <td>206041119</td>\n",
       "      <td>-37.810043</td>\n",
       "      <td>144.985531</td>\n",
       "      <td>4555.306297</td>\n",
       "      <td>102957.654101</td>\n",
       "      <td>6.0</td>\n",
       "      <td>1.0</td>\n",
       "      <td>1.0</td>\n",
       "      <td>2.317094</td>\n",
       "      <td>1.0</td>\n",
       "    </tr>\n",
       "    <tr>\n",
       "      <th>3</th>\n",
       "      <td>3</td>\n",
       "      <td>3</td>\n",
       "      <td>203/33 Cliveden Close East Melbourne VIC 3002</td>\n",
       "      <td>3002</td>\n",
       "      <td>380.0</td>\n",
       "      <td>1</td>\n",
       "      <td>1</td>\n",
       "      <td>1</td>\n",
       "      <td>POINT (144.9767157 -37.8171001)</td>\n",
       "      <td>206041119</td>\n",
       "      <td>-37.817100</td>\n",
       "      <td>144.976716</td>\n",
       "      <td>4555.306297</td>\n",
       "      <td>102957.654101</td>\n",
       "      <td>6.0</td>\n",
       "      <td>1.0</td>\n",
       "      <td>1.0</td>\n",
       "      <td>1.993894</td>\n",
       "      <td>1.0</td>\n",
       "    </tr>\n",
       "    <tr>\n",
       "      <th>4</th>\n",
       "      <td>5</td>\n",
       "      <td>5</td>\n",
       "      <td>107K/211 Powlett Street East Melbourne VIC 3002</td>\n",
       "      <td>3002</td>\n",
       "      <td>550.0</td>\n",
       "      <td>1</td>\n",
       "      <td>1</td>\n",
       "      <td>1</td>\n",
       "      <td>POINT (144.9859936 -37.8096989)</td>\n",
       "      <td>206041119</td>\n",
       "      <td>-37.809699</td>\n",
       "      <td>144.985994</td>\n",
       "      <td>4555.306297</td>\n",
       "      <td>102957.654101</td>\n",
       "      <td>6.0</td>\n",
       "      <td>1.0</td>\n",
       "      <td>1.0</td>\n",
       "      <td>2.114494</td>\n",
       "      <td>1.0</td>\n",
       "    </tr>\n",
       "    <tr>\n",
       "      <th>...</th>\n",
       "      <td>...</td>\n",
       "      <td>...</td>\n",
       "      <td>...</td>\n",
       "      <td>...</td>\n",
       "      <td>...</td>\n",
       "      <td>...</td>\n",
       "      <td>...</td>\n",
       "      <td>...</td>\n",
       "      <td>...</td>\n",
       "      <td>...</td>\n",
       "      <td>...</td>\n",
       "      <td>...</td>\n",
       "      <td>...</td>\n",
       "      <td>...</td>\n",
       "      <td>...</td>\n",
       "      <td>...</td>\n",
       "      <td>...</td>\n",
       "      <td>...</td>\n",
       "      <td>...</td>\n",
       "    </tr>\n",
       "    <tr>\n",
       "      <th>4538</th>\n",
       "      <td>4902</td>\n",
       "      <td>4902</td>\n",
       "      <td>33 Ritchie Drive Clyde North VIC 3978</td>\n",
       "      <td>3978</td>\n",
       "      <td>450.0</td>\n",
       "      <td>4</td>\n",
       "      <td>2</td>\n",
       "      <td>2</td>\n",
       "      <td>POINT (145.3370537 -38.1137329)</td>\n",
       "      <td>212031556</td>\n",
       "      <td>-38.113733</td>\n",
       "      <td>145.337054</td>\n",
       "      <td>103901.443821</td>\n",
       "      <td>76306.170584</td>\n",
       "      <td>0.0</td>\n",
       "      <td>0.0</td>\n",
       "      <td>1.0</td>\n",
       "      <td>54.314448</td>\n",
       "      <td>1.0</td>\n",
       "    </tr>\n",
       "    <tr>\n",
       "      <th>4539</th>\n",
       "      <td>4903</td>\n",
       "      <td>4903</td>\n",
       "      <td>8 Cropping Street Clyde North VIC 3978</td>\n",
       "      <td>3978</td>\n",
       "      <td>495.0</td>\n",
       "      <td>4</td>\n",
       "      <td>2</td>\n",
       "      <td>2</td>\n",
       "      <td>POINT (145.386116 -38.1042218)</td>\n",
       "      <td>212031556</td>\n",
       "      <td>-38.104222</td>\n",
       "      <td>145.386116</td>\n",
       "      <td>103901.443821</td>\n",
       "      <td>76306.170584</td>\n",
       "      <td>0.0</td>\n",
       "      <td>0.0</td>\n",
       "      <td>1.0</td>\n",
       "      <td>56.476442</td>\n",
       "      <td>1.0</td>\n",
       "    </tr>\n",
       "    <tr>\n",
       "      <th>4540</th>\n",
       "      <td>4904</td>\n",
       "      <td>4904</td>\n",
       "      <td>37 Barley Crescent Clyde North VIC 3978</td>\n",
       "      <td>3978</td>\n",
       "      <td>470.0</td>\n",
       "      <td>4</td>\n",
       "      <td>2</td>\n",
       "      <td>2</td>\n",
       "      <td>POINT (145.3570598 -38.08415)</td>\n",
       "      <td>212031555</td>\n",
       "      <td>-38.084150</td>\n",
       "      <td>145.357060</td>\n",
       "      <td>26309.739852</td>\n",
       "      <td>76306.170584</td>\n",
       "      <td>0.0</td>\n",
       "      <td>0.0</td>\n",
       "      <td>2.0</td>\n",
       "      <td>53.276851</td>\n",
       "      <td>1.0</td>\n",
       "    </tr>\n",
       "    <tr>\n",
       "      <th>4541</th>\n",
       "      <td>4905</td>\n",
       "      <td>4905</td>\n",
       "      <td>6 Viewbright Road Clyde North VIC 3978</td>\n",
       "      <td>3978</td>\n",
       "      <td>535.0</td>\n",
       "      <td>4</td>\n",
       "      <td>2</td>\n",
       "      <td>2</td>\n",
       "      <td>POINT (145.3545777 -38.0808423)</td>\n",
       "      <td>212031555</td>\n",
       "      <td>-38.080842</td>\n",
       "      <td>145.354578</td>\n",
       "      <td>26309.739852</td>\n",
       "      <td>76306.170584</td>\n",
       "      <td>0.0</td>\n",
       "      <td>0.0</td>\n",
       "      <td>2.0</td>\n",
       "      <td>51.284857</td>\n",
       "      <td>1.0</td>\n",
       "    </tr>\n",
       "    <tr>\n",
       "      <th>4542</th>\n",
       "      <td>4906</td>\n",
       "      <td>4906</td>\n",
       "      <td>27 Littleshore Crescent Clyde North VIC 3978</td>\n",
       "      <td>3978</td>\n",
       "      <td>630.0</td>\n",
       "      <td>4</td>\n",
       "      <td>2</td>\n",
       "      <td>2</td>\n",
       "      <td>POINT (145.3354004 -38.0814568)</td>\n",
       "      <td>212031555</td>\n",
       "      <td>-38.081457</td>\n",
       "      <td>145.335400</td>\n",
       "      <td>26309.739852</td>\n",
       "      <td>76306.170584</td>\n",
       "      <td>0.0</td>\n",
       "      <td>0.0</td>\n",
       "      <td>2.0</td>\n",
       "      <td>51.047557</td>\n",
       "      <td>1.0</td>\n",
       "    </tr>\n",
       "  </tbody>\n",
       "</table>\n",
       "<p>4543 rows × 19 columns</p>\n",
       "</div>"
      ],
      "text/plain": [
       "      Unnamed: 0  Unnamed: 0.1  \\\n",
       "0              0             0   \n",
       "1              1             1   \n",
       "2              2             2   \n",
       "3              3             3   \n",
       "4              5             5   \n",
       "...          ...           ...   \n",
       "4538        4902          4902   \n",
       "4539        4903          4903   \n",
       "4540        4904          4904   \n",
       "4541        4905          4905   \n",
       "4542        4906          4906   \n",
       "\n",
       "                                                  name  Postcode  Prices  \\\n",
       "0              1/62 Simpson St East Melbourne VIC 3002      3002   395.0   \n",
       "1     29/8 Wellington Crescent East Melbourne VIC 3002      3002   750.0   \n",
       "2       811v/162 Albert Street East Melbourne VIC 3002      3002   600.0   \n",
       "3        203/33 Cliveden Close East Melbourne VIC 3002      3002   380.0   \n",
       "4      107K/211 Powlett Street East Melbourne VIC 3002      3002   550.0   \n",
       "...                                                ...       ...     ...   \n",
       "4538             33 Ritchie Drive Clyde North VIC 3978      3978   450.0   \n",
       "4539            8 Cropping Street Clyde North VIC 3978      3978   495.0   \n",
       "4540           37 Barley Crescent Clyde North VIC 3978      3978   470.0   \n",
       "4541            6 Viewbright Road Clyde North VIC 3978      3978   535.0   \n",
       "4542      27 Littleshore Crescent Clyde North VIC 3978      3978   630.0   \n",
       "\n",
       "      Bedrooms  Bathrooms  Parkings                         geometry  \\\n",
       "0            1          1         0  POINT (144.9891076 -37.8106659)   \n",
       "1            2          2         2  POINT (144.9776702 -37.8172238)   \n",
       "2            2          1         1  POINT (144.9855313 -37.8100432)   \n",
       "3            1          1         1  POINT (144.9767157 -37.8171001)   \n",
       "4            1          1         1  POINT (144.9859936 -37.8096989)   \n",
       "...        ...        ...       ...                              ...   \n",
       "4538         4          2         2  POINT (145.3370537 -38.1137329)   \n",
       "4539         4          2         2   POINT (145.386116 -38.1042218)   \n",
       "4540         4          2         2    POINT (145.3570598 -38.08415)   \n",
       "4541         4          2         2  POINT (145.3545777 -38.0808423)   \n",
       "4542         4          2         2  POINT (145.3354004 -38.0814568)   \n",
       "\n",
       "       SA2_code  Longitude    Latitude           popu         Income  \\\n",
       "0     206041119 -37.810666  144.989108    4555.306297  102957.654101   \n",
       "1     206041119 -37.817224  144.977670    4555.306297  102957.654101   \n",
       "2     206041119 -37.810043  144.985531    4555.306297  102957.654101   \n",
       "3     206041119 -37.817100  144.976716    4555.306297  102957.654101   \n",
       "4     206041119 -37.809699  144.985994    4555.306297  102957.654101   \n",
       "...         ...        ...         ...            ...            ...   \n",
       "4538  212031556 -38.113733  145.337054  103901.443821   76306.170584   \n",
       "4539  212031556 -38.104222  145.386116  103901.443821   76306.170584   \n",
       "4540  212031555 -38.084150  145.357060   26309.739852   76306.170584   \n",
       "4541  212031555 -38.080842  145.354578   26309.739852   76306.170584   \n",
       "4542  212031555 -38.081457  145.335400   26309.739852   76306.170584   \n",
       "\n",
       "      hos_count  stop_count  school_count   distance  pct  \n",
       "0           6.0         1.0           1.0   2.640393  1.0  \n",
       "1           6.0         1.0           1.0   2.127094  1.0  \n",
       "2           6.0         1.0           1.0   2.317094  1.0  \n",
       "3           6.0         1.0           1.0   1.993894  1.0  \n",
       "4           6.0         1.0           1.0   2.114494  1.0  \n",
       "...         ...         ...           ...        ...  ...  \n",
       "4538        0.0         0.0           1.0  54.314448  1.0  \n",
       "4539        0.0         0.0           1.0  56.476442  1.0  \n",
       "4540        0.0         0.0           2.0  53.276851  1.0  \n",
       "4541        0.0         0.0           2.0  51.284857  1.0  \n",
       "4542        0.0         0.0           2.0  51.047557  1.0  \n",
       "\n",
       "[4543 rows x 19 columns]"
      ]
     },
     "execution_count": 8,
     "metadata": {},
     "output_type": "execute_result"
    }
   ],
   "source": [
    "predict_df"
   ]
  },
  {
   "cell_type": "markdown",
   "id": "fcc48195",
   "metadata": {},
   "source": [
    "## \\# GLM"
   ]
  },
  {
   "cell_type": "markdown",
   "id": "5ff6cafd",
   "metadata": {},
   "source": [
    "## 1. GLM with Gamma Family"
   ]
  },
  {
   "cell_type": "code",
   "execution_count": 54,
   "id": "a3d96a6e",
   "metadata": {},
   "outputs": [
    {
     "name": "stdout",
     "output_type": "stream",
     "text": [
      "                 Generalized Linear Model Regression Results                  \n",
      "==============================================================================\n",
      "Dep. Variable:                 Prices   No. Observations:                 4543\n",
      "Model:                            GLM   Df Residuals:                     4529\n",
      "Model Family:                   Gamma   Df Model:                           13\n",
      "Link Function:          inverse_power   Scale:                        0.037327\n",
      "Method:                          IRLS   Log-Likelihood:                -26672.\n",
      "Date:                Fri, 07 Oct 2022   Deviance:                       163.18\n",
      "Time:                        00:17:30   Pearson chi2:                     169.\n",
      "No. Iterations:                    10                                         \n",
      "Covariance Type:            nonrobust                                         \n",
      "================================================================================\n",
      "                   coef    std err          z      P>|z|      [0.025      0.975]\n",
      "--------------------------------------------------------------------------------\n",
      "Intercept        0.0128      0.002      7.621      0.000       0.010       0.016\n",
      "Postcode      1.533e-07    2.9e-08      5.280      0.000    9.64e-08     2.1e-07\n",
      "Bedrooms        -0.0002   8.71e-06    -24.607      0.000      -0.000      -0.000\n",
      "Bathrooms       -0.0002   1.23e-05    -20.177      0.000      -0.000      -0.000\n",
      "Parkings     -2.691e-05   7.08e-06     -3.799      0.000   -4.08e-05    -1.3e-05\n",
      "SA2_code      7.764e-12   1.38e-12      5.622      0.000    5.06e-12    1.05e-11\n",
      "Longitude     9.986e-05   1.68e-05      5.954      0.000     6.7e-05       0.000\n",
      "Latitude     -4.987e-05   1.05e-05     -4.734      0.000   -7.05e-05   -2.92e-05\n",
      "popu          2.599e-09   1.36e-09      1.911      0.056   -6.71e-11    5.27e-09\n",
      "Income       -1.192e-08   4.78e-10    -24.920      0.000   -1.29e-08    -1.1e-08\n",
      "hos_count    -1.417e-05   1.46e-06     -9.682      0.000    -1.7e-05   -1.13e-05\n",
      "stop_count   -2.445e-05   7.59e-06     -3.223      0.001   -3.93e-05   -9.58e-06\n",
      "school_count  9.269e-06   3.52e-06      2.634      0.008    2.37e-06    1.62e-05\n",
      "distance      5.362e-07   1.38e-07      3.890      0.000    2.66e-07    8.06e-07\n",
      "================================================================================\n"
     ]
    },
    {
     "name": "stderr",
     "output_type": "stream",
     "text": [
      "/Users/kitty/opt/anaconda3/lib/python3.8/site-packages/statsmodels/genmod/generalized_linear_model.py:293: DomainWarning: The inverse_power link function does not respect the domain of the Gamma family.\n",
      "  warnings.warn((f\"The {type(family.link).__name__} link function \"\n"
     ]
    }
   ],
   "source": [
    "from statsmodels.api import families\n",
    "\n",
    "# statsmodels glm\n",
    "gamma_fit = glm(\n",
    "    formula=\"Prices ~ Bedrooms + Bathrooms + Parkings + \\\n",
    "                popu + Income + hos_count + stop_count + school_count + distance\",\n",
    "    data=train_df, \n",
    "    family=families.Gamma()\n",
    ").fit()\n",
    "\n",
    "print(gamma_fit.summary())"
   ]
  },
  {
   "cell_type": "code",
   "execution_count": 55,
   "id": "00a45305",
   "metadata": {},
   "outputs": [
    {
     "name": "stdout",
     "output_type": "stream",
     "text": [
      "53371.19797307467\n"
     ]
    }
   ],
   "source": [
    "print(gamma_fit.aic)"
   ]
  },
  {
   "cell_type": "markdown",
   "id": "891e1683",
   "metadata": {},
   "source": [
    "### Residual vs Fitted Value Plot"
   ]
  },
  {
   "cell_type": "code",
   "execution_count": 56,
   "id": "e27bcc13",
   "metadata": {},
   "outputs": [],
   "source": [
    "%matplotlib inline\n",
    "\n",
    "plt.style.use('seaborn')\n",
    "\n",
    "plt.rc('font', size=14)\n",
    "plt.rc('figure', titlesize=18)\n",
    "plt.rc('axes', labelsize=15)\n",
    "plt.rc('axes', titlesize=18)"
   ]
  },
  {
   "cell_type": "code",
   "execution_count": 57,
   "id": "973ce134",
   "metadata": {},
   "outputs": [],
   "source": [
    "# fitted values (need a constant term for intercept)\n",
    "model_fitted_y = gamma_fit.fittedvalues\n",
    "\n",
    "# model residuals\n",
    "model_residuals = gamma_fit.resid_deviance\n",
    "\n",
    "# normalized residuals\n",
    "#model_norm_residuals = fit.get_influence().resid_studentized_internal\n",
    "\n",
    "# absolute squared normalized residuals\n",
    "#model_norm_residuals_abs_sqrt = np.sqrt(np.abs(model_norm_residuals))\n",
    "\n",
    "# absolute residuals\n",
    "model_abs_resid = np.abs(model_residuals)\n",
    "\n",
    "# leverage, from statsmodels internals\n",
    "model_leverage = gamma_fit.get_influence().hat_matrix_diag\n",
    "\n",
    "# cook's distance, from statsmodels internals\n",
    "model_cooks = gamma_fit.get_influence().cooks_distance[0]"
   ]
  },
  {
   "cell_type": "code",
   "execution_count": 58,
   "id": "e2851a12",
   "metadata": {},
   "outputs": [
    {
     "data": {
      "text/plain": [
       "Text(0, 0.5, 'Residuals')"
      ]
     },
     "execution_count": 58,
     "metadata": {},
     "output_type": "execute_result"
    },
    {
     "data": {
      "image/png": "[encoded data removed]",
      "text/plain": [
       "<Figure size 576x396 with 1 Axes>"
      ]
     },
     "metadata": {},
     "output_type": "display_data"
    }
   ],
   "source": [
    "#  Plot\n",
    "plot = sns.residplot(x=model_fitted_y, y='Prices', data=train_df, lowess=True, \n",
    "                     scatter_kws={'alpha': 0.5}, \n",
    "                     line_kws={'color': 'red', 'lw': 1, 'alpha': 0.8})\n",
    "\n",
    "# Titel and labels\n",
    "plot.set_title('Residuals vs Fitted')\n",
    "plot.set_xlabel('Fitted values')\n",
    "plot.set_ylabel('Residuals')"
   ]
  },
  {
   "cell_type": "markdown",
   "id": "d80cc6d4",
   "metadata": {},
   "source": [
    "### QQ Plot"
   ]
  },
  {
   "cell_type": "code",
   "execution_count": 59,
   "id": "0aa5aac7",
   "metadata": {},
   "outputs": [
    {
     "data": {
      "image/png": "[encoded data removed]",
      "text/plain": [
       "<Figure size 576x396 with 1 Axes>"
      ]
     },
     "metadata": {},
     "output_type": "display_data"
    }
   ],
   "source": [
    "import scipy.stats as stats\n",
    "#fig = sm.qqplot(model_residuals,fit=True, dist='poisson')\n",
    "stats.probplot(model_residuals, dist='gamma', sparams=(2.5,), plot=plt)\n",
    "plt.show()"
   ]
  },
  {
   "cell_type": "markdown",
   "id": "95dc52d1",
   "metadata": {},
   "source": [
    "### Mean absolute percentage error"
   ]
  },
  {
   "cell_type": "code",
   "execution_count": 60,
   "id": "1cb0a5bd",
   "metadata": {},
   "outputs": [
    {
     "data": {
      "text/plain": [
       "0       471.779450\n",
       "1       624.170147\n",
       "2       532.348932\n",
       "3       477.929623\n",
       "4       477.851724\n",
       "           ...    \n",
       "4538    491.286031\n",
       "4539    491.367540\n",
       "4540    542.166337\n",
       "4541    542.346885\n",
       "4542    542.121148\n",
       "Length: 4543, dtype: float64"
      ]
     },
     "execution_count": 60,
     "metadata": {},
     "output_type": "execute_result"
    }
   ],
   "source": [
    "# Predict using 2025 data.\n",
    "\n",
    "gamma_predict = gamma_fit.predict(predict_df)\n",
    "gamma_predict"
   ]
  },
  {
   "cell_type": "code",
   "execution_count": 61,
   "id": "66822494",
   "metadata": {},
   "outputs": [
    {
     "data": {
      "text/plain": [
       "0.16375372354553477"
      ]
     },
     "execution_count": 61,
     "metadata": {},
     "output_type": "execute_result"
    }
   ],
   "source": [
    "mean_absolute_percentage_error(train_df['Prices'], gamma_predict)"
   ]
  },
  {
   "cell_type": "markdown",
   "id": "2581ce11",
   "metadata": {},
   "source": [
    "## 2. GLM with Poisson Family"
   ]
  },
  {
   "cell_type": "code",
   "execution_count": 62,
   "id": "eb1f1d57",
   "metadata": {},
   "outputs": [
    {
     "name": "stdout",
     "output_type": "stream",
     "text": [
      "                 Generalized Linear Model Regression Results                  \n",
      "==============================================================================\n",
      "Dep. Variable:                 Prices   No. Observations:                 4543\n",
      "Model:                            GLM   Df Residuals:                     4529\n",
      "Model Family:                 Poisson   Df Model:                           13\n",
      "Link Function:                    log   Scale:                          1.0000\n",
      "Method:                          IRLS   Log-Likelihood:                -54506.\n",
      "Date:                Fri, 07 Oct 2022   Deviance:                       72896.\n",
      "Time:                        00:17:38   Pearson chi2:                 7.51e+04\n",
      "No. Iterations:                     4                                         \n",
      "Covariance Type:            nonrobust                                         \n",
      "================================================================================\n",
      "                   coef    std err          z      P>|z|      [0.025      0.975]\n",
      "--------------------------------------------------------------------------------\n",
      "Intercept        1.6573      0.180      9.200      0.000       1.304       2.010\n",
      "Postcode     -7.814e-05   3.28e-06    -23.813      0.000   -8.46e-05   -7.17e-05\n",
      "Bedrooms         0.1017      0.001    101.514      0.000       0.100       0.104\n",
      "Bathrooms        0.1262      0.001     86.569      0.000       0.123       0.129\n",
      "Parkings         0.0117      0.001     14.430      0.000       0.010       0.013\n",
      "SA2_code     -2.783e-09   1.53e-10    -18.130      0.000   -3.08e-09   -2.48e-09\n",
      "Longitude       -0.0404      0.002    -22.799      0.000      -0.044      -0.037\n",
      "Latitude         0.0201      0.001     18.008      0.000       0.018       0.022\n",
      "popu         -1.525e-06   1.54e-07     -9.892      0.000   -1.83e-06   -1.22e-06\n",
      "Income        5.923e-06   5.61e-08    105.556      0.000    5.81e-06    6.03e-06\n",
      "hos_count        0.0073      0.000     42.809      0.000       0.007       0.008\n",
      "stop_count       0.0126      0.001     14.334      0.000       0.011       0.014\n",
      "school_count    -0.0039      0.000    -10.002      0.000      -0.005      -0.003\n",
      "distance        -0.0001   1.48e-05     -9.211      0.000      -0.000      -0.000\n",
      "================================================================================\n"
     ]
    }
   ],
   "source": [
    "# statsmodels glm\n",
    "pos_fit = glm(\n",
    "    formula=\"Prices ~ Bedrooms + Bathrooms + Parkings + \\\n",
    "                popu + Income + hos_count + stop_count + school_count + distance\",\n",
    "    data=train_df, \n",
    "    family=families.Poisson()\n",
    ").fit()\n",
    "\n",
    "print(pos_fit.summary())"
   ]
  },
  {
   "cell_type": "code",
   "execution_count": 63,
   "id": "64a7f64f",
   "metadata": {},
   "outputs": [
    {
     "name": "stdout",
     "output_type": "stream",
     "text": [
      "109040.47176147635\n"
     ]
    }
   ],
   "source": [
    "print(pos_fit.aic)"
   ]
  },
  {
   "cell_type": "markdown",
   "id": "b0b51013",
   "metadata": {},
   "source": [
    "### Residual vs Fitted Value Plot"
   ]
  },
  {
   "cell_type": "code",
   "execution_count": 64,
   "id": "8f724a1c",
   "metadata": {},
   "outputs": [],
   "source": [
    "%matplotlib inline\n",
    "\n",
    "plt.style.use('seaborn') # pretty matplotlib plots\n",
    "\n",
    "plt.rc('font', size=14)\n",
    "plt.rc('figure', titlesize=18)\n",
    "plt.rc('axes', labelsize=15)\n",
    "plt.rc('axes', titlesize=18)"
   ]
  },
  {
   "cell_type": "code",
   "execution_count": 65,
   "id": "fdc3b9f6",
   "metadata": {},
   "outputs": [],
   "source": [
    "# fitted values (need a constant term for intercept)\n",
    "model_fitted_y = pos_fit.fittedvalues\n",
    "\n",
    "# model residuals\n",
    "model_residuals = pos_fit.resid_deviance\n",
    "\n",
    "# normalized residuals\n",
    "#model_norm_residuals = fit.get_influence().resid_studentized_internal\n",
    "\n",
    "# absolute squared normalized residuals\n",
    "#model_norm_residuals_abs_sqrt = np.sqrt(np.abs(model_norm_residuals))\n",
    "\n",
    "# absolute residuals\n",
    "model_abs_resid = np.abs(model_residuals)\n",
    "\n",
    "# leverage, from statsmodels internals\n",
    "model_leverage = pos_fit.get_influence().hat_matrix_diag\n",
    "\n",
    "# cook's distance, from statsmodels internals\n",
    "model_cooks = pos_fit.get_influence().cooks_distance[0]"
   ]
  },
  {
   "cell_type": "code",
   "execution_count": 66,
   "id": "8aa05cca",
   "metadata": {},
   "outputs": [
    {
     "data": {
      "text/plain": [
       "Text(0, 0.5, 'Residuals')"
      ]
     },
     "execution_count": 66,
     "metadata": {},
     "output_type": "execute_result"
    },
    {
     "data": {
      "image/png": "[encoded data removed]",
      "text/plain": [
       "<Figure size 576x396 with 1 Axes>"
      ]
     },
     "metadata": {},
     "output_type": "display_data"
    }
   ],
   "source": [
    "#  Plot\n",
    "plot = sns.residplot(x=model_fitted_y, y='Prices', data=train_df, lowess=True, \n",
    "                     scatter_kws={'alpha': 0.5}, \n",
    "                     line_kws={'color': 'red', 'lw': 1, 'alpha': 0.8})\n",
    "\n",
    "# Titel and labels\n",
    "plot.set_title('Residuals vs Fitted')\n",
    "plot.set_xlabel('Fitted values')\n",
    "plot.set_ylabel('Residuals')"
   ]
  },
  {
   "cell_type": "markdown",
   "id": "e46a9d4d",
   "metadata": {},
   "source": [
    "### QQ Plot"
   ]
  },
  {
   "cell_type": "code",
   "execution_count": 67,
   "id": "1e7d0cec",
   "metadata": {},
   "outputs": [
    {
     "data": {
      "image/png": "[encoded data removed]",
      "text/plain": [
       "<Figure size 576x396 with 1 Axes>"
      ]
     },
     "metadata": {},
     "output_type": "display_data"
    }
   ],
   "source": [
    "import scipy.stats as stats\n",
    "#fig = sm.qqplot(model_residuals,fit=True, dist='poisson')\n",
    "stats.probplot(model_residuals, dist='poisson', sparams=(2.5,), plot=plt)\n",
    "plt.show()"
   ]
  },
  {
   "cell_type": "markdown",
   "id": "d13603cd",
   "metadata": {},
   "source": [
    "### Mean absolute percentage error"
   ]
  },
  {
   "cell_type": "code",
   "execution_count": 68,
   "id": "dc501378",
   "metadata": {},
   "outputs": [
    {
     "data": {
      "text/plain": [
       "0       479.414965\n",
       "1       616.530450\n",
       "2       537.004458\n",
       "3       485.127804\n",
       "4       485.065327\n",
       "           ...    \n",
       "4538    483.343569\n",
       "4539    483.491872\n",
       "4540    541.576460\n",
       "4541    541.624446\n",
       "4542    541.446728\n",
       "Length: 4543, dtype: float64"
      ]
     },
     "execution_count": 68,
     "metadata": {},
     "output_type": "execute_result"
    }
   ],
   "source": [
    "# Predict using 2025 data.\n",
    "\n",
    "pos_predict = pos_fit.predict(predict_df)\n",
    "pos_predict"
   ]
  },
  {
   "cell_type": "code",
   "execution_count": 69,
   "id": "43a44128",
   "metadata": {},
   "outputs": [
    {
     "data": {
      "text/plain": [
       "0.1628091938310762"
      ]
     },
     "execution_count": 69,
     "metadata": {},
     "output_type": "execute_result"
    }
   ],
   "source": [
    "mean_absolute_percentage_error(train_df['Prices'], pos_predict)"
   ]
  },
  {
   "cell_type": "markdown",
   "id": "ba82cca4",
   "metadata": {},
   "source": [
    "## 3. GLM with Gaussian Family"
   ]
  },
  {
   "cell_type": "code",
   "execution_count": 70,
   "id": "8079767b",
   "metadata": {},
   "outputs": [
    {
     "name": "stdout",
     "output_type": "stream",
     "text": [
      "                 Generalized Linear Model Regression Results                  \n",
      "==============================================================================\n",
      "Dep. Variable:                 Prices   No. Observations:                 4543\n",
      "Model:                            GLM   Df Residuals:                     4529\n",
      "Model Family:                Gaussian   Df Model:                           13\n",
      "Link Function:               identity   Scale:                          7738.0\n",
      "Method:                          IRLS   Log-Likelihood:                -26778.\n",
      "Date:                Fri, 07 Oct 2022   Deviance:                   3.5045e+07\n",
      "Time:                        00:17:45   Pearson chi2:                 3.50e+07\n",
      "No. Iterations:                     3                                         \n",
      "Covariance Type:            nonrobust                                         \n",
      "================================================================================\n",
      "                   coef    std err          z      P>|z|      [0.025      0.975]\n",
      "--------------------------------------------------------------------------------\n",
      "Intercept    -1406.1145    321.994     -4.367      0.000   -2037.210    -775.019\n",
      "Postcode        -0.0378      0.006     -6.068      0.000      -0.050      -0.026\n",
      "Bedrooms        46.6531      1.908     24.453      0.000      42.914      50.392\n",
      "Bathrooms       62.2927      2.860     21.782      0.000      56.688      67.898\n",
      "Parkings         5.1383      1.563      3.288      0.001       2.076       8.201\n",
      "SA2_code     -8.564e-07    2.6e-07     -3.291      0.001   -1.37e-06   -3.46e-07\n",
      "Longitude      -15.7575      3.130     -5.035      0.000     -21.891      -9.624\n",
      "Latitude         8.0092      1.994      4.017      0.000       4.102      11.917\n",
      "popu            -0.0008      0.000     -2.873      0.004      -0.001      -0.000\n",
      "Income           0.0029      0.000     26.208      0.000       0.003       0.003\n",
      "hos_count        3.5810      0.334     10.724      0.000       2.927       4.235\n",
      "stop_count       6.2330      1.698      3.671      0.000       2.905       9.561\n",
      "school_count    -1.6158      0.728     -2.220      0.026      -3.042      -0.189\n",
      "distance        -0.0196      0.027     -0.729      0.466      -0.072       0.033\n",
      "================================================================================\n"
     ]
    }
   ],
   "source": [
    "gaus_fit = glm(\n",
    "    formula=\"Prices ~ Bedrooms + Bathrooms + Parkings + \\\n",
    "                popu + Income + hos_count + stop_count + school_count + distance\",\n",
    "    data=train_df, \n",
    "    family=families.Gaussian()\n",
    ").fit()\n",
    "\n",
    "print(gaus_fit.summary())"
   ]
  },
  {
   "cell_type": "code",
   "execution_count": 71,
   "id": "92c7ce9a",
   "metadata": {},
   "outputs": [
    {
     "name": "stdout",
     "output_type": "stream",
     "text": [
      "53584.01018875337\n"
     ]
    }
   ],
   "source": [
    "print(gaus_fit.aic)"
   ]
  },
  {
   "cell_type": "code",
   "execution_count": 72,
   "id": "997ca833",
   "metadata": {},
   "outputs": [],
   "source": [
    "%matplotlib inline\n",
    "\n",
    "plt.style.use('seaborn') # pretty matplotlib plots\n",
    "\n",
    "plt.rc('font', size=14)\n",
    "plt.rc('figure', titlesize=18)\n",
    "plt.rc('axes', labelsize=15)\n",
    "plt.rc('axes', titlesize=18)"
   ]
  },
  {
   "cell_type": "code",
   "execution_count": 73,
   "id": "df2b2d53",
   "metadata": {},
   "outputs": [],
   "source": [
    "# fitted values (need a constant term for intercept)\n",
    "model_fitted_y = gaus_fit.fittedvalues\n",
    "\n",
    "# model residuals\n",
    "model_residuals = gaus_fit.resid_deviance\n",
    "\n",
    "# normalized residuals\n",
    "#model_norm_residuals = fit.get_influence().resid_studentized_internal\n",
    "\n",
    "# absolute squared normalized residuals\n",
    "#model_norm_residuals_abs_sqrt = np.sqrt(np.abs(model_norm_residuals))\n",
    "\n",
    "# absolute residuals\n",
    "model_abs_resid = np.abs(model_residuals)\n",
    "\n",
    "# leverage, from statsmodels internals\n",
    "model_leverage = gaus_fit.get_influence().hat_matrix_diag\n",
    "\n",
    "# cook's distance, from statsmodels internals\n",
    "model_cooks = gaus_fit.get_influence().cooks_distance[0]"
   ]
  },
  {
   "cell_type": "markdown",
   "id": "a34ec86c",
   "metadata": {},
   "source": [
    "### Residual vs Fitted Value Plot"
   ]
  },
  {
   "cell_type": "code",
   "execution_count": 74,
   "id": "bcff57ba",
   "metadata": {},
   "outputs": [
    {
     "data": {
      "text/plain": [
       "Text(0, 0.5, 'Residuals')"
      ]
     },
     "execution_count": 74,
     "metadata": {},
     "output_type": "execute_result"
    },
    {
     "data": {
      "image/png": "[encoded data removed]",
      "text/plain": [
       "<Figure size 576x396 with 1 Axes>"
      ]
     },
     "metadata": {},
     "output_type": "display_data"
    }
   ],
   "source": [
    "#  Plot\n",
    "plot = sns.residplot(x=model_fitted_y, y='Prices', data=train_df, lowess=True, \n",
    "                     scatter_kws={'alpha': 0.5}, \n",
    "                     line_kws={'color': 'red', 'lw': 1, 'alpha': 0.8})\n",
    "\n",
    "# Titel and labels\n",
    "plot.set_title('Residuals vs Fitted')\n",
    "plot.set_xlabel('Fitted values')\n",
    "plot.set_ylabel('Residuals')"
   ]
  },
  {
   "cell_type": "markdown",
   "id": "3805acff",
   "metadata": {},
   "source": [
    "### QQ Plot"
   ]
  },
  {
   "cell_type": "code",
   "execution_count": 75,
   "id": "c27c7b32",
   "metadata": {},
   "outputs": [
    {
     "name": "stderr",
     "output_type": "stream",
     "text": [
      "/Users/kitty/opt/anaconda3/lib/python3.8/site-packages/statsmodels/graphics/gofplots.py:993: UserWarning: marker is redundantly defined by the 'marker' keyword argument and the fmt string \"bo\" (-> marker='o'). The keyword argument will take precedence.\n",
      "  ax.plot(x, y, fmt, **plot_style)\n"
     ]
    },
    {
     "data": {
      "image/png": "[encoded data removed]",
      "text/plain": [
       "<Figure size 576x396 with 1 Axes>"
      ]
     },
     "metadata": {},
     "output_type": "display_data"
    }
   ],
   "source": [
    "fig = sm.qqplot(model_residuals,line='45', fit=True)\n",
    "plt.show()"
   ]
  },
  {
   "cell_type": "markdown",
   "id": "90430c40",
   "metadata": {},
   "source": [
    "### Mean absolute percentage error"
   ]
  },
  {
   "cell_type": "code",
   "execution_count": 76,
   "id": "55f3ed0c",
   "metadata": {},
   "outputs": [
    {
     "data": {
      "text/plain": [
       "0       487.156274\n",
       "1       606.400482\n",
       "2       538.915545\n",
       "3       492.309404\n",
       "4       492.264729\n",
       "           ...    \n",
       "4538    476.724937\n",
       "4539    476.925724\n",
       "4540    540.003028\n",
       "4541    539.969995\n",
       "4542    539.830724\n",
       "Length: 4543, dtype: float64"
      ]
     },
     "execution_count": 76,
     "metadata": {},
     "output_type": "execute_result"
    }
   ],
   "source": [
    "# Predict using 2025 data.\n",
    "\n",
    "gaus_predict = gaus_fit.predict(predict_df)\n",
    "gaus_predict"
   ]
  },
  {
   "cell_type": "code",
   "execution_count": 77,
   "id": "131f4c4d",
   "metadata": {},
   "outputs": [
    {
     "data": {
      "text/plain": [
       "0.16364947868566032"
      ]
     },
     "execution_count": 77,
     "metadata": {},
     "output_type": "execute_result"
    }
   ],
   "source": [
    "mean_absolute_percentage_error(train_df['Prices'], gaus_predict)"
   ]
  },
  {
   "cell_type": "markdown",
   "id": "742bec64",
   "metadata": {},
   "source": [
    "## \\# Penalty Regression"
   ]
  },
  {
   "cell_type": "markdown",
   "id": "c35b19d2",
   "metadata": {},
   "source": [
    "## Ridge Regression"
   ]
  },
  {
   "cell_type": "code",
   "execution_count": 116,
   "id": "1c261474",
   "metadata": {},
   "outputs": [],
   "source": [
    "%matplotlib inline\n",
    "\n",
    "import pandas as pd\n",
    "import numpy as np\n",
    "import matplotlib.pyplot as plt\n",
    "\n",
    "from sklearn.model_selection import train_test_split\n",
    "from sklearn.linear_model import Ridge, RidgeCV, Lasso, LassoCV\n",
    "from sklearn.metrics import mean_squared_error, r2_score"
   ]
  },
  {
   "cell_type": "code",
   "execution_count": 117,
   "id": "80be3656",
   "metadata": {},
   "outputs": [
    {
     "name": "stdout",
     "output_type": "stream",
     "text": [
      "The shape of x train is (3634, 13)\n",
      "The shape of y train is (3634, 1)\n",
      "The shape of x valid is (909, 13)\n",
      "The shape of y valid is (909, 1)\n",
      "The shape of x prediction is (4543, 13)\n"
     ]
    }
   ],
   "source": [
    "X_train = pd.read_csv('../data/curated/X_train.csv')\n",
    "y_train = pd.read_csv('../data/curated/y_train.csv')\n",
    "X_test = pd.read_csv('../data/curated/X_valid.csv')\n",
    "y_test = pd.read_csv('../data/curated/y_valid.csv')\n",
    "X_pred = pd.read_csv('../data/curated/X_predict.csv')\n",
    "\n",
    "X_train = X_train.drop(['Unnamed: 0', 'Unnamed: 0.1'],  axis = 1)\n",
    "X_test = X_test.drop(['Unnamed: 0', 'Unnamed: 0.1'],  axis = 1)\n",
    "X_pred = X_pred.drop(['Unnamed: 0', 'Unnamed: 0.1'],  axis = 1)\n",
    "y_train = y_train.drop(['Unnamed: 0'],  axis = 1)\n",
    "y_test = y_test.drop(['Unnamed: 0'],  axis = 1)\n",
    "\n",
    "print('The shape of x train is', X_train.shape)\n",
    "print('The shape of y train is', y_train.shape)\n",
    "print('The shape of x valid is', X_test.shape)\n",
    "print('The shape of y valid is', y_test.shape)\n",
    "print('The shape of x prediction is', X_pred.shape)"
   ]
  },
  {
   "cell_type": "code",
   "execution_count": 118,
   "id": "1eff45b5",
   "metadata": {},
   "outputs": [],
   "source": [
    "alphas = 10**np.linspace(10,-2,100)*0.5"
   ]
  },
  {
   "cell_type": "code",
   "execution_count": 119,
   "id": "064b6fd9",
   "metadata": {},
   "outputs": [
    {
     "data": {
      "text/plain": [
       "0.015269277544167062"
      ]
     },
     "execution_count": 119,
     "metadata": {},
     "output_type": "execute_result"
    }
   ],
   "source": [
    "# Cross validation for choosing the best parameter.\n",
    "\n",
    "ridgecv = RidgeCV(alphas = alphas, scoring = 'neg_mean_squared_error', normalize = True)\n",
    "ridgecv.fit(X_train, y_train)\n",
    "ridgecv.alpha_"
   ]
  },
  {
   "cell_type": "code",
   "execution_count": 120,
   "id": "53969cb7",
   "metadata": {},
   "outputs": [
    {
     "data": {
      "text/plain": [
       "0.14544450170946527"
      ]
     },
     "execution_count": 120,
     "metadata": {},
     "output_type": "execute_result"
    }
   ],
   "source": [
    "# Train the ridge model using the parameter we derived.\n",
    "\n",
    "ridge = Ridge(alpha = ridgecv.alpha_, normalize = True)\n",
    "ridge.fit(X_train, y_train)\n",
    "mean_squared_error(y_test, ridge.predict(X_test))\n",
    "mean_absolute_percentage_error(y_test, ridge.predict(X_test))"
   ]
  },
  {
   "cell_type": "code",
   "execution_count": 121,
   "id": "40510677",
   "metadata": {},
   "outputs": [
    {
     "data": {
      "text/plain": [
       "array([[-3.53756899e-02,  4.47076588e+01,  6.45727295e+01,\n",
       "         6.50904409e+00, -6.34732724e-07, -1.49085902e+01,\n",
       "         8.01848377e+00, -6.72858250e-04,  2.74832858e-03,\n",
       "         3.31847696e+00,  7.04613181e+00, -1.76577270e+00,\n",
       "        -2.87850776e-02]])"
      ]
     },
     "execution_count": 121,
     "metadata": {},
     "output_type": "execute_result"
    }
   ],
   "source": [
    "ridge.coef_"
   ]
  },
  {
   "cell_type": "code",
   "execution_count": 122,
   "id": "d86db2d8",
   "metadata": {},
   "outputs": [],
   "source": [
    "# Predict the prices\n",
    "\n",
    "ridge_pred = ridge.predict(X_pred)"
   ]
  },
  {
   "cell_type": "code",
   "execution_count": 123,
   "id": "ac1e0ebe",
   "metadata": {},
   "outputs": [
    {
     "data": {
      "text/plain": [
       "array([[481.01734932],\n",
       "       [603.33665954],\n",
       "       [532.20539829],\n",
       "       ...,\n",
       "       [543.36480066],\n",
       "       [543.35292455],\n",
       "       [543.21514369]])"
      ]
     },
     "execution_count": 123,
     "metadata": {},
     "output_type": "execute_result"
    }
   ],
   "source": [
    "ridge_pred"
   ]
  },
  {
   "cell_type": "markdown",
   "id": "ad168241",
   "metadata": {},
   "source": [
    "## Lasso Regression"
   ]
  },
  {
   "cell_type": "code",
   "execution_count": 125,
   "id": "29d10378",
   "metadata": {},
   "outputs": [
    {
     "name": "stderr",
     "output_type": "stream",
     "text": [
      "/Users/kitty/opt/anaconda3/lib/python3.8/site-packages/sklearn/utils/validation.py:63: DataConversionWarning: A column-vector y was passed when a 1d array was expected. Please change the shape of y to (n_samples, ), for example using ravel().\n",
      "  return f(*args, **kwargs)\n"
     ]
    },
    {
     "data": {
      "text/plain": [
       "0.14539753535649155"
      ]
     },
     "execution_count": 125,
     "metadata": {},
     "output_type": "execute_result"
    }
   ],
   "source": [
    "# Cross validation for choosing the best parameter.\n",
    "\n",
    "lasso = Lasso(max_iter = 10000, normalize = True)\n",
    "\n",
    "lassocv = LassoCV(alphas = None, cv = 10, max_iter = 100000, normalize = True)\n",
    "lassocv.fit(X_train, y_train)\n",
    "\n",
    "lasso = lasso.set_params(alpha=lassocv.alpha_)\n",
    "lasso.fit(X_train, y_train)\n",
    "mean_squared_error(y_test, lasso.predict(X_test))\n",
    "mean_absolute_percentage_error(y_test, lasso.predict(X_test))"
   ]
  },
  {
   "cell_type": "code",
   "execution_count": 126,
   "id": "46259251",
   "metadata": {},
   "outputs": [
    {
     "data": {
      "text/plain": [
       "array([-3.55504964e-02,  4.52505974e+01,  6.48444550e+01,  6.04809835e+00,\n",
       "       -5.94562952e-07, -1.49267488e+01,  7.96518621e+00, -6.38191984e-04,\n",
       "        2.79761189e-03,  3.32162346e+00,  6.73906925e+00, -1.73015614e+00,\n",
       "       -2.37215156e-02])"
      ]
     },
     "execution_count": 126,
     "metadata": {},
     "output_type": "execute_result"
    }
   ],
   "source": [
    "lasso.coef_"
   ]
  },
  {
   "cell_type": "code",
   "execution_count": 127,
   "id": "a478b893",
   "metadata": {},
   "outputs": [],
   "source": [
    "# Predict the prices\n",
    "\n",
    "lasso_pred = lasso.predict(X_pred)"
   ]
  },
  {
   "cell_type": "code",
   "execution_count": 128,
   "id": "5aa189e8",
   "metadata": {},
   "outputs": [
    {
     "data": {
      "text/plain": [
       "array([481.41604594, 603.62625837, 532.68463009, ..., 544.81839851,\n",
       "       544.79650804, 544.65855887])"
      ]
     },
     "execution_count": 128,
     "metadata": {},
     "output_type": "execute_result"
    }
   ],
   "source": [
    "lasso_pred"
   ]
  },
  {
   "cell_type": "code",
   "execution_count": null,
   "id": "dbeeea43",
   "metadata": {},
   "outputs": [],
   "source": []
  }
 ],
 "metadata": {
  "kernelspec": {
   "display_name": "Python 3",
   "language": "python",
   "name": "python3"
  },
  "language_info": {
   "codemirror_mode": {
    "name": "ipython",
    "version": 3
   },
   "file_extension": ".py",
   "mimetype": "text/x-python",
   "name": "python",
   "nbconvert_exporter": "python",
   "pygments_lexer": "ipython3",
   "version": "3.8.8"
  }
 },
 "nbformat": 4,
 "nbformat_minor": 5
}
