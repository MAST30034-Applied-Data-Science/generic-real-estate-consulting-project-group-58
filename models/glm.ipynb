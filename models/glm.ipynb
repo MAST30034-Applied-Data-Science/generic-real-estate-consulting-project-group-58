{
 "cells": [
  {
   "cell_type": "markdown",
   "id": "05c63351",
   "metadata": {},
   "source": [
    "# MAST30034 Project 2\n",
    "## Rental Prediction ---- Focusing on GLM with various families & Penalty Regression"
   ]
  },
  {
   "cell_type": "code",
   "execution_count": 1,
   "id": "62040832",
   "metadata": {},
   "outputs": [],
   "source": [
    "import pandas as pd\n",
    "import matplotlib.pyplot as plt\n",
    "import seaborn as sns\n",
    "from statsmodels.formula.api import ols, glm\n",
    "import statistics\n",
    "\n",
    "import numpy as np\n",
    "\n",
    "import statsmodels.api as sm\n",
    "import matplotlib.pyplot as plt\n",
    "from statsmodels.graphics.gofplots import ProbPlot"
   ]
  },
  {
   "cell_type": "code",
   "execution_count": 2,
   "id": "9d07f151",
   "metadata": {},
   "outputs": [],
   "source": [
    "# Read the dataframe.\n",
    "\n",
    "gpd_domain = pd.read_csv('../data/curated/df_model.csv')"
   ]
  },
  {
   "cell_type": "code",
   "execution_count": 3,
   "id": "9e3cee34",
   "metadata": {},
   "outputs": [
    {
     "data": {
      "text/html": [
       "<div>\n",
       "<style scoped>\n",
       "    .dataframe tbody tr th:only-of-type {\n",
       "        vertical-align: middle;\n",
       "    }\n",
       "\n",
       "    .dataframe tbody tr th {\n",
       "        vertical-align: top;\n",
       "    }\n",
       "\n",
       "    .dataframe thead th {\n",
       "        text-align: right;\n",
       "    }\n",
       "</style>\n",
       "<table border=\"1\" class=\"dataframe\">\n",
       "  <thead>\n",
       "    <tr style=\"text-align: right;\">\n",
       "      <th></th>\n",
       "      <th>Unnamed: 0</th>\n",
       "      <th>Unnamed: 0.1</th>\n",
       "      <th>name</th>\n",
       "      <th>Postcode</th>\n",
       "      <th>Prices</th>\n",
       "      <th>Bedrooms</th>\n",
       "      <th>Bathrooms</th>\n",
       "      <th>Parkings</th>\n",
       "      <th>geometry</th>\n",
       "      <th>SA2_code</th>\n",
       "      <th>...</th>\n",
       "      <th>Latitude</th>\n",
       "      <th>popu2022</th>\n",
       "      <th>popu2025</th>\n",
       "      <th>Income2022</th>\n",
       "      <th>Income2025</th>\n",
       "      <th>hos_count</th>\n",
       "      <th>stop_count</th>\n",
       "      <th>school_count</th>\n",
       "      <th>distance</th>\n",
       "      <th>pct</th>\n",
       "    </tr>\n",
       "  </thead>\n",
       "  <tbody>\n",
       "    <tr>\n",
       "      <th>0</th>\n",
       "      <td>0</td>\n",
       "      <td>0</td>\n",
       "      <td>1/62 Simpson St East Melbourne VIC 3002</td>\n",
       "      <td>3002</td>\n",
       "      <td>395.0</td>\n",
       "      <td>1</td>\n",
       "      <td>1</td>\n",
       "      <td>0</td>\n",
       "      <td>POINT (144.9891076 -37.8106659)</td>\n",
       "      <td>206041119</td>\n",
       "      <td>...</td>\n",
       "      <td>144.989108</td>\n",
       "      <td>4965.669440</td>\n",
       "      <td>4555.306297</td>\n",
       "      <td>98664.943495</td>\n",
       "      <td>102957.654101</td>\n",
       "      <td>6.0</td>\n",
       "      <td>1.0</td>\n",
       "      <td>1.0</td>\n",
       "      <td>2.640393</td>\n",
       "      <td>1.0</td>\n",
       "    </tr>\n",
       "    <tr>\n",
       "      <th>1</th>\n",
       "      <td>1</td>\n",
       "      <td>1</td>\n",
       "      <td>29/8 Wellington Crescent East Melbourne VIC 3002</td>\n",
       "      <td>3002</td>\n",
       "      <td>750.0</td>\n",
       "      <td>2</td>\n",
       "      <td>2</td>\n",
       "      <td>2</td>\n",
       "      <td>POINT (144.9776702 -37.8172238)</td>\n",
       "      <td>206041119</td>\n",
       "      <td>...</td>\n",
       "      <td>144.977670</td>\n",
       "      <td>4965.669440</td>\n",
       "      <td>4555.306297</td>\n",
       "      <td>98664.943495</td>\n",
       "      <td>102957.654101</td>\n",
       "      <td>6.0</td>\n",
       "      <td>1.0</td>\n",
       "      <td>1.0</td>\n",
       "      <td>2.127094</td>\n",
       "      <td>1.0</td>\n",
       "    </tr>\n",
       "    <tr>\n",
       "      <th>2</th>\n",
       "      <td>2</td>\n",
       "      <td>2</td>\n",
       "      <td>811v/162 Albert Street East Melbourne VIC 3002</td>\n",
       "      <td>3002</td>\n",
       "      <td>600.0</td>\n",
       "      <td>2</td>\n",
       "      <td>1</td>\n",
       "      <td>1</td>\n",
       "      <td>POINT (144.9855313 -37.8100432)</td>\n",
       "      <td>206041119</td>\n",
       "      <td>...</td>\n",
       "      <td>144.985531</td>\n",
       "      <td>4965.669440</td>\n",
       "      <td>4555.306297</td>\n",
       "      <td>98664.943495</td>\n",
       "      <td>102957.654101</td>\n",
       "      <td>6.0</td>\n",
       "      <td>1.0</td>\n",
       "      <td>1.0</td>\n",
       "      <td>2.317094</td>\n",
       "      <td>1.0</td>\n",
       "    </tr>\n",
       "    <tr>\n",
       "      <th>3</th>\n",
       "      <td>3</td>\n",
       "      <td>3</td>\n",
       "      <td>203/33 Cliveden Close East Melbourne VIC 3002</td>\n",
       "      <td>3002</td>\n",
       "      <td>380.0</td>\n",
       "      <td>1</td>\n",
       "      <td>1</td>\n",
       "      <td>1</td>\n",
       "      <td>POINT (144.9767157 -37.8171001)</td>\n",
       "      <td>206041119</td>\n",
       "      <td>...</td>\n",
       "      <td>144.976716</td>\n",
       "      <td>4965.669440</td>\n",
       "      <td>4555.306297</td>\n",
       "      <td>98664.943495</td>\n",
       "      <td>102957.654101</td>\n",
       "      <td>6.0</td>\n",
       "      <td>1.0</td>\n",
       "      <td>1.0</td>\n",
       "      <td>1.993894</td>\n",
       "      <td>1.0</td>\n",
       "    </tr>\n",
       "    <tr>\n",
       "      <th>4</th>\n",
       "      <td>5</td>\n",
       "      <td>5</td>\n",
       "      <td>107K/211 Powlett Street East Melbourne VIC 3002</td>\n",
       "      <td>3002</td>\n",
       "      <td>550.0</td>\n",
       "      <td>1</td>\n",
       "      <td>1</td>\n",
       "      <td>1</td>\n",
       "      <td>POINT (144.9859936 -37.8096989)</td>\n",
       "      <td>206041119</td>\n",
       "      <td>...</td>\n",
       "      <td>144.985994</td>\n",
       "      <td>4965.669440</td>\n",
       "      <td>4555.306297</td>\n",
       "      <td>98664.943495</td>\n",
       "      <td>102957.654101</td>\n",
       "      <td>6.0</td>\n",
       "      <td>1.0</td>\n",
       "      <td>1.0</td>\n",
       "      <td>2.114494</td>\n",
       "      <td>1.0</td>\n",
       "    </tr>\n",
       "    <tr>\n",
       "      <th>...</th>\n",
       "      <td>...</td>\n",
       "      <td>...</td>\n",
       "      <td>...</td>\n",
       "      <td>...</td>\n",
       "      <td>...</td>\n",
       "      <td>...</td>\n",
       "      <td>...</td>\n",
       "      <td>...</td>\n",
       "      <td>...</td>\n",
       "      <td>...</td>\n",
       "      <td>...</td>\n",
       "      <td>...</td>\n",
       "      <td>...</td>\n",
       "      <td>...</td>\n",
       "      <td>...</td>\n",
       "      <td>...</td>\n",
       "      <td>...</td>\n",
       "      <td>...</td>\n",
       "      <td>...</td>\n",
       "      <td>...</td>\n",
       "      <td>...</td>\n",
       "    </tr>\n",
       "    <tr>\n",
       "      <th>4551</th>\n",
       "      <td>4902</td>\n",
       "      <td>4902</td>\n",
       "      <td>33 Ritchie Drive Clyde North VIC 3978</td>\n",
       "      <td>3978</td>\n",
       "      <td>450.0</td>\n",
       "      <td>4</td>\n",
       "      <td>2</td>\n",
       "      <td>2</td>\n",
       "      <td>POINT (145.3370537 -38.1137329)</td>\n",
       "      <td>212031556</td>\n",
       "      <td>...</td>\n",
       "      <td>145.337054</td>\n",
       "      <td>28812.714834</td>\n",
       "      <td>103901.443821</td>\n",
       "      <td>69737.528612</td>\n",
       "      <td>76306.170584</td>\n",
       "      <td>0.0</td>\n",
       "      <td>0.0</td>\n",
       "      <td>1.0</td>\n",
       "      <td>54.314448</td>\n",
       "      <td>1.0</td>\n",
       "    </tr>\n",
       "    <tr>\n",
       "      <th>4552</th>\n",
       "      <td>4903</td>\n",
       "      <td>4903</td>\n",
       "      <td>8 Cropping Street Clyde North VIC 3978</td>\n",
       "      <td>3978</td>\n",
       "      <td>495.0</td>\n",
       "      <td>4</td>\n",
       "      <td>2</td>\n",
       "      <td>2</td>\n",
       "      <td>POINT (145.386116 -38.1042218)</td>\n",
       "      <td>212031556</td>\n",
       "      <td>...</td>\n",
       "      <td>145.386116</td>\n",
       "      <td>28812.714834</td>\n",
       "      <td>103901.443821</td>\n",
       "      <td>69737.528612</td>\n",
       "      <td>76306.170584</td>\n",
       "      <td>0.0</td>\n",
       "      <td>0.0</td>\n",
       "      <td>1.0</td>\n",
       "      <td>56.476442</td>\n",
       "      <td>1.0</td>\n",
       "    </tr>\n",
       "    <tr>\n",
       "      <th>4553</th>\n",
       "      <td>4904</td>\n",
       "      <td>4904</td>\n",
       "      <td>37 Barley Crescent Clyde North VIC 3978</td>\n",
       "      <td>3978</td>\n",
       "      <td>470.0</td>\n",
       "      <td>4</td>\n",
       "      <td>2</td>\n",
       "      <td>2</td>\n",
       "      <td>POINT (145.3570598 -38.08415)</td>\n",
       "      <td>212031555</td>\n",
       "      <td>...</td>\n",
       "      <td>145.357060</td>\n",
       "      <td>14034.992778</td>\n",
       "      <td>26309.739852</td>\n",
       "      <td>69737.528612</td>\n",
       "      <td>76306.170584</td>\n",
       "      <td>0.0</td>\n",
       "      <td>0.0</td>\n",
       "      <td>2.0</td>\n",
       "      <td>53.276851</td>\n",
       "      <td>1.0</td>\n",
       "    </tr>\n",
       "    <tr>\n",
       "      <th>4554</th>\n",
       "      <td>4905</td>\n",
       "      <td>4905</td>\n",
       "      <td>6 Viewbright Road Clyde North VIC 3978</td>\n",
       "      <td>3978</td>\n",
       "      <td>535.0</td>\n",
       "      <td>4</td>\n",
       "      <td>2</td>\n",
       "      <td>2</td>\n",
       "      <td>POINT (145.3545777 -38.0808423)</td>\n",
       "      <td>212031555</td>\n",
       "      <td>...</td>\n",
       "      <td>145.354578</td>\n",
       "      <td>14034.992778</td>\n",
       "      <td>26309.739852</td>\n",
       "      <td>69737.528612</td>\n",
       "      <td>76306.170584</td>\n",
       "      <td>0.0</td>\n",
       "      <td>0.0</td>\n",
       "      <td>2.0</td>\n",
       "      <td>51.284857</td>\n",
       "      <td>1.0</td>\n",
       "    </tr>\n",
       "    <tr>\n",
       "      <th>4555</th>\n",
       "      <td>4906</td>\n",
       "      <td>4906</td>\n",
       "      <td>27 Littleshore Crescent Clyde North VIC 3978</td>\n",
       "      <td>3978</td>\n",
       "      <td>630.0</td>\n",
       "      <td>4</td>\n",
       "      <td>2</td>\n",
       "      <td>2</td>\n",
       "      <td>POINT (145.3354004 -38.0814568)</td>\n",
       "      <td>212031555</td>\n",
       "      <td>...</td>\n",
       "      <td>145.335400</td>\n",
       "      <td>14034.992778</td>\n",
       "      <td>26309.739852</td>\n",
       "      <td>69737.528612</td>\n",
       "      <td>76306.170584</td>\n",
       "      <td>0.0</td>\n",
       "      <td>0.0</td>\n",
       "      <td>2.0</td>\n",
       "      <td>51.047557</td>\n",
       "      <td>1.0</td>\n",
       "    </tr>\n",
       "  </tbody>\n",
       "</table>\n",
       "<p>4556 rows × 21 columns</p>\n",
       "</div>"
      ],
      "text/plain": [
       "      Unnamed: 0  Unnamed: 0.1  \\\n",
       "0              0             0   \n",
       "1              1             1   \n",
       "2              2             2   \n",
       "3              3             3   \n",
       "4              5             5   \n",
       "...          ...           ...   \n",
       "4551        4902          4902   \n",
       "4552        4903          4903   \n",
       "4553        4904          4904   \n",
       "4554        4905          4905   \n",
       "4555        4906          4906   \n",
       "\n",
       "                                                  name  Postcode  Prices  \\\n",
       "0              1/62 Simpson St East Melbourne VIC 3002      3002   395.0   \n",
       "1     29/8 Wellington Crescent East Melbourne VIC 3002      3002   750.0   \n",
       "2       811v/162 Albert Street East Melbourne VIC 3002      3002   600.0   \n",
       "3        203/33 Cliveden Close East Melbourne VIC 3002      3002   380.0   \n",
       "4      107K/211 Powlett Street East Melbourne VIC 3002      3002   550.0   \n",
       "...                                                ...       ...     ...   \n",
       "4551             33 Ritchie Drive Clyde North VIC 3978      3978   450.0   \n",
       "4552            8 Cropping Street Clyde North VIC 3978      3978   495.0   \n",
       "4553           37 Barley Crescent Clyde North VIC 3978      3978   470.0   \n",
       "4554            6 Viewbright Road Clyde North VIC 3978      3978   535.0   \n",
       "4555      27 Littleshore Crescent Clyde North VIC 3978      3978   630.0   \n",
       "\n",
       "      Bedrooms  Bathrooms  Parkings                         geometry  \\\n",
       "0            1          1         0  POINT (144.9891076 -37.8106659)   \n",
       "1            2          2         2  POINT (144.9776702 -37.8172238)   \n",
       "2            2          1         1  POINT (144.9855313 -37.8100432)   \n",
       "3            1          1         1  POINT (144.9767157 -37.8171001)   \n",
       "4            1          1         1  POINT (144.9859936 -37.8096989)   \n",
       "...        ...        ...       ...                              ...   \n",
       "4551         4          2         2  POINT (145.3370537 -38.1137329)   \n",
       "4552         4          2         2   POINT (145.386116 -38.1042218)   \n",
       "4553         4          2         2    POINT (145.3570598 -38.08415)   \n",
       "4554         4          2         2  POINT (145.3545777 -38.0808423)   \n",
       "4555         4          2         2  POINT (145.3354004 -38.0814568)   \n",
       "\n",
       "       SA2_code  ...    Latitude      popu2022       popu2025    Income2022  \\\n",
       "0     206041119  ...  144.989108   4965.669440    4555.306297  98664.943495   \n",
       "1     206041119  ...  144.977670   4965.669440    4555.306297  98664.943495   \n",
       "2     206041119  ...  144.985531   4965.669440    4555.306297  98664.943495   \n",
       "3     206041119  ...  144.976716   4965.669440    4555.306297  98664.943495   \n",
       "4     206041119  ...  144.985994   4965.669440    4555.306297  98664.943495   \n",
       "...         ...  ...         ...           ...            ...           ...   \n",
       "4551  212031556  ...  145.337054  28812.714834  103901.443821  69737.528612   \n",
       "4552  212031556  ...  145.386116  28812.714834  103901.443821  69737.528612   \n",
       "4553  212031555  ...  145.357060  14034.992778   26309.739852  69737.528612   \n",
       "4554  212031555  ...  145.354578  14034.992778   26309.739852  69737.528612   \n",
       "4555  212031555  ...  145.335400  14034.992778   26309.739852  69737.528612   \n",
       "\n",
       "         Income2025  hos_count  stop_count  school_count   distance  pct  \n",
       "0     102957.654101        6.0         1.0           1.0   2.640393  1.0  \n",
       "1     102957.654101        6.0         1.0           1.0   2.127094  1.0  \n",
       "2     102957.654101        6.0         1.0           1.0   2.317094  1.0  \n",
       "3     102957.654101        6.0         1.0           1.0   1.993894  1.0  \n",
       "4     102957.654101        6.0         1.0           1.0   2.114494  1.0  \n",
       "...             ...        ...         ...           ...        ...  ...  \n",
       "4551   76306.170584        0.0         0.0           1.0  54.314448  1.0  \n",
       "4552   76306.170584        0.0         0.0           1.0  56.476442  1.0  \n",
       "4553   76306.170584        0.0         0.0           2.0  53.276851  1.0  \n",
       "4554   76306.170584        0.0         0.0           2.0  51.284857  1.0  \n",
       "4555   76306.170584        0.0         0.0           2.0  51.047557  1.0  \n",
       "\n",
       "[4556 rows x 21 columns]"
      ]
     },
     "execution_count": 3,
     "metadata": {},
     "output_type": "execute_result"
    }
   ],
   "source": [
    "gpd_domain"
   ]
  },
  {
   "cell_type": "markdown",
   "id": "0325f95d",
   "metadata": {},
   "source": [
    "1. Now split our dataframe into two parts, the 'train_df' with data in 2022, and the 'predict_df' with data in 2025."
   ]
  },
  {
   "cell_type": "code",
   "execution_count": 4,
   "id": "13833f5b",
   "metadata": {},
   "outputs": [],
   "source": [
    "# train_df (data in 2022).\n",
    "\n",
    "train_df = gpd_domain.drop(['popu2025', 'Income2025'], axis=1)\n",
    "train_df = train_df.rename({'popu2022': 'popu', 'Income2022': 'Income'}, axis=1)  "
   ]
  },
  {
   "cell_type": "code",
   "execution_count": 5,
   "id": "d3fda61e",
   "metadata": {},
   "outputs": [
    {
     "data": {
      "text/html": [
       "<div>\n",
       "<style scoped>\n",
       "    .dataframe tbody tr th:only-of-type {\n",
       "        vertical-align: middle;\n",
       "    }\n",
       "\n",
       "    .dataframe tbody tr th {\n",
       "        vertical-align: top;\n",
       "    }\n",
       "\n",
       "    .dataframe thead th {\n",
       "        text-align: right;\n",
       "    }\n",
       "</style>\n",
       "<table border=\"1\" class=\"dataframe\">\n",
       "  <thead>\n",
       "    <tr style=\"text-align: right;\">\n",
       "      <th></th>\n",
       "      <th>Unnamed: 0</th>\n",
       "      <th>Unnamed: 0.1</th>\n",
       "      <th>name</th>\n",
       "      <th>Postcode</th>\n",
       "      <th>Prices</th>\n",
       "      <th>Bedrooms</th>\n",
       "      <th>Bathrooms</th>\n",
       "      <th>Parkings</th>\n",
       "      <th>geometry</th>\n",
       "      <th>SA2_code</th>\n",
       "      <th>Longitude</th>\n",
       "      <th>Latitude</th>\n",
       "      <th>popu</th>\n",
       "      <th>Income</th>\n",
       "      <th>hos_count</th>\n",
       "      <th>stop_count</th>\n",
       "      <th>school_count</th>\n",
       "      <th>distance</th>\n",
       "      <th>pct</th>\n",
       "    </tr>\n",
       "  </thead>\n",
       "  <tbody>\n",
       "    <tr>\n",
       "      <th>0</th>\n",
       "      <td>0</td>\n",
       "      <td>0</td>\n",
       "      <td>1/62 Simpson St East Melbourne VIC 3002</td>\n",
       "      <td>3002</td>\n",
       "      <td>395.0</td>\n",
       "      <td>1</td>\n",
       "      <td>1</td>\n",
       "      <td>0</td>\n",
       "      <td>POINT (144.9891076 -37.8106659)</td>\n",
       "      <td>206041119</td>\n",
       "      <td>-37.810666</td>\n",
       "      <td>144.989108</td>\n",
       "      <td>4965.669440</td>\n",
       "      <td>98664.943495</td>\n",
       "      <td>6.0</td>\n",
       "      <td>1.0</td>\n",
       "      <td>1.0</td>\n",
       "      <td>2.640393</td>\n",
       "      <td>1.0</td>\n",
       "    </tr>\n",
       "    <tr>\n",
       "      <th>1</th>\n",
       "      <td>1</td>\n",
       "      <td>1</td>\n",
       "      <td>29/8 Wellington Crescent East Melbourne VIC 3002</td>\n",
       "      <td>3002</td>\n",
       "      <td>750.0</td>\n",
       "      <td>2</td>\n",
       "      <td>2</td>\n",
       "      <td>2</td>\n",
       "      <td>POINT (144.9776702 -37.8172238)</td>\n",
       "      <td>206041119</td>\n",
       "      <td>-37.817224</td>\n",
       "      <td>144.977670</td>\n",
       "      <td>4965.669440</td>\n",
       "      <td>98664.943495</td>\n",
       "      <td>6.0</td>\n",
       "      <td>1.0</td>\n",
       "      <td>1.0</td>\n",
       "      <td>2.127094</td>\n",
       "      <td>1.0</td>\n",
       "    </tr>\n",
       "    <tr>\n",
       "      <th>2</th>\n",
       "      <td>2</td>\n",
       "      <td>2</td>\n",
       "      <td>811v/162 Albert Street East Melbourne VIC 3002</td>\n",
       "      <td>3002</td>\n",
       "      <td>600.0</td>\n",
       "      <td>2</td>\n",
       "      <td>1</td>\n",
       "      <td>1</td>\n",
       "      <td>POINT (144.9855313 -37.8100432)</td>\n",
       "      <td>206041119</td>\n",
       "      <td>-37.810043</td>\n",
       "      <td>144.985531</td>\n",
       "      <td>4965.669440</td>\n",
       "      <td>98664.943495</td>\n",
       "      <td>6.0</td>\n",
       "      <td>1.0</td>\n",
       "      <td>1.0</td>\n",
       "      <td>2.317094</td>\n",
       "      <td>1.0</td>\n",
       "    </tr>\n",
       "    <tr>\n",
       "      <th>3</th>\n",
       "      <td>3</td>\n",
       "      <td>3</td>\n",
       "      <td>203/33 Cliveden Close East Melbourne VIC 3002</td>\n",
       "      <td>3002</td>\n",
       "      <td>380.0</td>\n",
       "      <td>1</td>\n",
       "      <td>1</td>\n",
       "      <td>1</td>\n",
       "      <td>POINT (144.9767157 -37.8171001)</td>\n",
       "      <td>206041119</td>\n",
       "      <td>-37.817100</td>\n",
       "      <td>144.976716</td>\n",
       "      <td>4965.669440</td>\n",
       "      <td>98664.943495</td>\n",
       "      <td>6.0</td>\n",
       "      <td>1.0</td>\n",
       "      <td>1.0</td>\n",
       "      <td>1.993894</td>\n",
       "      <td>1.0</td>\n",
       "    </tr>\n",
       "    <tr>\n",
       "      <th>4</th>\n",
       "      <td>5</td>\n",
       "      <td>5</td>\n",
       "      <td>107K/211 Powlett Street East Melbourne VIC 3002</td>\n",
       "      <td>3002</td>\n",
       "      <td>550.0</td>\n",
       "      <td>1</td>\n",
       "      <td>1</td>\n",
       "      <td>1</td>\n",
       "      <td>POINT (144.9859936 -37.8096989)</td>\n",
       "      <td>206041119</td>\n",
       "      <td>-37.809699</td>\n",
       "      <td>144.985994</td>\n",
       "      <td>4965.669440</td>\n",
       "      <td>98664.943495</td>\n",
       "      <td>6.0</td>\n",
       "      <td>1.0</td>\n",
       "      <td>1.0</td>\n",
       "      <td>2.114494</td>\n",
       "      <td>1.0</td>\n",
       "    </tr>\n",
       "    <tr>\n",
       "      <th>...</th>\n",
       "      <td>...</td>\n",
       "      <td>...</td>\n",
       "      <td>...</td>\n",
       "      <td>...</td>\n",
       "      <td>...</td>\n",
       "      <td>...</td>\n",
       "      <td>...</td>\n",
       "      <td>...</td>\n",
       "      <td>...</td>\n",
       "      <td>...</td>\n",
       "      <td>...</td>\n",
       "      <td>...</td>\n",
       "      <td>...</td>\n",
       "      <td>...</td>\n",
       "      <td>...</td>\n",
       "      <td>...</td>\n",
       "      <td>...</td>\n",
       "      <td>...</td>\n",
       "      <td>...</td>\n",
       "    </tr>\n",
       "    <tr>\n",
       "      <th>4551</th>\n",
       "      <td>4902</td>\n",
       "      <td>4902</td>\n",
       "      <td>33 Ritchie Drive Clyde North VIC 3978</td>\n",
       "      <td>3978</td>\n",
       "      <td>450.0</td>\n",
       "      <td>4</td>\n",
       "      <td>2</td>\n",
       "      <td>2</td>\n",
       "      <td>POINT (145.3370537 -38.1137329)</td>\n",
       "      <td>212031556</td>\n",
       "      <td>-38.113733</td>\n",
       "      <td>145.337054</td>\n",
       "      <td>28812.714834</td>\n",
       "      <td>69737.528612</td>\n",
       "      <td>0.0</td>\n",
       "      <td>0.0</td>\n",
       "      <td>1.0</td>\n",
       "      <td>54.314448</td>\n",
       "      <td>1.0</td>\n",
       "    </tr>\n",
       "    <tr>\n",
       "      <th>4552</th>\n",
       "      <td>4903</td>\n",
       "      <td>4903</td>\n",
       "      <td>8 Cropping Street Clyde North VIC 3978</td>\n",
       "      <td>3978</td>\n",
       "      <td>495.0</td>\n",
       "      <td>4</td>\n",
       "      <td>2</td>\n",
       "      <td>2</td>\n",
       "      <td>POINT (145.386116 -38.1042218)</td>\n",
       "      <td>212031556</td>\n",
       "      <td>-38.104222</td>\n",
       "      <td>145.386116</td>\n",
       "      <td>28812.714834</td>\n",
       "      <td>69737.528612</td>\n",
       "      <td>0.0</td>\n",
       "      <td>0.0</td>\n",
       "      <td>1.0</td>\n",
       "      <td>56.476442</td>\n",
       "      <td>1.0</td>\n",
       "    </tr>\n",
       "    <tr>\n",
       "      <th>4553</th>\n",
       "      <td>4904</td>\n",
       "      <td>4904</td>\n",
       "      <td>37 Barley Crescent Clyde North VIC 3978</td>\n",
       "      <td>3978</td>\n",
       "      <td>470.0</td>\n",
       "      <td>4</td>\n",
       "      <td>2</td>\n",
       "      <td>2</td>\n",
       "      <td>POINT (145.3570598 -38.08415)</td>\n",
       "      <td>212031555</td>\n",
       "      <td>-38.084150</td>\n",
       "      <td>145.357060</td>\n",
       "      <td>14034.992778</td>\n",
       "      <td>69737.528612</td>\n",
       "      <td>0.0</td>\n",
       "      <td>0.0</td>\n",
       "      <td>2.0</td>\n",
       "      <td>53.276851</td>\n",
       "      <td>1.0</td>\n",
       "    </tr>\n",
       "    <tr>\n",
       "      <th>4554</th>\n",
       "      <td>4905</td>\n",
       "      <td>4905</td>\n",
       "      <td>6 Viewbright Road Clyde North VIC 3978</td>\n",
       "      <td>3978</td>\n",
       "      <td>535.0</td>\n",
       "      <td>4</td>\n",
       "      <td>2</td>\n",
       "      <td>2</td>\n",
       "      <td>POINT (145.3545777 -38.0808423)</td>\n",
       "      <td>212031555</td>\n",
       "      <td>-38.080842</td>\n",
       "      <td>145.354578</td>\n",
       "      <td>14034.992778</td>\n",
       "      <td>69737.528612</td>\n",
       "      <td>0.0</td>\n",
       "      <td>0.0</td>\n",
       "      <td>2.0</td>\n",
       "      <td>51.284857</td>\n",
       "      <td>1.0</td>\n",
       "    </tr>\n",
       "    <tr>\n",
       "      <th>4555</th>\n",
       "      <td>4906</td>\n",
       "      <td>4906</td>\n",
       "      <td>27 Littleshore Crescent Clyde North VIC 3978</td>\n",
       "      <td>3978</td>\n",
       "      <td>630.0</td>\n",
       "      <td>4</td>\n",
       "      <td>2</td>\n",
       "      <td>2</td>\n",
       "      <td>POINT (145.3354004 -38.0814568)</td>\n",
       "      <td>212031555</td>\n",
       "      <td>-38.081457</td>\n",
       "      <td>145.335400</td>\n",
       "      <td>14034.992778</td>\n",
       "      <td>69737.528612</td>\n",
       "      <td>0.0</td>\n",
       "      <td>0.0</td>\n",
       "      <td>2.0</td>\n",
       "      <td>51.047557</td>\n",
       "      <td>1.0</td>\n",
       "    </tr>\n",
       "  </tbody>\n",
       "</table>\n",
       "<p>4556 rows × 19 columns</p>\n",
       "</div>"
      ],
      "text/plain": [
       "      Unnamed: 0  Unnamed: 0.1  \\\n",
       "0              0             0   \n",
       "1              1             1   \n",
       "2              2             2   \n",
       "3              3             3   \n",
       "4              5             5   \n",
       "...          ...           ...   \n",
       "4551        4902          4902   \n",
       "4552        4903          4903   \n",
       "4553        4904          4904   \n",
       "4554        4905          4905   \n",
       "4555        4906          4906   \n",
       "\n",
       "                                                  name  Postcode  Prices  \\\n",
       "0              1/62 Simpson St East Melbourne VIC 3002      3002   395.0   \n",
       "1     29/8 Wellington Crescent East Melbourne VIC 3002      3002   750.0   \n",
       "2       811v/162 Albert Street East Melbourne VIC 3002      3002   600.0   \n",
       "3        203/33 Cliveden Close East Melbourne VIC 3002      3002   380.0   \n",
       "4      107K/211 Powlett Street East Melbourne VIC 3002      3002   550.0   \n",
       "...                                                ...       ...     ...   \n",
       "4551             33 Ritchie Drive Clyde North VIC 3978      3978   450.0   \n",
       "4552            8 Cropping Street Clyde North VIC 3978      3978   495.0   \n",
       "4553           37 Barley Crescent Clyde North VIC 3978      3978   470.0   \n",
       "4554            6 Viewbright Road Clyde North VIC 3978      3978   535.0   \n",
       "4555      27 Littleshore Crescent Clyde North VIC 3978      3978   630.0   \n",
       "\n",
       "      Bedrooms  Bathrooms  Parkings                         geometry  \\\n",
       "0            1          1         0  POINT (144.9891076 -37.8106659)   \n",
       "1            2          2         2  POINT (144.9776702 -37.8172238)   \n",
       "2            2          1         1  POINT (144.9855313 -37.8100432)   \n",
       "3            1          1         1  POINT (144.9767157 -37.8171001)   \n",
       "4            1          1         1  POINT (144.9859936 -37.8096989)   \n",
       "...        ...        ...       ...                              ...   \n",
       "4551         4          2         2  POINT (145.3370537 -38.1137329)   \n",
       "4552         4          2         2   POINT (145.386116 -38.1042218)   \n",
       "4553         4          2         2    POINT (145.3570598 -38.08415)   \n",
       "4554         4          2         2  POINT (145.3545777 -38.0808423)   \n",
       "4555         4          2         2  POINT (145.3354004 -38.0814568)   \n",
       "\n",
       "       SA2_code  Longitude    Latitude          popu        Income  hos_count  \\\n",
       "0     206041119 -37.810666  144.989108   4965.669440  98664.943495        6.0   \n",
       "1     206041119 -37.817224  144.977670   4965.669440  98664.943495        6.0   \n",
       "2     206041119 -37.810043  144.985531   4965.669440  98664.943495        6.0   \n",
       "3     206041119 -37.817100  144.976716   4965.669440  98664.943495        6.0   \n",
       "4     206041119 -37.809699  144.985994   4965.669440  98664.943495        6.0   \n",
       "...         ...        ...         ...           ...           ...        ...   \n",
       "4551  212031556 -38.113733  145.337054  28812.714834  69737.528612        0.0   \n",
       "4552  212031556 -38.104222  145.386116  28812.714834  69737.528612        0.0   \n",
       "4553  212031555 -38.084150  145.357060  14034.992778  69737.528612        0.0   \n",
       "4554  212031555 -38.080842  145.354578  14034.992778  69737.528612        0.0   \n",
       "4555  212031555 -38.081457  145.335400  14034.992778  69737.528612        0.0   \n",
       "\n",
       "      stop_count  school_count   distance  pct  \n",
       "0            1.0           1.0   2.640393  1.0  \n",
       "1            1.0           1.0   2.127094  1.0  \n",
       "2            1.0           1.0   2.317094  1.0  \n",
       "3            1.0           1.0   1.993894  1.0  \n",
       "4            1.0           1.0   2.114494  1.0  \n",
       "...          ...           ...        ...  ...  \n",
       "4551         0.0           1.0  54.314448  1.0  \n",
       "4552         0.0           1.0  56.476442  1.0  \n",
       "4553         0.0           2.0  53.276851  1.0  \n",
       "4554         0.0           2.0  51.284857  1.0  \n",
       "4555         0.0           2.0  51.047557  1.0  \n",
       "\n",
       "[4556 rows x 19 columns]"
      ]
     },
     "execution_count": 5,
     "metadata": {},
     "output_type": "execute_result"
    }
   ],
   "source": [
    "train_df"
   ]
  },
  {
   "cell_type": "code",
   "execution_count": 6,
   "id": "60d58bb2",
   "metadata": {},
   "outputs": [],
   "source": [
    "# predict_df (data in 2025).\n",
    "\n",
    "predict_df = gpd_domain.drop(['popu2022', 'Income2022'], axis=1)\n",
    "predict_df = predict_df.rename({'popu2025': 'popu', 'Income2025': 'Income'}, axis=1)"
   ]
  },
  {
   "cell_type": "code",
   "execution_count": 7,
   "id": "6950a8e5",
   "metadata": {},
   "outputs": [
    {
     "data": {
      "text/html": [
       "<div>\n",
       "<style scoped>\n",
       "    .dataframe tbody tr th:only-of-type {\n",
       "        vertical-align: middle;\n",
       "    }\n",
       "\n",
       "    .dataframe tbody tr th {\n",
       "        vertical-align: top;\n",
       "    }\n",
       "\n",
       "    .dataframe thead th {\n",
       "        text-align: right;\n",
       "    }\n",
       "</style>\n",
       "<table border=\"1\" class=\"dataframe\">\n",
       "  <thead>\n",
       "    <tr style=\"text-align: right;\">\n",
       "      <th></th>\n",
       "      <th>Unnamed: 0</th>\n",
       "      <th>Unnamed: 0.1</th>\n",
       "      <th>name</th>\n",
       "      <th>Postcode</th>\n",
       "      <th>Prices</th>\n",
       "      <th>Bedrooms</th>\n",
       "      <th>Bathrooms</th>\n",
       "      <th>Parkings</th>\n",
       "      <th>geometry</th>\n",
       "      <th>SA2_code</th>\n",
       "      <th>Longitude</th>\n",
       "      <th>Latitude</th>\n",
       "      <th>popu</th>\n",
       "      <th>Income</th>\n",
       "      <th>hos_count</th>\n",
       "      <th>stop_count</th>\n",
       "      <th>school_count</th>\n",
       "      <th>distance</th>\n",
       "      <th>pct</th>\n",
       "    </tr>\n",
       "  </thead>\n",
       "  <tbody>\n",
       "    <tr>\n",
       "      <th>0</th>\n",
       "      <td>0</td>\n",
       "      <td>0</td>\n",
       "      <td>1/62 Simpson St East Melbourne VIC 3002</td>\n",
       "      <td>3002</td>\n",
       "      <td>395.0</td>\n",
       "      <td>1</td>\n",
       "      <td>1</td>\n",
       "      <td>0</td>\n",
       "      <td>POINT (144.9891076 -37.8106659)</td>\n",
       "      <td>206041119</td>\n",
       "      <td>-37.810666</td>\n",
       "      <td>144.989108</td>\n",
       "      <td>4555.306297</td>\n",
       "      <td>102957.654101</td>\n",
       "      <td>6.0</td>\n",
       "      <td>1.0</td>\n",
       "      <td>1.0</td>\n",
       "      <td>2.640393</td>\n",
       "      <td>1.0</td>\n",
       "    </tr>\n",
       "    <tr>\n",
       "      <th>1</th>\n",
       "      <td>1</td>\n",
       "      <td>1</td>\n",
       "      <td>29/8 Wellington Crescent East Melbourne VIC 3002</td>\n",
       "      <td>3002</td>\n",
       "      <td>750.0</td>\n",
       "      <td>2</td>\n",
       "      <td>2</td>\n",
       "      <td>2</td>\n",
       "      <td>POINT (144.9776702 -37.8172238)</td>\n",
       "      <td>206041119</td>\n",
       "      <td>-37.817224</td>\n",
       "      <td>144.977670</td>\n",
       "      <td>4555.306297</td>\n",
       "      <td>102957.654101</td>\n",
       "      <td>6.0</td>\n",
       "      <td>1.0</td>\n",
       "      <td>1.0</td>\n",
       "      <td>2.127094</td>\n",
       "      <td>1.0</td>\n",
       "    </tr>\n",
       "    <tr>\n",
       "      <th>2</th>\n",
       "      <td>2</td>\n",
       "      <td>2</td>\n",
       "      <td>811v/162 Albert Street East Melbourne VIC 3002</td>\n",
       "      <td>3002</td>\n",
       "      <td>600.0</td>\n",
       "      <td>2</td>\n",
       "      <td>1</td>\n",
       "      <td>1</td>\n",
       "      <td>POINT (144.9855313 -37.8100432)</td>\n",
       "      <td>206041119</td>\n",
       "      <td>-37.810043</td>\n",
       "      <td>144.985531</td>\n",
       "      <td>4555.306297</td>\n",
       "      <td>102957.654101</td>\n",
       "      <td>6.0</td>\n",
       "      <td>1.0</td>\n",
       "      <td>1.0</td>\n",
       "      <td>2.317094</td>\n",
       "      <td>1.0</td>\n",
       "    </tr>\n",
       "    <tr>\n",
       "      <th>3</th>\n",
       "      <td>3</td>\n",
       "      <td>3</td>\n",
       "      <td>203/33 Cliveden Close East Melbourne VIC 3002</td>\n",
       "      <td>3002</td>\n",
       "      <td>380.0</td>\n",
       "      <td>1</td>\n",
       "      <td>1</td>\n",
       "      <td>1</td>\n",
       "      <td>POINT (144.9767157 -37.8171001)</td>\n",
       "      <td>206041119</td>\n",
       "      <td>-37.817100</td>\n",
       "      <td>144.976716</td>\n",
       "      <td>4555.306297</td>\n",
       "      <td>102957.654101</td>\n",
       "      <td>6.0</td>\n",
       "      <td>1.0</td>\n",
       "      <td>1.0</td>\n",
       "      <td>1.993894</td>\n",
       "      <td>1.0</td>\n",
       "    </tr>\n",
       "    <tr>\n",
       "      <th>4</th>\n",
       "      <td>5</td>\n",
       "      <td>5</td>\n",
       "      <td>107K/211 Powlett Street East Melbourne VIC 3002</td>\n",
       "      <td>3002</td>\n",
       "      <td>550.0</td>\n",
       "      <td>1</td>\n",
       "      <td>1</td>\n",
       "      <td>1</td>\n",
       "      <td>POINT (144.9859936 -37.8096989)</td>\n",
       "      <td>206041119</td>\n",
       "      <td>-37.809699</td>\n",
       "      <td>144.985994</td>\n",
       "      <td>4555.306297</td>\n",
       "      <td>102957.654101</td>\n",
       "      <td>6.0</td>\n",
       "      <td>1.0</td>\n",
       "      <td>1.0</td>\n",
       "      <td>2.114494</td>\n",
       "      <td>1.0</td>\n",
       "    </tr>\n",
       "    <tr>\n",
       "      <th>...</th>\n",
       "      <td>...</td>\n",
       "      <td>...</td>\n",
       "      <td>...</td>\n",
       "      <td>...</td>\n",
       "      <td>...</td>\n",
       "      <td>...</td>\n",
       "      <td>...</td>\n",
       "      <td>...</td>\n",
       "      <td>...</td>\n",
       "      <td>...</td>\n",
       "      <td>...</td>\n",
       "      <td>...</td>\n",
       "      <td>...</td>\n",
       "      <td>...</td>\n",
       "      <td>...</td>\n",
       "      <td>...</td>\n",
       "      <td>...</td>\n",
       "      <td>...</td>\n",
       "      <td>...</td>\n",
       "    </tr>\n",
       "    <tr>\n",
       "      <th>4551</th>\n",
       "      <td>4902</td>\n",
       "      <td>4902</td>\n",
       "      <td>33 Ritchie Drive Clyde North VIC 3978</td>\n",
       "      <td>3978</td>\n",
       "      <td>450.0</td>\n",
       "      <td>4</td>\n",
       "      <td>2</td>\n",
       "      <td>2</td>\n",
       "      <td>POINT (145.3370537 -38.1137329)</td>\n",
       "      <td>212031556</td>\n",
       "      <td>-38.113733</td>\n",
       "      <td>145.337054</td>\n",
       "      <td>103901.443821</td>\n",
       "      <td>76306.170584</td>\n",
       "      <td>0.0</td>\n",
       "      <td>0.0</td>\n",
       "      <td>1.0</td>\n",
       "      <td>54.314448</td>\n",
       "      <td>1.0</td>\n",
       "    </tr>\n",
       "    <tr>\n",
       "      <th>4552</th>\n",
       "      <td>4903</td>\n",
       "      <td>4903</td>\n",
       "      <td>8 Cropping Street Clyde North VIC 3978</td>\n",
       "      <td>3978</td>\n",
       "      <td>495.0</td>\n",
       "      <td>4</td>\n",
       "      <td>2</td>\n",
       "      <td>2</td>\n",
       "      <td>POINT (145.386116 -38.1042218)</td>\n",
       "      <td>212031556</td>\n",
       "      <td>-38.104222</td>\n",
       "      <td>145.386116</td>\n",
       "      <td>103901.443821</td>\n",
       "      <td>76306.170584</td>\n",
       "      <td>0.0</td>\n",
       "      <td>0.0</td>\n",
       "      <td>1.0</td>\n",
       "      <td>56.476442</td>\n",
       "      <td>1.0</td>\n",
       "    </tr>\n",
       "    <tr>\n",
       "      <th>4553</th>\n",
       "      <td>4904</td>\n",
       "      <td>4904</td>\n",
       "      <td>37 Barley Crescent Clyde North VIC 3978</td>\n",
       "      <td>3978</td>\n",
       "      <td>470.0</td>\n",
       "      <td>4</td>\n",
       "      <td>2</td>\n",
       "      <td>2</td>\n",
       "      <td>POINT (145.3570598 -38.08415)</td>\n",
       "      <td>212031555</td>\n",
       "      <td>-38.084150</td>\n",
       "      <td>145.357060</td>\n",
       "      <td>26309.739852</td>\n",
       "      <td>76306.170584</td>\n",
       "      <td>0.0</td>\n",
       "      <td>0.0</td>\n",
       "      <td>2.0</td>\n",
       "      <td>53.276851</td>\n",
       "      <td>1.0</td>\n",
       "    </tr>\n",
       "    <tr>\n",
       "      <th>4554</th>\n",
       "      <td>4905</td>\n",
       "      <td>4905</td>\n",
       "      <td>6 Viewbright Road Clyde North VIC 3978</td>\n",
       "      <td>3978</td>\n",
       "      <td>535.0</td>\n",
       "      <td>4</td>\n",
       "      <td>2</td>\n",
       "      <td>2</td>\n",
       "      <td>POINT (145.3545777 -38.0808423)</td>\n",
       "      <td>212031555</td>\n",
       "      <td>-38.080842</td>\n",
       "      <td>145.354578</td>\n",
       "      <td>26309.739852</td>\n",
       "      <td>76306.170584</td>\n",
       "      <td>0.0</td>\n",
       "      <td>0.0</td>\n",
       "      <td>2.0</td>\n",
       "      <td>51.284857</td>\n",
       "      <td>1.0</td>\n",
       "    </tr>\n",
       "    <tr>\n",
       "      <th>4555</th>\n",
       "      <td>4906</td>\n",
       "      <td>4906</td>\n",
       "      <td>27 Littleshore Crescent Clyde North VIC 3978</td>\n",
       "      <td>3978</td>\n",
       "      <td>630.0</td>\n",
       "      <td>4</td>\n",
       "      <td>2</td>\n",
       "      <td>2</td>\n",
       "      <td>POINT (145.3354004 -38.0814568)</td>\n",
       "      <td>212031555</td>\n",
       "      <td>-38.081457</td>\n",
       "      <td>145.335400</td>\n",
       "      <td>26309.739852</td>\n",
       "      <td>76306.170584</td>\n",
       "      <td>0.0</td>\n",
       "      <td>0.0</td>\n",
       "      <td>2.0</td>\n",
       "      <td>51.047557</td>\n",
       "      <td>1.0</td>\n",
       "    </tr>\n",
       "  </tbody>\n",
       "</table>\n",
       "<p>4556 rows × 19 columns</p>\n",
       "</div>"
      ],
      "text/plain": [
       "      Unnamed: 0  Unnamed: 0.1  \\\n",
       "0              0             0   \n",
       "1              1             1   \n",
       "2              2             2   \n",
       "3              3             3   \n",
       "4              5             5   \n",
       "...          ...           ...   \n",
       "4551        4902          4902   \n",
       "4552        4903          4903   \n",
       "4553        4904          4904   \n",
       "4554        4905          4905   \n",
       "4555        4906          4906   \n",
       "\n",
       "                                                  name  Postcode  Prices  \\\n",
       "0              1/62 Simpson St East Melbourne VIC 3002      3002   395.0   \n",
       "1     29/8 Wellington Crescent East Melbourne VIC 3002      3002   750.0   \n",
       "2       811v/162 Albert Street East Melbourne VIC 3002      3002   600.0   \n",
       "3        203/33 Cliveden Close East Melbourne VIC 3002      3002   380.0   \n",
       "4      107K/211 Powlett Street East Melbourne VIC 3002      3002   550.0   \n",
       "...                                                ...       ...     ...   \n",
       "4551             33 Ritchie Drive Clyde North VIC 3978      3978   450.0   \n",
       "4552            8 Cropping Street Clyde North VIC 3978      3978   495.0   \n",
       "4553           37 Barley Crescent Clyde North VIC 3978      3978   470.0   \n",
       "4554            6 Viewbright Road Clyde North VIC 3978      3978   535.0   \n",
       "4555      27 Littleshore Crescent Clyde North VIC 3978      3978   630.0   \n",
       "\n",
       "      Bedrooms  Bathrooms  Parkings                         geometry  \\\n",
       "0            1          1         0  POINT (144.9891076 -37.8106659)   \n",
       "1            2          2         2  POINT (144.9776702 -37.8172238)   \n",
       "2            2          1         1  POINT (144.9855313 -37.8100432)   \n",
       "3            1          1         1  POINT (144.9767157 -37.8171001)   \n",
       "4            1          1         1  POINT (144.9859936 -37.8096989)   \n",
       "...        ...        ...       ...                              ...   \n",
       "4551         4          2         2  POINT (145.3370537 -38.1137329)   \n",
       "4552         4          2         2   POINT (145.386116 -38.1042218)   \n",
       "4553         4          2         2    POINT (145.3570598 -38.08415)   \n",
       "4554         4          2         2  POINT (145.3545777 -38.0808423)   \n",
       "4555         4          2         2  POINT (145.3354004 -38.0814568)   \n",
       "\n",
       "       SA2_code  Longitude    Latitude           popu         Income  \\\n",
       "0     206041119 -37.810666  144.989108    4555.306297  102957.654101   \n",
       "1     206041119 -37.817224  144.977670    4555.306297  102957.654101   \n",
       "2     206041119 -37.810043  144.985531    4555.306297  102957.654101   \n",
       "3     206041119 -37.817100  144.976716    4555.306297  102957.654101   \n",
       "4     206041119 -37.809699  144.985994    4555.306297  102957.654101   \n",
       "...         ...        ...         ...            ...            ...   \n",
       "4551  212031556 -38.113733  145.337054  103901.443821   76306.170584   \n",
       "4552  212031556 -38.104222  145.386116  103901.443821   76306.170584   \n",
       "4553  212031555 -38.084150  145.357060   26309.739852   76306.170584   \n",
       "4554  212031555 -38.080842  145.354578   26309.739852   76306.170584   \n",
       "4555  212031555 -38.081457  145.335400   26309.739852   76306.170584   \n",
       "\n",
       "      hos_count  stop_count  school_count   distance  pct  \n",
       "0           6.0         1.0           1.0   2.640393  1.0  \n",
       "1           6.0         1.0           1.0   2.127094  1.0  \n",
       "2           6.0         1.0           1.0   2.317094  1.0  \n",
       "3           6.0         1.0           1.0   1.993894  1.0  \n",
       "4           6.0         1.0           1.0   2.114494  1.0  \n",
       "...         ...         ...           ...        ...  ...  \n",
       "4551        0.0         0.0           1.0  54.314448  1.0  \n",
       "4552        0.0         0.0           1.0  56.476442  1.0  \n",
       "4553        0.0         0.0           2.0  53.276851  1.0  \n",
       "4554        0.0         0.0           2.0  51.284857  1.0  \n",
       "4555        0.0         0.0           2.0  51.047557  1.0  \n",
       "\n",
       "[4556 rows x 19 columns]"
      ]
     },
     "execution_count": 7,
     "metadata": {},
     "output_type": "execute_result"
    }
   ],
   "source": [
    "predict_df"
   ]
  },
  {
   "cell_type": "markdown",
   "id": "0cb9ee28",
   "metadata": {},
   "source": [
    "## 1. Ordinary Least Square"
   ]
  },
  {
   "cell_type": "code",
   "execution_count": 8,
   "id": "c7e0d697",
   "metadata": {},
   "outputs": [],
   "source": [
    "ols_fit = ols(\n",
    "    formula=\"Prices ~ Bedrooms + Bathrooms + Parkings + popu + Income + hos_count + \\\n",
    "                stop_count + school_count + distance\",\n",
    "    data=train_df\n",
    ").fit()"
   ]
  },
  {
   "cell_type": "code",
   "execution_count": 9,
   "id": "46792ba6",
   "metadata": {},
   "outputs": [
    {
     "name": "stdout",
     "output_type": "stream",
     "text": [
      "                            OLS Regression Results                            \n",
      "==============================================================================\n",
      "Dep. Variable:                 Prices   R-squared:                       0.449\n",
      "Model:                            OLS   Adj. R-squared:                  0.448\n",
      "Method:                 Least Squares   F-statistic:                     411.0\n",
      "Date:                Wed, 05 Oct 2022   Prob (F-statistic):               0.00\n",
      "Time:                        15:12:55   Log-Likelihood:                -26890.\n",
      "No. Observations:                4556   AIC:                         5.380e+04\n",
      "Df Residuals:                    4546   BIC:                         5.386e+04\n",
      "Df Model:                           9                                         \n",
      "Covariance Type:            nonrobust                                         \n",
      "================================================================================\n",
      "                   coef    std err          t      P>|t|      [0.025      0.975]\n",
      "--------------------------------------------------------------------------------\n",
      "Intercept       56.2102     10.019      5.610      0.000      36.567      75.853\n",
      "Bedrooms        46.0971      1.882     24.491      0.000      42.407      49.787\n",
      "Bathrooms       60.8931      2.870     21.219      0.000      55.267      66.519\n",
      "Parkings         4.9949      1.566      3.190      0.001       1.925       8.065\n",
      "popu            -0.0011      0.000     -3.891      0.000      -0.002      -0.001\n",
      "Income           0.0029      0.000     26.740      0.000       0.003       0.003\n",
      "hos_count        3.8643      0.332     11.639      0.000       3.213       4.515\n",
      "stop_count       5.6738      1.691      3.356      0.001       2.359       8.989\n",
      "school_count    -0.9049      0.725     -1.248      0.212      -2.326       0.516\n",
      "distance        -0.1590      0.019     -8.412      0.000      -0.196      -0.122\n",
      "==============================================================================\n",
      "Omnibus:                      386.095   Durbin-Watson:                   1.308\n",
      "Prob(Omnibus):                  0.000   Jarque-Bera (JB):              547.256\n",
      "Skew:                           0.686   Prob(JB):                    1.46e-119\n",
      "Kurtosis:                       4.001   Cond. No.                     5.45e+05\n",
      "==============================================================================\n",
      "\n",
      "Notes:\n",
      "[1] Standard Errors assume that the covariance matrix of the errors is correctly specified.\n",
      "[2] The condition number is large, 5.45e+05. This might indicate that there are\n",
      "strong multicollinearity or other numerical problems.\n"
     ]
    }
   ],
   "source": [
    "print(ols_fit.summary())"
   ]
  },
  {
   "cell_type": "markdown",
   "id": "dbfd7467",
   "metadata": {},
   "source": [
    "## 2. Linear Regression"
   ]
  },
  {
   "cell_type": "code",
   "execution_count": 10,
   "id": "d0c1da86",
   "metadata": {},
   "outputs": [],
   "source": [
    "from sklearn.linear_model import LinearRegression\n",
    "from sklearn.model_selection import cross_val_score\n",
    "X = gpd_domain.loc[ : , ['Bedrooms', 'Bathrooms', 'Parkings', 'popu2022', 'Income2022', 'hos_count',\n",
    "                'stop_count', 'school_count', 'distance']]\n",
    "y = gpd_domain[['Prices']]\n",
    "\n",
    "model = LinearRegression()\n",
    "model.fit(X,y)\n",
    "\n",
    "cv = cross_val_score(model, X, y, cv=10)"
   ]
  },
  {
   "cell_type": "code",
   "execution_count": 11,
   "id": "2944d9e1",
   "metadata": {},
   "outputs": [
    {
     "data": {
      "text/plain": [
       "0.3865045171914526"
      ]
     },
     "execution_count": 11,
     "metadata": {},
     "output_type": "execute_result"
    }
   ],
   "source": [
    "statistics.mean(cv)"
   ]
  },
  {
   "cell_type": "markdown",
   "id": "5ff6cafd",
   "metadata": {},
   "source": [
    "## 3. GLM with Gamma Family"
   ]
  },
  {
   "cell_type": "code",
   "execution_count": 12,
   "id": "a3d96a6e",
   "metadata": {},
   "outputs": [
    {
     "name": "stdout",
     "output_type": "stream",
     "text": [
      "                 Generalized Linear Model Regression Results                  \n",
      "==============================================================================\n",
      "Dep. Variable:                 Prices   No. Observations:                 4556\n",
      "Model:                            GLM   Df Residuals:                     4546\n",
      "Model Family:                   Gamma   Df Model:                            9\n",
      "Link Function:          inverse_power   Scale:                        0.038188\n",
      "Method:                          IRLS   Log-Likelihood:                -26810.\n",
      "Date:                Wed, 05 Oct 2022   Deviance:                       168.75\n",
      "Time:                        15:13:02   Pearson chi2:                     174.\n",
      "No. Iterations:                    13                                         \n",
      "Covariance Type:            nonrobust                                         \n",
      "================================================================================\n",
      "                   coef    std err          z      P>|z|      [0.025      0.975]\n",
      "--------------------------------------------------------------------------------\n",
      "Intercept        0.0039   4.63e-05     85.197      0.000       0.004       0.004\n",
      "Bedrooms        -0.0002    8.7e-06    -24.554      0.000      -0.000      -0.000\n",
      "Bathrooms       -0.0002   1.25e-05    -19.521      0.000      -0.000      -0.000\n",
      "Parkings     -2.491e-05   7.15e-06     -3.482      0.000   -3.89e-05   -1.09e-05\n",
      "popu          3.845e-09   1.36e-09      2.820      0.005    1.17e-09    6.52e-09\n",
      "Income       -1.233e-08   4.76e-10    -25.897      0.000   -1.33e-08   -1.14e-08\n",
      "hos_count    -1.548e-05   1.46e-06    -10.630      0.000   -1.83e-05   -1.26e-05\n",
      "stop_count   -2.102e-05   7.61e-06     -2.762      0.006   -3.59e-05    -6.1e-06\n",
      "school_count  6.601e-06   3.55e-06      1.861      0.063   -3.51e-07    1.36e-05\n",
      "distance      1.141e-06   1.05e-07     10.917      0.000    9.36e-07    1.35e-06\n",
      "================================================================================\n"
     ]
    },
    {
     "name": "stderr",
     "output_type": "stream",
     "text": [
      "/Users/kitty/opt/anaconda3/lib/python3.8/site-packages/statsmodels/genmod/generalized_linear_model.py:293: DomainWarning: The inverse_power link function does not respect the domain of the Gamma family.\n",
      "  warnings.warn((f\"The {type(family.link).__name__} link function \"\n"
     ]
    }
   ],
   "source": [
    "from statsmodels.api import families\n",
    "\n",
    "# statsmodels glm\n",
    "gamma_fit = glm(\n",
    "    formula=\"Prices ~ Bedrooms + Bathrooms + Parkings + popu + Income + hos_count + \\\n",
    "                stop_count + school_count + distance\",\n",
    "    data=train_df, \n",
    "    family=families.Gamma()\n",
    ").fit()\n",
    "\n",
    "print(gamma_fit.summary())"
   ]
  },
  {
   "cell_type": "code",
   "execution_count": 13,
   "id": "00a45305",
   "metadata": {},
   "outputs": [
    {
     "name": "stdout",
     "output_type": "stream",
     "text": [
      "53640.787677937726\n"
     ]
    }
   ],
   "source": [
    "print(gamma_fit.aic)"
   ]
  },
  {
   "cell_type": "markdown",
   "id": "891e1683",
   "metadata": {},
   "source": [
    "### Residual vs Fitted Value Plot"
   ]
  },
  {
   "cell_type": "code",
   "execution_count": 14,
   "id": "e27bcc13",
   "metadata": {},
   "outputs": [],
   "source": [
    "%matplotlib inline\n",
    "\n",
    "plt.style.use('seaborn')\n",
    "\n",
    "plt.rc('font', size=14)\n",
    "plt.rc('figure', titlesize=18)\n",
    "plt.rc('axes', labelsize=15)\n",
    "plt.rc('axes', titlesize=18)"
   ]
  },
  {
   "cell_type": "code",
   "execution_count": 15,
   "id": "973ce134",
   "metadata": {},
   "outputs": [],
   "source": [
    "# fitted values (need a constant term for intercept)\n",
    "model_fitted_y = gamma_fit.fittedvalues\n",
    "\n",
    "# model residuals\n",
    "model_residuals = gamma_fit.resid_deviance\n",
    "\n",
    "# normalized residuals\n",
    "#model_norm_residuals = fit.get_influence().resid_studentized_internal\n",
    "\n",
    "# absolute squared normalized residuals\n",
    "#model_norm_residuals_abs_sqrt = np.sqrt(np.abs(model_norm_residuals))\n",
    "\n",
    "# absolute residuals\n",
    "model_abs_resid = np.abs(model_residuals)\n",
    "\n",
    "# leverage, from statsmodels internals\n",
    "model_leverage = gamma_fit.get_influence().hat_matrix_diag\n",
    "\n",
    "# cook's distance, from statsmodels internals\n",
    "model_cooks = gamma_fit.get_influence().cooks_distance[0]"
   ]
  },
  {
   "cell_type": "code",
   "execution_count": 16,
   "id": "e2851a12",
   "metadata": {},
   "outputs": [
    {
     "data": {
      "text/plain": [
       "Text(0, 0.5, 'Residuals')"
      ]
     },
     "execution_count": 16,
     "metadata": {},
     "output_type": "execute_result"
    },
    {
     "data": {
      "image/png": "[encoded data removed]",
      "text/plain": [
       "<Figure size 576x396 with 1 Axes>"
      ]
     },
     "metadata": {},
     "output_type": "display_data"
    }
   ],
   "source": [
    "#  Plot\n",
    "plot = sns.residplot(x=model_fitted_y, y='Prices', data=train_df, lowess=True, \n",
    "                     scatter_kws={'alpha': 0.5}, \n",
    "                     line_kws={'color': 'red', 'lw': 1, 'alpha': 0.8})\n",
    "\n",
    "# Titel and labels\n",
    "plot.set_title('Residuals vs Fitted')\n",
    "plot.set_xlabel('Fitted values')\n",
    "plot.set_ylabel('Residuals')"
   ]
  },
  {
   "cell_type": "markdown",
   "id": "2581ce11",
   "metadata": {},
   "source": [
    "## 4. GLM with Poisson Family"
   ]
  },
  {
   "cell_type": "code",
   "execution_count": 17,
   "id": "eb1f1d57",
   "metadata": {},
   "outputs": [
    {
     "name": "stdout",
     "output_type": "stream",
     "text": [
      "                 Generalized Linear Model Regression Results                  \n",
      "==============================================================================\n",
      "Dep. Variable:                 Prices   No. Observations:                 4556\n",
      "Model:                            GLM   Df Residuals:                     4546\n",
      "Model Family:                 Poisson   Df Model:                            9\n",
      "Link Function:                    log   Scale:                          1.0000\n",
      "Method:                          IRLS   Log-Likelihood:                -55488.\n",
      "Date:                Wed, 05 Oct 2022   Deviance:                       74763.\n",
      "Time:                        15:13:12   Pearson chi2:                 7.68e+04\n",
      "No. Iterations:                     4                                         \n",
      "Covariance Type:            nonrobust                                         \n",
      "================================================================================\n",
      "                   coef    std err          z      P>|z|      [0.025      0.975]\n",
      "--------------------------------------------------------------------------------\n",
      "Intercept        5.2730      0.005   1003.087      0.000       5.263       5.283\n",
      "Bedrooms         0.1010      0.001    102.440      0.000       0.099       0.103\n",
      "Bathrooms        0.1233      0.001     84.771      0.000       0.120       0.126\n",
      "Parkings         0.0111      0.001     13.699      0.000       0.010       0.013\n",
      "popu         -2.153e-06   1.53e-07    -14.104      0.000   -2.45e-06   -1.85e-06\n",
      "Income        6.071e-06   5.53e-08    109.798      0.000    5.96e-06    6.18e-06\n",
      "hos_count        0.0080      0.000     47.083      0.000       0.008       0.008\n",
      "stop_count       0.0111      0.001     12.772      0.000       0.009       0.013\n",
      "school_count    -0.0025      0.000     -6.449      0.000      -0.003      -0.002\n",
      "distance        -0.0004   1.08e-05    -40.448      0.000      -0.000      -0.000\n",
      "================================================================================\n"
     ]
    }
   ],
   "source": [
    "# statsmodels glm\n",
    "pos_fit = glm(\n",
    "    formula=\"Prices ~ Bedrooms + Bathrooms + Parkings + popu + Income + hos_count + \\\n",
    "                stop_count + school_count + distance\",\n",
    "    data=train_df, \n",
    "    family=families.Poisson()\n",
    ").fit()\n",
    "\n",
    "print(pos_fit.summary())"
   ]
  },
  {
   "cell_type": "code",
   "execution_count": 18,
   "id": "64a7f64f",
   "metadata": {},
   "outputs": [
    {
     "name": "stdout",
     "output_type": "stream",
     "text": [
      "110995.53074091046\n"
     ]
    }
   ],
   "source": [
    "print(pos_fit.aic)"
   ]
  },
  {
   "cell_type": "markdown",
   "id": "b0b51013",
   "metadata": {},
   "source": [
    "### Residual vs Fitted Value Plot"
   ]
  },
  {
   "cell_type": "code",
   "execution_count": 19,
   "id": "8f724a1c",
   "metadata": {},
   "outputs": [],
   "source": [
    "%matplotlib inline\n",
    "\n",
    "plt.style.use('seaborn') # pretty matplotlib plots\n",
    "\n",
    "plt.rc('font', size=14)\n",
    "plt.rc('figure', titlesize=18)\n",
    "plt.rc('axes', labelsize=15)\n",
    "plt.rc('axes', titlesize=18)"
   ]
  },
  {
   "cell_type": "code",
   "execution_count": 20,
   "id": "fdc3b9f6",
   "metadata": {},
   "outputs": [],
   "source": [
    "# fitted values (need a constant term for intercept)\n",
    "model_fitted_y = pos_fit.fittedvalues\n",
    "\n",
    "# model residuals\n",
    "model_residuals = pos_fit.resid_deviance\n",
    "\n",
    "# normalized residuals\n",
    "#model_norm_residuals = fit.get_influence().resid_studentized_internal\n",
    "\n",
    "# absolute squared normalized residuals\n",
    "#model_norm_residuals_abs_sqrt = np.sqrt(np.abs(model_norm_residuals))\n",
    "\n",
    "# absolute residuals\n",
    "model_abs_resid = np.abs(model_residuals)\n",
    "\n",
    "# leverage, from statsmodels internals\n",
    "model_leverage = pos_fit.get_influence().hat_matrix_diag\n",
    "\n",
    "# cook's distance, from statsmodels internals\n",
    "model_cooks = pos_fit.get_influence().cooks_distance[0]"
   ]
  },
  {
   "cell_type": "code",
   "execution_count": 21,
   "id": "8aa05cca",
   "metadata": {},
   "outputs": [
    {
     "data": {
      "text/plain": [
       "Text(0, 0.5, 'Residuals')"
      ]
     },
     "execution_count": 21,
     "metadata": {},
     "output_type": "execute_result"
    },
    {
     "data": {
      "image/png": "[encoded data removed]",
      "text/plain": [
       "<Figure size 576x396 with 1 Axes>"
      ]
     },
     "metadata": {},
     "output_type": "display_data"
    }
   ],
   "source": [
    "#  Plot\n",
    "plot = sns.residplot(x=model_fitted_y, y='Prices', data=train_df, lowess=True, \n",
    "                     scatter_kws={'alpha': 0.5}, \n",
    "                     line_kws={'color': 'red', 'lw': 1, 'alpha': 0.8})\n",
    "\n",
    "# Titel and labels\n",
    "plot.set_title('Residuals vs Fitted')\n",
    "plot.set_xlabel('Fitted values')\n",
    "plot.set_ylabel('Residuals')"
   ]
  },
  {
   "cell_type": "markdown",
   "id": "e46a9d4d",
   "metadata": {},
   "source": [
    "### QQ Plot"
   ]
  },
  {
   "cell_type": "code",
   "execution_count": 22,
   "id": "1e7d0cec",
   "metadata": {},
   "outputs": [
    {
     "data": {
      "image/png": "[encoded data removed]",
      "text/plain": [
       "<Figure size 576x396 with 1 Axes>"
      ]
     },
     "metadata": {},
     "output_type": "display_data"
    }
   ],
   "source": [
    "import scipy.stats as stats\n",
    "#fig = sm.qqplot(model_residuals,fit=True, dist='poisson')\n",
    "stats.probplot(model_residuals, dist='poisson', sparams=(2.5,), plot=plt)\n",
    "plt.show()"
   ]
  },
  {
   "cell_type": "code",
   "execution_count": 23,
   "id": "dc501378",
   "metadata": {},
   "outputs": [
    {
     "data": {
      "text/plain": [
       "0       477.089266\n",
       "1       610.611522\n",
       "2       533.758052\n",
       "3       482.558279\n",
       "4       482.532901\n",
       "           ...    \n",
       "4551    473.003977\n",
       "4552    472.558229\n",
       "4553    557.856998\n",
       "4554    558.341813\n",
       "4555    558.399595\n",
       "Length: 4556, dtype: float64"
      ]
     },
     "execution_count": 23,
     "metadata": {},
     "output_type": "execute_result"
    }
   ],
   "source": [
    "# Predict using 2025 data.\n",
    "\n",
    "pos_predict = pos_fit.predict(predict_df)\n",
    "pos_predict"
   ]
  },
  {
   "cell_type": "markdown",
   "id": "ba82cca4",
   "metadata": {},
   "source": [
    "## 5. GLM with Gaussian Family"
   ]
  },
  {
   "cell_type": "code",
   "execution_count": 24,
   "id": "8079767b",
   "metadata": {},
   "outputs": [
    {
     "name": "stdout",
     "output_type": "stream",
     "text": [
      "                 Generalized Linear Model Regression Results                  \n",
      "==============================================================================\n",
      "Dep. Variable:                 Prices   No. Observations:                 4556\n",
      "Model:                            GLM   Df Residuals:                     4546\n",
      "Model Family:                Gaussian   Df Model:                            9\n",
      "Link Function:               identity   Scale:                          7851.1\n",
      "Method:                          IRLS   Log-Likelihood:                -26890.\n",
      "Date:                Wed, 05 Oct 2022   Deviance:                   3.5691e+07\n",
      "Time:                        15:13:26   Pearson chi2:                 3.57e+07\n",
      "No. Iterations:                     3                                         \n",
      "Covariance Type:            nonrobust                                         \n",
      "================================================================================\n",
      "                   coef    std err          z      P>|z|      [0.025      0.975]\n",
      "--------------------------------------------------------------------------------\n",
      "Intercept       56.2102     10.019      5.610      0.000      36.572      75.848\n",
      "Bedrooms        46.0971      1.882     24.491      0.000      42.408      49.786\n",
      "Bathrooms       60.8931      2.870     21.219      0.000      55.269      66.518\n",
      "Parkings         4.9949      1.566      3.190      0.001       1.926       8.064\n",
      "popu            -0.0011      0.000     -3.891      0.000      -0.002      -0.001\n",
      "Income           0.0029      0.000     26.740      0.000       0.003       0.003\n",
      "hos_count        3.8643      0.332     11.639      0.000       3.214       4.515\n",
      "stop_count       5.6738      1.691      3.356      0.001       2.360       8.988\n",
      "school_count    -0.9049      0.725     -1.248      0.212      -2.326       0.516\n",
      "distance        -0.1590      0.019     -8.412      0.000      -0.196      -0.122\n",
      "================================================================================\n"
     ]
    }
   ],
   "source": [
    "gaus_fit = glm(\n",
    "    formula=\"Prices ~ Bedrooms + Bathrooms + Parkings + popu + Income + hos_count + \\\n",
    "                stop_count + school_count + distance\",\n",
    "    data=train_df, \n",
    "    family=families.Gaussian()\n",
    ").fit()\n",
    "\n",
    "print(gaus_fit.summary())"
   ]
  },
  {
   "cell_type": "code",
   "execution_count": 25,
   "id": "92c7ce9a",
   "metadata": {},
   "outputs": [
    {
     "name": "stdout",
     "output_type": "stream",
     "text": [
      "53799.433797456506\n"
     ]
    }
   ],
   "source": [
    "print(gaus_fit.aic)"
   ]
  },
  {
   "cell_type": "code",
   "execution_count": 26,
   "id": "997ca833",
   "metadata": {},
   "outputs": [],
   "source": [
    "%matplotlib inline\n",
    "\n",
    "plt.style.use('seaborn') # pretty matplotlib plots\n",
    "\n",
    "plt.rc('font', size=14)\n",
    "plt.rc('figure', titlesize=18)\n",
    "plt.rc('axes', labelsize=15)\n",
    "plt.rc('axes', titlesize=18)"
   ]
  },
  {
   "cell_type": "code",
   "execution_count": 27,
   "id": "df2b2d53",
   "metadata": {},
   "outputs": [],
   "source": [
    "# fitted values (need a constant term for intercept)\n",
    "model_fitted_y = gaus_fit.fittedvalues\n",
    "\n",
    "# model residuals\n",
    "model_residuals = gaus_fit.resid_deviance\n",
    "\n",
    "# normalized residuals\n",
    "#model_norm_residuals = fit.get_influence().resid_studentized_internal\n",
    "\n",
    "# absolute squared normalized residuals\n",
    "#model_norm_residuals_abs_sqrt = np.sqrt(np.abs(model_norm_residuals))\n",
    "\n",
    "# absolute residuals\n",
    "model_abs_resid = np.abs(model_residuals)\n",
    "\n",
    "# leverage, from statsmodels internals\n",
    "model_leverage = gaus_fit.get_influence().hat_matrix_diag\n",
    "\n",
    "# cook's distance, from statsmodels internals\n",
    "model_cooks = gaus_fit.get_influence().cooks_distance[0]"
   ]
  },
  {
   "cell_type": "markdown",
   "id": "a34ec86c",
   "metadata": {},
   "source": [
    "### Residual vs Fitted Value Plot"
   ]
  },
  {
   "cell_type": "code",
   "execution_count": 28,
   "id": "bcff57ba",
   "metadata": {},
   "outputs": [
    {
     "data": {
      "text/plain": [
       "Text(0, 0.5, 'Residuals')"
      ]
     },
     "execution_count": 28,
     "metadata": {},
     "output_type": "execute_result"
    },
    {
     "data": {
      "image/png": "[encoded data removed]",
      "text/plain": [
       "<Figure size 576x396 with 1 Axes>"
      ]
     },
     "metadata": {},
     "output_type": "display_data"
    }
   ],
   "source": [
    "#  Plot\n",
    "plot = sns.residplot(x=model_fitted_y, y='Prices', data=train_df, lowess=True, \n",
    "                     scatter_kws={'alpha': 0.5}, \n",
    "                     line_kws={'color': 'red', 'lw': 1, 'alpha': 0.8})\n",
    "\n",
    "# Titel and labels\n",
    "plot.set_title('Residuals vs Fitted')\n",
    "plot.set_xlabel('Fitted values')\n",
    "plot.set_ylabel('Residuals')"
   ]
  },
  {
   "cell_type": "markdown",
   "id": "3805acff",
   "metadata": {},
   "source": [
    "### QQ Plot"
   ]
  },
  {
   "cell_type": "code",
   "execution_count": 29,
   "id": "c27c7b32",
   "metadata": {},
   "outputs": [
    {
     "name": "stderr",
     "output_type": "stream",
     "text": [
      "/Users/kitty/opt/anaconda3/lib/python3.8/site-packages/statsmodels/graphics/gofplots.py:993: UserWarning: marker is redundantly defined by the 'marker' keyword argument and the fmt string \"bo\" (-> marker='o'). The keyword argument will take precedence.\n",
      "  ax.plot(x, y, fmt, **plot_style)\n"
     ]
    },
    {
     "data": {
      "image/png": "[encoded data removed]",
      "text/plain": [
       "<Figure size 576x396 with 1 Axes>"
      ]
     },
     "metadata": {},
     "output_type": "display_data"
    }
   ],
   "source": [
    "fig = sm.qqplot(model_residuals,line='45', fit=True)\n",
    "plt.show()"
   ]
  },
  {
   "cell_type": "code",
   "execution_count": 30,
   "id": "55f3ed0c",
   "metadata": {},
   "outputs": [
    {
     "data": {
      "text/plain": [
       "0       485.013121\n",
       "1       602.074612\n",
       "2       536.156446\n",
       "3       490.110782\n",
       "4       490.091605\n",
       "           ...    \n",
       "4551    466.901351\n",
       "4552    466.557558\n",
       "4553    554.179091\n",
       "4554    554.495851\n",
       "4555    554.533585\n",
       "Length: 4556, dtype: float64"
      ]
     },
     "execution_count": 30,
     "metadata": {},
     "output_type": "execute_result"
    }
   ],
   "source": [
    "# Predict using 2025 data.\n",
    "\n",
    "gaus_predict = gaus_fit.predict(predict_df)\n",
    "gaus_predict"
   ]
  },
  {
   "cell_type": "markdown",
   "id": "c35b19d2",
   "metadata": {},
   "source": [
    "## Ridge Regression"
   ]
  },
  {
   "cell_type": "code",
   "execution_count": 31,
   "id": "1c261474",
   "metadata": {},
   "outputs": [],
   "source": [
    "%matplotlib inline\n",
    "\n",
    "import pandas as pd\n",
    "import numpy as np\n",
    "import matplotlib.pyplot as plt\n",
    "\n",
    "from sklearn.model_selection import train_test_split\n",
    "from sklearn.linear_model import Ridge, RidgeCV, Lasso, LassoCV\n",
    "from sklearn.metrics import mean_squared_error, r2_score"
   ]
  },
  {
   "cell_type": "code",
   "execution_count": 32,
   "id": "11f2af32",
   "metadata": {},
   "outputs": [],
   "source": [
    "X = train_df.loc[ : , ['Bedrooms', 'Bathrooms', 'Parkings', 'popu', 'Income', 'hos_count',\n",
    "                'stop_count', 'school_count', 'distance']]\n",
    "y = train_df[['Prices']]"
   ]
  },
  {
   "cell_type": "code",
   "execution_count": 33,
   "id": "622c3dd4",
   "metadata": {},
   "outputs": [],
   "source": [
    "X_train, X_test , y_train, y_test = train_test_split(X, y, test_size=0.5, random_state=1)"
   ]
  },
  {
   "cell_type": "code",
   "execution_count": 34,
   "id": "1eff45b5",
   "metadata": {},
   "outputs": [],
   "source": [
    "alphas = 10**np.linspace(10,-2,100)*0.5"
   ]
  },
  {
   "cell_type": "code",
   "execution_count": 35,
   "id": "064b6fd9",
   "metadata": {},
   "outputs": [
    {
     "data": {
      "text/plain": [
       "0.008737642000038414"
      ]
     },
     "execution_count": 35,
     "metadata": {},
     "output_type": "execute_result"
    }
   ],
   "source": [
    "# Cross validation for choosing the best parameter.\n",
    "\n",
    "ridgecv = RidgeCV(alphas = alphas, scoring = 'neg_mean_squared_error', normalize = True)\n",
    "ridgecv.fit(X_train, y_train)\n",
    "ridgecv.alpha_"
   ]
  },
  {
   "cell_type": "code",
   "execution_count": 36,
   "id": "53969cb7",
   "metadata": {},
   "outputs": [
    {
     "data": {
      "text/plain": [
       "0.43509620334028865"
      ]
     },
     "execution_count": 36,
     "metadata": {},
     "output_type": "execute_result"
    }
   ],
   "source": [
    "# Train the ridge model using the parameter we derived.\n",
    "\n",
    "ridge = Ridge(alpha = ridgecv.alpha_, normalize = True)\n",
    "ridge.fit(X_train, y_train)\n",
    "mean_squared_error(y_test, ridge.predict(X_test))\n",
    "r2_score(y_test, ridge.predict(X_test))"
   ]
  },
  {
   "cell_type": "code",
   "execution_count": 37,
   "id": "40510677",
   "metadata": {},
   "outputs": [
    {
     "data": {
      "text/plain": [
       "array([[ 4.65489551e+01,  6.24823109e+01,  4.35486649e+00,\n",
       "        -1.14999628e-03,  3.06204574e-03,  3.67917379e+00,\n",
       "         5.65590328e+00, -4.53880012e-01, -1.35070914e-01]])"
      ]
     },
     "execution_count": 37,
     "metadata": {},
     "output_type": "execute_result"
    }
   ],
   "source": [
    "ridge.coef_\n",
    "#pd.Series(ridge.coef_, index = X.columns)"
   ]
  },
  {
   "cell_type": "code",
   "execution_count": 38,
   "id": "6fac085b",
   "metadata": {},
   "outputs": [],
   "source": [
    "# Predict the prices\n",
    "X = predict_df.loc[ : , ['Bedrooms', 'Bathrooms', 'Parkings', 'popu', 'Income', 'hos_count',\n",
    "                'stop_count', 'school_count', 'distance']]\n",
    "\n",
    "ridge_pred = ridge.predict(X)"
   ]
  },
  {
   "cell_type": "code",
   "execution_count": 39,
   "id": "ac1e0ebe",
   "metadata": {},
   "outputs": [
    {
     "data": {
      "text/plain": [
       "array([[488.44603547],\n",
       "       [606.25636617],\n",
       "       [539.39352538],\n",
       "       ...,\n",
       "       [557.63502664],\n",
       "       [557.90408715],\n",
       "       [557.93613939]])"
      ]
     },
     "execution_count": 39,
     "metadata": {},
     "output_type": "execute_result"
    }
   ],
   "source": [
    "ridge_pred"
   ]
  },
  {
   "cell_type": "markdown",
   "id": "ad168241",
   "metadata": {},
   "source": [
    "## Lasso Regression"
   ]
  },
  {
   "cell_type": "code",
   "execution_count": 40,
   "id": "29d10378",
   "metadata": {},
   "outputs": [
    {
     "name": "stderr",
     "output_type": "stream",
     "text": [
      "/Users/kitty/opt/anaconda3/lib/python3.8/site-packages/sklearn/utils/validation.py:63: DataConversionWarning: A column-vector y was passed when a 1d array was expected. Please change the shape of y to (n_samples, ), for example using ravel().\n",
      "  return f(*args, **kwargs)\n"
     ]
    },
    {
     "data": {
      "text/plain": [
       "0.4347370081088817"
      ]
     },
     "execution_count": 40,
     "metadata": {},
     "output_type": "execute_result"
    }
   ],
   "source": [
    "# Cross validation for choosing the best parameter.\n",
    "\n",
    "lasso = Lasso(max_iter = 10000, normalize = True)\n",
    "\n",
    "lassocv = LassoCV(alphas = None, cv = 10, max_iter = 100000, normalize = True)\n",
    "lassocv.fit(X_train, y_train)\n",
    "\n",
    "lasso = lasso.set_params(alpha=lassocv.alpha_)\n",
    "lasso.fit(X_train, y_train)\n",
    "mean_squared_error(y_test, lasso.predict(X_test))\n",
    "r2_score(y_test, lasso.predict(X_test))"
   ]
  },
  {
   "cell_type": "code",
   "execution_count": 41,
   "id": "46259251",
   "metadata": {},
   "outputs": [
    {
     "data": {
      "text/plain": [
       "Bedrooms        46.710608\n",
       "Bathrooms       62.419343\n",
       "Parkings         3.956079\n",
       "popu            -0.001093\n",
       "Income           0.003082\n",
       "hos_count        3.623783\n",
       "stop_count       5.243555\n",
       "school_count    -0.370920\n",
       "distance        -0.133027\n",
       "dtype: float64"
      ]
     },
     "execution_count": 41,
     "metadata": {},
     "output_type": "execute_result"
    }
   ],
   "source": [
    "pd.Series(lasso.coef_, index=X.columns)"
   ]
  },
  {
   "cell_type": "code",
   "execution_count": 42,
   "id": "a478b893",
   "metadata": {},
   "outputs": [],
   "source": [
    "# Predict the prices\n",
    "X = predict_df.loc[ : , ['Bedrooms', 'Bathrooms', 'Parkings', 'popu', 'Income', 'hos_count',\n",
    "                'stop_count', 'school_count', 'distance']]\n",
    "\n",
    "lasso_pred = lasso.predict(X)"
   ]
  },
  {
   "cell_type": "code",
   "execution_count": 43,
   "id": "5aa189e8",
   "metadata": {},
   "outputs": [
    {
     "data": {
      "text/plain": [
       "array([488.27124697, 605.38163918, 538.9809416 , ..., 558.72214749,\n",
       "       558.98713723, 559.01870453])"
      ]
     },
     "execution_count": 43,
     "metadata": {},
     "output_type": "execute_result"
    }
   ],
   "source": [
    "lasso_pred"
   ]
  },
  {
   "cell_type": "markdown",
   "id": "70b7069b",
   "metadata": {},
   "source": [
    "## Gradient Boosting Regressor"
   ]
  },
  {
   "cell_type": "code",
   "execution_count": 44,
   "id": "dee307a6",
   "metadata": {},
   "outputs": [
    {
     "name": "stderr",
     "output_type": "stream",
     "text": [
      "/Users/kitty/opt/anaconda3/lib/python3.8/site-packages/sklearn/utils/validation.py:63: DataConversionWarning: A column-vector y was passed when a 1d array was expected. Please change the shape of y to (n_samples, ), for example using ravel().\n",
      "  return f(*args, **kwargs)\n"
     ]
    },
    {
     "data": {
      "text/plain": [
       "GradientBoostingRegressor(max_depth=5)"
      ]
     },
     "execution_count": 44,
     "metadata": {},
     "output_type": "execute_result"
    }
   ],
   "source": [
    "from sklearn import ensemble\n",
    "\n",
    "clf = ensemble.GradientBoostingRegressor(max_depth=5, min_samples_split=2, learning_rate=0.1, loss='ls')\n",
    "clf.fit(X_train, y_train)\n"
   ]
  },
  {
   "cell_type": "code",
   "execution_count": 45,
   "id": "c594150d",
   "metadata": {},
   "outputs": [
    {
     "data": {
      "text/plain": [
       "0.5935110819397529"
      ]
     },
     "execution_count": 45,
     "metadata": {},
     "output_type": "execute_result"
    }
   ],
   "source": [
    "clf.score(X_test, y_test)"
   ]
  },
  {
   "cell_type": "code",
   "execution_count": null,
   "id": "dfc963c2",
   "metadata": {},
   "outputs": [],
   "source": []
  }
 ],
 "metadata": {
  "kernelspec": {
   "display_name": "Python 3",
   "language": "python",
   "name": "python3"
  },
  "language_info": {
   "codemirror_mode": {
    "name": "ipython",
    "version": 3
   },
   "file_extension": ".py",
   "mimetype": "text/x-python",
   "name": "python",
   "nbconvert_exporter": "python",
   "pygments_lexer": "ipython3",
   "version": "3.8.8"
  }
 },
 "nbformat": 4,
 "nbformat_minor": 5
}
