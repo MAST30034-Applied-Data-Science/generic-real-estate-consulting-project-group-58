{
 "cells": [
  {
   "cell_type": "markdown",
   "id": "68a83cc8",
   "metadata": {},
   "source": [
    "# MAST30034 Project 2\n",
    "\n",
    "## Baseline model\n",
    "\n",
    "### This project will choose linear regression as the baseline model."
   ]
  },
  {
   "cell_type": "code",
   "execution_count": 1,
   "id": "a40b2ffb",
   "metadata": {},
   "outputs": [],
   "source": [
    "import pandas as pd\n",
    "from sklearn import linear_model\n",
    "import matplotlib.pyplot as plt"
   ]
  },
  {
   "cell_type": "code",
   "execution_count": 2,
   "id": "1a1f68c1",
   "metadata": {},
   "outputs": [
    {
     "name": "stdout",
     "output_type": "stream",
     "text": [
      "The shape of x train is (3634, 13)\n",
      "The shape of y train is (3634, 1)\n",
      "The shape of x valid is (909, 13)\n",
      "The shape of y valid is (909, 1)\n",
      "The shape of x prediction is (4543, 13)\n"
     ]
    }
   ],
   "source": [
    "X_train = pd.read_csv('../data/curated/X_train.csv')\n",
    "y_train = pd.read_csv('../data/curated/y_train.csv')\n",
    "X_test = pd.read_csv('../data/curated/X_valid.csv')\n",
    "y_test = pd.read_csv('../data/curated/y_valid.csv')\n",
    "X_pred = pd.read_csv('../data/curated/X_predict.csv')\n",
    "\n",
    "X_train = X_train.drop(['Unnamed: 0', 'Unnamed: 0.1'],  axis = 1)\n",
    "X_test = X_test.drop(['Unnamed: 0', 'Unnamed: 0.1'],  axis = 1)\n",
    "X_pred = X_pred.drop(['Unnamed: 0', 'Unnamed: 0.1'],  axis = 1)\n",
    "y_train = y_train.drop(['Unnamed: 0'],  axis = 1)\n",
    "y_test = y_test.drop(['Unnamed: 0'],  axis = 1)\n",
    "\n",
    "print('The shape of x train is', X_train.shape)\n",
    "print('The shape of y train is', y_train.shape)\n",
    "print('The shape of x valid is', X_test.shape)\n",
    "print('The shape of y valid is', y_test.shape)\n",
    "print('The shape of x prediction is', X_pred.shape)"
   ]
  },
  {
   "cell_type": "code",
   "execution_count": 3,
   "id": "09d8cbbc",
   "metadata": {},
   "outputs": [],
   "source": [
    "lm = linear_model.LinearRegression()\n",
    "model = lm.fit(X_train, y_train)"
   ]
  },
  {
   "cell_type": "code",
   "execution_count": 4,
   "id": "0ec2efd6",
   "metadata": {},
   "outputs": [
    {
     "data": {
      "text/plain": [
       "Text(0, 0.5, 'Predictions')"
      ]
     },
     "execution_count": 4,
     "metadata": {},
     "output_type": "execute_result"
    },
    {
     "data": {
      "image/png": "[encoded data removed]",
      "text/plain": [
       "<Figure size 432x288 with 1 Axes>"
      ]
     },
     "metadata": {
      "needs_background": "light"
     },
     "output_type": "display_data"
    }
   ],
   "source": [
    "predictions = lm.predict(X_test)\n",
    "plt.scatter(y_test, predictions)\n",
    "plt.axis([0, 1200, 0, 1200])\n",
    "plt.xlabel('True Values')\n",
    "plt.ylabel('Predictions')"
   ]
  },
  {
   "cell_type": "code",
   "execution_count": 5,
   "id": "5a4f5b40",
   "metadata": {},
   "outputs": [
    {
     "name": "stdout",
     "output_type": "stream",
     "text": [
      "The train accuracy is 45.624%\n",
      "The validation accuracy is 44.036%\n"
     ]
    }
   ],
   "source": [
    "print('The train accuracy is',str(model.score(X_train, y_train)*100)[:6]+'%')\n",
    "print('The validation accuracy is',str(model.score(X_test, y_test)*100)[:6]+'%') "
   ]
  },
  {
   "cell_type": "code",
   "execution_count": null,
   "id": "76d0af62",
   "metadata": {},
   "outputs": [],
   "source": []
  }
 ],
 "metadata": {
  "kernelspec": {
   "display_name": "Python 3",
   "language": "python",
   "name": "python3"
  },
  "language_info": {
   "codemirror_mode": {
    "name": "ipython",
    "version": 3
   },
   "file_extension": ".py",
   "mimetype": "text/x-python",
   "name": "python",
   "nbconvert_exporter": "python",
   "pygments_lexer": "ipython3",
   "version": "3.8.8"
  }
 },
 "nbformat": 4,
 "nbformat_minor": 5
}
